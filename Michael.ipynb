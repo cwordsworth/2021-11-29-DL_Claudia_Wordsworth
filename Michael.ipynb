{
 "cells": [
  {
   "cell_type": "code",
   "execution_count": 1,
   "id": "4098f40b",
   "metadata": {},
   "outputs": [
    {
     "name": "stdout",
     "output_type": "stream",
     "text": [
      "Salamibrot\n",
      "Salamipizza\n",
      "Salamischeiben\n",
      "Käsebrot\n",
      "Käsepizza\n",
      "Käsescheiben\n",
      "Schinkenbrot\n",
      "Schinkenpizza\n",
      "Schinkenscheiben\n"
     ]
    }
   ],
   "source": [
    "# Komposita\n",
    "\n",
    "grundwortListe = [\"Salami\", \"Käse\", \"Schinken\"]\n",
    "bestimmungswortListe = [\"brot\", \"pizza\", \"scheiben\"]\n",
    "\n",
    "for grundwort in grundwortListe:\n",
    "    for bestimmungswort in bestimmungswortListe:\n",
    "        print(grundwort + bestimmungswort)\n",
    "\n"
   ]
  },
  {
   "cell_type": "code",
   "execution_count": null,
   "id": "48398810",
   "metadata": {},
   "outputs": [],
   "source": []
  }
 ],
 "metadata": {
  "kernelspec": {
   "display_name": "Python 3 (ipykernel)",
   "language": "python",
   "name": "python3"
  },
  "language_info": {
   "codemirror_mode": {
    "name": "ipython",
    "version": 3
   },
   "file_extension": ".py",
   "mimetype": "text/x-python",
   "name": "python",
   "nbconvert_exporter": "python",
   "pygments_lexer": "ipython3",
   "version": "3.9.7"
  }
 },
 "nbformat": 4,
 "nbformat_minor": 5
}
