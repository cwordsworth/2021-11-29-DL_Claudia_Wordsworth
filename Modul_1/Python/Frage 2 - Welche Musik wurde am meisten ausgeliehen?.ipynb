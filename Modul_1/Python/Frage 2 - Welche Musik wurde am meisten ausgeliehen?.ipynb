{
 "cells": [
  {
   "cell_type": "code",
   "execution_count": 1,
   "id": "4ed35c5c",
   "metadata": {},
   "outputs": [],
   "source": [
    "import urllib.request\n",
    "import pandas as pd"
   ]
  },
  {
   "cell_type": "code",
   "execution_count": 2,
   "id": "1ea7c96f",
   "metadata": {},
   "outputs": [
    {
     "data": {
      "text/plain": [
       "('checkout.csv', <http.client.HTTPMessage at 0x7f4b657d0700>)"
      ]
     },
     "execution_count": 2,
     "metadata": {},
     "output_type": "execute_result"
    }
   ],
   "source": [
    "url = \"https://data.seattle.gov/resource/tmmm-ytt6.csv?$where=checkoutyear=2019&$limit=10000\"\n",
    "checkout_file_2019 = \"checkout.csv\"\n",
    "urllib.request.urlretrieve(url, checkout_file_2019)"
   ]
  },
  {
   "cell_type": "code",
   "execution_count": 4,
   "id": "f3d54a12",
   "metadata": {},
   "outputs": [],
   "source": [
    "checkouts_2019_df = pd.read_csv(checkout_file_2019)"
   ]
  },
  {
   "cell_type": "code",
   "execution_count": 5,
   "id": "55463b68",
   "metadata": {},
   "outputs": [
    {
     "data": {
      "text/html": [
       "<div>\n",
       "<style scoped>\n",
       "    .dataframe tbody tr th:only-of-type {\n",
       "        vertical-align: middle;\n",
       "    }\n",
       "\n",
       "    .dataframe tbody tr th {\n",
       "        vertical-align: top;\n",
       "    }\n",
       "\n",
       "    .dataframe thead th {\n",
       "        text-align: right;\n",
       "    }\n",
       "</style>\n",
       "<table border=\"1\" class=\"dataframe\">\n",
       "  <thead>\n",
       "    <tr style=\"text-align: right;\">\n",
       "      <th></th>\n",
       "      <th>usageclass</th>\n",
       "      <th>checkouttype</th>\n",
       "      <th>materialtype</th>\n",
       "      <th>checkoutyear</th>\n",
       "      <th>checkoutmonth</th>\n",
       "      <th>checkouts</th>\n",
       "      <th>title</th>\n",
       "      <th>creator</th>\n",
       "      <th>subjects</th>\n",
       "      <th>publisher</th>\n",
       "      <th>publicationyear</th>\n",
       "    </tr>\n",
       "  </thead>\n",
       "  <tbody>\n",
       "    <tr>\n",
       "      <th>0</th>\n",
       "      <td>Digital</td>\n",
       "      <td>OverDrive</td>\n",
       "      <td>EBOOK</td>\n",
       "      <td>2019</td>\n",
       "      <td>1</td>\n",
       "      <td>1</td>\n",
       "      <td>Dog Diaries #6: Sweetie</td>\n",
       "      <td>Kate Klimo</td>\n",
       "      <td>Juvenile Fiction, Juvenile Literature</td>\n",
       "      <td>Random House, Inc.</td>\n",
       "      <td>2015</td>\n",
       "    </tr>\n",
       "    <tr>\n",
       "      <th>1</th>\n",
       "      <td>Digital</td>\n",
       "      <td>OverDrive</td>\n",
       "      <td>EBOOK</td>\n",
       "      <td>2019</td>\n",
       "      <td>2</td>\n",
       "      <td>1</td>\n",
       "      <td>Delicious</td>\n",
       "      <td>Lori Foster</td>\n",
       "      <td>Fiction, Literature, Romance, Short Stories</td>\n",
       "      <td>Random House, Inc.</td>\n",
       "      <td>2017</td>\n",
       "    </tr>\n",
       "    <tr>\n",
       "      <th>2</th>\n",
       "      <td>Digital</td>\n",
       "      <td>OverDrive</td>\n",
       "      <td>EBOOK</td>\n",
       "      <td>2019</td>\n",
       "      <td>2</td>\n",
       "      <td>2</td>\n",
       "      <td>A Journal of the Plague Year</td>\n",
       "      <td>Daniel Defoe</td>\n",
       "      <td>Fiction, Literature</td>\n",
       "      <td>ePenguin</td>\n",
       "      <td>2011</td>\n",
       "    </tr>\n",
       "    <tr>\n",
       "      <th>3</th>\n",
       "      <td>Digital</td>\n",
       "      <td>OverDrive</td>\n",
       "      <td>EBOOK</td>\n",
       "      <td>2019</td>\n",
       "      <td>3</td>\n",
       "      <td>2</td>\n",
       "      <td>The Cocoa Conspiracy</td>\n",
       "      <td>Andrea Penrose</td>\n",
       "      <td>Fiction, Mystery</td>\n",
       "      <td>Penguin Group (USA), Inc.</td>\n",
       "      <td>2013</td>\n",
       "    </tr>\n",
       "    <tr>\n",
       "      <th>4</th>\n",
       "      <td>Physical</td>\n",
       "      <td>Horizon</td>\n",
       "      <td>VIDEODISC</td>\n",
       "      <td>2019</td>\n",
       "      <td>3</td>\n",
       "      <td>2</td>\n",
       "      <td>India / Pilot Film and TV Productions.</td>\n",
       "      <td>NaN</td>\n",
       "      <td>India Description and travel</td>\n",
       "      <td>Escapi,</td>\n",
       "      <td>[2003]</td>\n",
       "    </tr>\n",
       "    <tr>\n",
       "      <th>...</th>\n",
       "      <td>...</td>\n",
       "      <td>...</td>\n",
       "      <td>...</td>\n",
       "      <td>...</td>\n",
       "      <td>...</td>\n",
       "      <td>...</td>\n",
       "      <td>...</td>\n",
       "      <td>...</td>\n",
       "      <td>...</td>\n",
       "      <td>...</td>\n",
       "      <td>...</td>\n",
       "    </tr>\n",
       "    <tr>\n",
       "      <th>9995</th>\n",
       "      <td>Digital</td>\n",
       "      <td>OverDrive</td>\n",
       "      <td>AUDIOBOOK</td>\n",
       "      <td>2019</td>\n",
       "      <td>1</td>\n",
       "      <td>1</td>\n",
       "      <td>The Yugo: The Rise and Fall of the Worst Car i...</td>\n",
       "      <td>Jason Vuic</td>\n",
       "      <td>Business, Nonfiction</td>\n",
       "      <td>Tantor Media, Inc</td>\n",
       "      <td>2012</td>\n",
       "    </tr>\n",
       "    <tr>\n",
       "      <th>9996</th>\n",
       "      <td>Physical</td>\n",
       "      <td>Horizon</td>\n",
       "      <td>BOOK</td>\n",
       "      <td>2019</td>\n",
       "      <td>1</td>\n",
       "      <td>1</td>\n",
       "      <td>The hero and the crown / Robin McKinley.</td>\n",
       "      <td>McKinley, Robin</td>\n",
       "      <td>Fantasy</td>\n",
       "      <td>Greenwillow Books,</td>\n",
       "      <td>[1985]</td>\n",
       "    </tr>\n",
       "    <tr>\n",
       "      <th>9997</th>\n",
       "      <td>Physical</td>\n",
       "      <td>Horizon</td>\n",
       "      <td>BOOK</td>\n",
       "      <td>2019</td>\n",
       "      <td>1</td>\n",
       "      <td>1</td>\n",
       "      <td>The deeds of the disturber / Elizabeth Peters.</td>\n",
       "      <td>Peters, Elizabeth, 1927-2013</td>\n",
       "      <td>Peabody Amelia Fictitious character Fiction, W...</td>\n",
       "      <td>Harper,</td>\n",
       "      <td>2011.</td>\n",
       "    </tr>\n",
       "    <tr>\n",
       "      <th>9998</th>\n",
       "      <td>Digital</td>\n",
       "      <td>OverDrive</td>\n",
       "      <td>AUDIOBOOK</td>\n",
       "      <td>2019</td>\n",
       "      <td>1</td>\n",
       "      <td>2</td>\n",
       "      <td>Bull Mountain (Unabridged)</td>\n",
       "      <td>Brian Panowich</td>\n",
       "      <td>Fiction, Literature</td>\n",
       "      <td>Recorded Books, LLC</td>\n",
       "      <td>2018</td>\n",
       "    </tr>\n",
       "    <tr>\n",
       "      <th>9999</th>\n",
       "      <td>Physical</td>\n",
       "      <td>Horizon</td>\n",
       "      <td>VIDEODISC</td>\n",
       "      <td>2019</td>\n",
       "      <td>1</td>\n",
       "      <td>13</td>\n",
       "      <td>Ninjago, masters of Spinjitzu.</td>\n",
       "      <td>NaN</td>\n",
       "      <td>Ninja Juvenile drama, LEGO toys Juvenile drama...</td>\n",
       "      <td>Warner Home Video,</td>\n",
       "      <td>[2011]</td>\n",
       "    </tr>\n",
       "  </tbody>\n",
       "</table>\n",
       "<p>10000 rows × 11 columns</p>\n",
       "</div>"
      ],
      "text/plain": [
       "     usageclass checkouttype materialtype  checkoutyear  checkoutmonth  \\\n",
       "0       Digital    OverDrive        EBOOK          2019              1   \n",
       "1       Digital    OverDrive        EBOOK          2019              2   \n",
       "2       Digital    OverDrive        EBOOK          2019              2   \n",
       "3       Digital    OverDrive        EBOOK          2019              3   \n",
       "4      Physical      Horizon    VIDEODISC          2019              3   \n",
       "...         ...          ...          ...           ...            ...   \n",
       "9995    Digital    OverDrive    AUDIOBOOK          2019              1   \n",
       "9996   Physical      Horizon         BOOK          2019              1   \n",
       "9997   Physical      Horizon         BOOK          2019              1   \n",
       "9998    Digital    OverDrive    AUDIOBOOK          2019              1   \n",
       "9999   Physical      Horizon    VIDEODISC          2019              1   \n",
       "\n",
       "      checkouts                                              title  \\\n",
       "0             1                            Dog Diaries #6: Sweetie   \n",
       "1             1                                          Delicious   \n",
       "2             2                       A Journal of the Plague Year   \n",
       "3             2                               The Cocoa Conspiracy   \n",
       "4             2             India / Pilot Film and TV Productions.   \n",
       "...         ...                                                ...   \n",
       "9995          1  The Yugo: The Rise and Fall of the Worst Car i...   \n",
       "9996          1           The hero and the crown / Robin McKinley.   \n",
       "9997          1     The deeds of the disturber / Elizabeth Peters.   \n",
       "9998          2                         Bull Mountain (Unabridged)   \n",
       "9999         13                     Ninjago, masters of Spinjitzu.   \n",
       "\n",
       "                           creator  \\\n",
       "0                       Kate Klimo   \n",
       "1                      Lori Foster   \n",
       "2                     Daniel Defoe   \n",
       "3                   Andrea Penrose   \n",
       "4                              NaN   \n",
       "...                            ...   \n",
       "9995                    Jason Vuic   \n",
       "9996               McKinley, Robin   \n",
       "9997  Peters, Elizabeth, 1927-2013   \n",
       "9998                Brian Panowich   \n",
       "9999                           NaN   \n",
       "\n",
       "                                               subjects  \\\n",
       "0                 Juvenile Fiction, Juvenile Literature   \n",
       "1           Fiction, Literature, Romance, Short Stories   \n",
       "2                                   Fiction, Literature   \n",
       "3                                      Fiction, Mystery   \n",
       "4                          India Description and travel   \n",
       "...                                                 ...   \n",
       "9995                               Business, Nonfiction   \n",
       "9996                                            Fantasy   \n",
       "9997  Peabody Amelia Fictitious character Fiction, W...   \n",
       "9998                                Fiction, Literature   \n",
       "9999  Ninja Juvenile drama, LEGO toys Juvenile drama...   \n",
       "\n",
       "                      publisher publicationyear  \n",
       "0            Random House, Inc.            2015  \n",
       "1            Random House, Inc.            2017  \n",
       "2                      ePenguin            2011  \n",
       "3     Penguin Group (USA), Inc.            2013  \n",
       "4                       Escapi,          [2003]  \n",
       "...                         ...             ...  \n",
       "9995          Tantor Media, Inc            2012  \n",
       "9996         Greenwillow Books,          [1985]  \n",
       "9997                    Harper,           2011.  \n",
       "9998        Recorded Books, LLC            2018  \n",
       "9999         Warner Home Video,          [2011]  \n",
       "\n",
       "[10000 rows x 11 columns]"
      ]
     },
     "execution_count": 5,
     "metadata": {},
     "output_type": "execute_result"
    }
   ],
   "source": [
    "checkouts_2019_df"
   ]
  },
  {
   "cell_type": "code",
   "execution_count": 6,
   "id": "b3e7aad5",
   "metadata": {},
   "outputs": [
    {
     "data": {
      "text/plain": [
       "array(['EBOOK', 'VIDEODISC', 'AUDIOBOOK', 'BOOK', 'SOUNDDISC', 'VIDEO',\n",
       "       'SOUNDREC', 'REGPRINT', 'MAGAZINE', 'CR', 'MUSIC', 'ATLAS',\n",
       "       'SOUNDDISC, VIDEODISC', 'ER', 'ER, SOUNDDISC', 'VISUAL'],\n",
       "      dtype=object)"
      ]
     },
     "execution_count": 6,
     "metadata": {},
     "output_type": "execute_result"
    }
   ],
   "source": [
    "checkouts_2019_df[\"materialtype\"].unique()"
   ]
  },
  {
   "cell_type": "markdown",
   "id": "fd6c624c",
   "metadata": {},
   "source": [
    "### Wie häufig kommen musikalische Ressourcen im Dataframe vor?"
   ]
  },
  {
   "cell_type": "code",
   "execution_count": 11,
   "id": "391efc73",
   "metadata": {},
   "outputs": [
    {
     "data": {
      "text/plain": [
       "BOOK                    4743\n",
       "EBOOK                   2480\n",
       "AUDIOBOOK               1038\n",
       "SOUNDDISC                838\n",
       "VIDEODISC                833\n",
       "MUSIC                     21\n",
       "REGPRINT                  12\n",
       "SOUNDDISC, VIDEODISC       8\n",
       "MAGAZINE                   6\n",
       "VIDEO                      5\n",
       "SOUNDREC                   4\n",
       "CR                         4\n",
       "ER                         4\n",
       "ER, SOUNDDISC              2\n",
       "ATLAS                      1\n",
       "VISUAL                     1\n",
       "Name: materialtype, dtype: int64"
      ]
     },
     "execution_count": 11,
     "metadata": {},
     "output_type": "execute_result"
    }
   ],
   "source": [
    "checkouts_2019_df[\"materialtype\"].value_counts()"
   ]
  },
  {
   "cell_type": "markdown",
   "id": "da71a8e7",
   "metadata": {},
   "source": [
    "### Welche Musik wurde am meisten ausgeliehen?"
   ]
  },
  {
   "cell_type": "code",
   "execution_count": 13,
   "id": "23c181d9",
   "metadata": {},
   "outputs": [],
   "source": [
    "\n",
    "Sounddisc_2019_df = checkouts_2019_df[(checkouts_2019_df[\"materialtype\"] == \"SOUNDDISC\")] .sort_values(\"checkouts\", ascending=False)"
   ]
  },
  {
   "cell_type": "code",
   "execution_count": 14,
   "id": "d33d32e1",
   "metadata": {},
   "outputs": [],
   "source": [
    "Sounddisc_df = Sounddisc_2019_df[[\"materialtype\", \"checkouts\", \"title\", \"creator\", \"subjects\"]]"
   ]
  },
  {
   "cell_type": "code",
   "execution_count": 15,
   "id": "c4d07774",
   "metadata": {},
   "outputs": [
    {
     "data": {
      "text/html": [
       "<div>\n",
       "<style scoped>\n",
       "    .dataframe tbody tr th:only-of-type {\n",
       "        vertical-align: middle;\n",
       "    }\n",
       "\n",
       "    .dataframe tbody tr th {\n",
       "        vertical-align: top;\n",
       "    }\n",
       "\n",
       "    .dataframe thead th {\n",
       "        text-align: right;\n",
       "    }\n",
       "</style>\n",
       "<table border=\"1\" class=\"dataframe\">\n",
       "  <thead>\n",
       "    <tr style=\"text-align: right;\">\n",
       "      <th></th>\n",
       "      <th>materialtype</th>\n",
       "      <th>checkouts</th>\n",
       "      <th>title</th>\n",
       "      <th>creator</th>\n",
       "      <th>subjects</th>\n",
       "    </tr>\n",
       "  </thead>\n",
       "  <tbody>\n",
       "    <tr>\n",
       "      <th>425</th>\n",
       "      <td>SOUNDDISC</td>\n",
       "      <td>43</td>\n",
       "      <td>Wanderer / Cat Power.</td>\n",
       "      <td>Cat Power, 1972-</td>\n",
       "      <td>Popular music 2011 2020, Rock music 2011 2020,...</td>\n",
       "    </tr>\n",
       "    <tr>\n",
       "      <th>9216</th>\n",
       "      <td>SOUNDDISC</td>\n",
       "      <td>37</td>\n",
       "      <td>The Beatles ; and, Esher demos.</td>\n",
       "      <td>Beatles</td>\n",
       "      <td>Rock music 1961 1970, Rock music</td>\n",
       "    </tr>\n",
       "    <tr>\n",
       "      <th>2451</th>\n",
       "      <td>SOUNDDISC</td>\n",
       "      <td>27</td>\n",
       "      <td>Origins / Imagine Dragons.</td>\n",
       "      <td>Imagine Dragons (Musical group)</td>\n",
       "      <td>Rock music 2011 2020, Rock music</td>\n",
       "    </tr>\n",
       "    <tr>\n",
       "      <th>2638</th>\n",
       "      <td>SOUNDDISC</td>\n",
       "      <td>25</td>\n",
       "      <td>Suspiria : music for the Luca Guadagnino film ...</td>\n",
       "      <td>Yorke, Thom</td>\n",
       "      <td>Motion picture music, Motion picture music</td>\n",
       "    </tr>\n",
       "    <tr>\n",
       "      <th>1337</th>\n",
       "      <td>SOUNDDISC</td>\n",
       "      <td>22</td>\n",
       "      <td>7 / Beach House.</td>\n",
       "      <td>Beach House (Musical group)</td>\n",
       "      <td>Rock music 2011 2020, Rock music</td>\n",
       "    </tr>\n",
       "    <tr>\n",
       "      <th>...</th>\n",
       "      <td>...</td>\n",
       "      <td>...</td>\n",
       "      <td>...</td>\n",
       "      <td>...</td>\n",
       "      <td>...</td>\n",
       "    </tr>\n",
       "    <tr>\n",
       "      <th>4300</th>\n",
       "      <td>SOUNDDISC</td>\n",
       "      <td>1</td>\n",
       "      <td>Collapse into now / R.E.M.</td>\n",
       "      <td>R.E.M. (Musical group)</td>\n",
       "      <td>Rock music 2011 2020</td>\n",
       "    </tr>\n",
       "    <tr>\n",
       "      <th>4317</th>\n",
       "      <td>SOUNDDISC</td>\n",
       "      <td>1</td>\n",
       "      <td>Christmas is the time to say I love you / Kath...</td>\n",
       "      <td>McPhee, Katharine, 1984-</td>\n",
       "      <td>Christmas music, Carols English</td>\n",
       "    </tr>\n",
       "    <tr>\n",
       "      <th>4341</th>\n",
       "      <td>SOUNDDISC</td>\n",
       "      <td>1</td>\n",
       "      <td>Songs of faith and devotion / Depeche Mode.</td>\n",
       "      <td>Depeche Mode (Musical group)</td>\n",
       "      <td>Popular music 1991 2000, Rock music 1991 2000,...</td>\n",
       "    </tr>\n",
       "    <tr>\n",
       "      <th>4373</th>\n",
       "      <td>SOUNDDISC</td>\n",
       "      <td>1</td>\n",
       "      <td>Poison love / Buddy Miller.</td>\n",
       "      <td>Miller, Buddy, 1952-</td>\n",
       "      <td>Country music 1991 2000</td>\n",
       "    </tr>\n",
       "    <tr>\n",
       "      <th>9994</th>\n",
       "      <td>SOUNDDISC</td>\n",
       "      <td>1</td>\n",
       "      <td>Bob Wills and his Texas Playboys in concert.</td>\n",
       "      <td>NaN</td>\n",
       "      <td>Country music</td>\n",
       "    </tr>\n",
       "  </tbody>\n",
       "</table>\n",
       "<p>838 rows × 5 columns</p>\n",
       "</div>"
      ],
      "text/plain": [
       "     materialtype  checkouts  \\\n",
       "425     SOUNDDISC         43   \n",
       "9216    SOUNDDISC         37   \n",
       "2451    SOUNDDISC         27   \n",
       "2638    SOUNDDISC         25   \n",
       "1337    SOUNDDISC         22   \n",
       "...           ...        ...   \n",
       "4300    SOUNDDISC          1   \n",
       "4317    SOUNDDISC          1   \n",
       "4341    SOUNDDISC          1   \n",
       "4373    SOUNDDISC          1   \n",
       "9994    SOUNDDISC          1   \n",
       "\n",
       "                                                  title  \\\n",
       "425                               Wanderer / Cat Power.   \n",
       "9216                    The Beatles ; and, Esher demos.   \n",
       "2451                         Origins / Imagine Dragons.   \n",
       "2638  Suspiria : music for the Luca Guadagnino film ...   \n",
       "1337                                   7 / Beach House.   \n",
       "...                                                 ...   \n",
       "4300                         Collapse into now / R.E.M.   \n",
       "4317  Christmas is the time to say I love you / Kath...   \n",
       "4341        Songs of faith and devotion / Depeche Mode.   \n",
       "4373                        Poison love / Buddy Miller.   \n",
       "9994       Bob Wills and his Texas Playboys in concert.   \n",
       "\n",
       "                              creator  \\\n",
       "425                  Cat Power, 1972-   \n",
       "9216                          Beatles   \n",
       "2451  Imagine Dragons (Musical group)   \n",
       "2638                      Yorke, Thom   \n",
       "1337      Beach House (Musical group)   \n",
       "...                               ...   \n",
       "4300           R.E.M. (Musical group)   \n",
       "4317         McPhee, Katharine, 1984-   \n",
       "4341     Depeche Mode (Musical group)   \n",
       "4373             Miller, Buddy, 1952-   \n",
       "9994                              NaN   \n",
       "\n",
       "                                               subjects  \n",
       "425   Popular music 2011 2020, Rock music 2011 2020,...  \n",
       "9216                   Rock music 1961 1970, Rock music  \n",
       "2451                   Rock music 2011 2020, Rock music  \n",
       "2638         Motion picture music, Motion picture music  \n",
       "1337                   Rock music 2011 2020, Rock music  \n",
       "...                                                 ...  \n",
       "4300                               Rock music 2011 2020  \n",
       "4317                    Christmas music, Carols English  \n",
       "4341  Popular music 1991 2000, Rock music 1991 2000,...  \n",
       "4373                            Country music 1991 2000  \n",
       "9994                                      Country music  \n",
       "\n",
       "[838 rows x 5 columns]"
      ]
     },
     "execution_count": 15,
     "metadata": {},
     "output_type": "execute_result"
    }
   ],
   "source": [
    "Sounddisc_df"
   ]
  },
  {
   "cell_type": "markdown",
   "id": "b3f8e833",
   "metadata": {},
   "source": [
    "### Welche Musikrichtung wurde am meisten gehört?"
   ]
  },
  {
   "cell_type": "code",
   "execution_count": 21,
   "id": "bb57915e",
   "metadata": {},
   "outputs": [
    {
     "data": {
      "text/plain": [
       "Rock music 2011 2020, Rock music          26\n",
       "Rock music 2001 2010                      25\n",
       "Rock music 2011 2020                      20\n",
       "Popular music 2011 2020, Popular music    16\n",
       "Rock music 1971 1980                      12\n",
       "Name: subjects, dtype: int64"
      ]
     },
     "execution_count": 21,
     "metadata": {},
     "output_type": "execute_result"
    }
   ],
   "source": [
    "Sounddisc_df[\"subjects\"].value_counts().head(5)"
   ]
  },
  {
   "cell_type": "code",
   "execution_count": 22,
   "id": "168f4d66",
   "metadata": {},
   "outputs": [],
   "source": [
    "Sounddisc_subjects_df = Sounddisc_df.groupby(\"subjects\").sum().sort_values(\"checkouts\", ascending = False)"
   ]
  },
  {
   "cell_type": "code",
   "execution_count": 23,
   "id": "6e2a71de",
   "metadata": {},
   "outputs": [
    {
     "data": {
      "text/html": [
       "<div>\n",
       "<style scoped>\n",
       "    .dataframe tbody tr th:only-of-type {\n",
       "        vertical-align: middle;\n",
       "    }\n",
       "\n",
       "    .dataframe tbody tr th {\n",
       "        vertical-align: top;\n",
       "    }\n",
       "\n",
       "    .dataframe thead th {\n",
       "        text-align: right;\n",
       "    }\n",
       "</style>\n",
       "<table border=\"1\" class=\"dataframe\">\n",
       "  <thead>\n",
       "    <tr style=\"text-align: right;\">\n",
       "      <th></th>\n",
       "      <th>checkouts</th>\n",
       "    </tr>\n",
       "    <tr>\n",
       "      <th>subjects</th>\n",
       "      <th></th>\n",
       "    </tr>\n",
       "  </thead>\n",
       "  <tbody>\n",
       "    <tr>\n",
       "      <th>Rock music 2011 2020, Rock music</th>\n",
       "      <td>98</td>\n",
       "    </tr>\n",
       "    <tr>\n",
       "      <th>Popular music 2011 2020, Rock music 2011 2020, Popular music, Rock music</th>\n",
       "      <td>83</td>\n",
       "    </tr>\n",
       "    <tr>\n",
       "      <th>Popular music 2011 2020, Popular music</th>\n",
       "      <td>65</td>\n",
       "    </tr>\n",
       "    <tr>\n",
       "      <th>Motion picture music, Motion picture music</th>\n",
       "      <td>45</td>\n",
       "    </tr>\n",
       "    <tr>\n",
       "      <th>Rock music 1961 1970, Rock music</th>\n",
       "      <td>42</td>\n",
       "    </tr>\n",
       "  </tbody>\n",
       "</table>\n",
       "</div>"
      ],
      "text/plain": [
       "                                                    checkouts\n",
       "subjects                                                     \n",
       "Rock music 2011 2020, Rock music                           98\n",
       "Popular music 2011 2020, Rock music 2011 2020, ...         83\n",
       "Popular music 2011 2020, Popular music                     65\n",
       "Motion picture music, Motion picture music                 45\n",
       "Rock music 1961 1970, Rock music                           42"
      ]
     },
     "execution_count": 23,
     "metadata": {},
     "output_type": "execute_result"
    }
   ],
   "source": [
    "Sounddisc_subjects_df.head(5)"
   ]
  },
  {
   "cell_type": "code",
   "execution_count": 24,
   "id": "a257bf6b",
   "metadata": {},
   "outputs": [],
   "source": [
    "%matplotlib inline"
   ]
  },
  {
   "cell_type": "code",
   "execution_count": 25,
   "id": "40642d96",
   "metadata": {},
   "outputs": [
    {
     "data": {
      "text/plain": [
       "<AxesSubplot:xlabel='subjects'>"
      ]
     },
     "execution_count": 25,
     "metadata": {},
     "output_type": "execute_result"
    },
    {
     "data": {
      "image/png": "[encoded data removed]",
      "text/plain": [
       "<Figure size 432x288 with 1 Axes>"
      ]
     },
     "metadata": {
      "needs_background": "light"
     },
     "output_type": "display_data"
    }
   ],
   "source": [
    "Sounddisc_subjects_df.head(5).plot(kind=\"bar\", color=\"green\")"
   ]
  },
  {
   "cell_type": "markdown",
   "id": "7a3d54db",
   "metadata": {},
   "source": [
    "### Gibt es einen Künstler oder eine Band, die besonders oft in der Bibliothek vorkommt und besondersbeliebt ist?"
   ]
  },
  {
   "cell_type": "code",
   "execution_count": 26,
   "id": "580f1a07",
   "metadata": {},
   "outputs": [
    {
     "data": {
      "text/plain": [
       "Bach, Johann Sebastian, 1685-1750       5\n",
       "Patterson, James, 1947-                 4\n",
       "Petty, Tom                              3\n",
       "Baldacci, David                         3\n",
       "Verdi, Giuseppe, 1813-1901              3\n",
       "                                       ..\n",
       "Cortés, Marco.                          1\n",
       "Steep Canyon Rangers (Musical group)    1\n",
       "Clapton, Eric                           1\n",
       "Rudd, Xavier                            1\n",
       "Miller, Buddy, 1952-                    1\n",
       "Name: creator, Length: 702, dtype: int64"
      ]
     },
     "execution_count": 26,
     "metadata": {},
     "output_type": "execute_result"
    }
   ],
   "source": [
    "Sounddisc_df[\"creator\"].value_counts()"
   ]
  },
  {
   "cell_type": "code",
   "execution_count": 28,
   "id": "73a2cbf1",
   "metadata": {},
   "outputs": [
    {
     "data": {
      "text/html": [
       "<div>\n",
       "<style scoped>\n",
       "    .dataframe tbody tr th:only-of-type {\n",
       "        vertical-align: middle;\n",
       "    }\n",
       "\n",
       "    .dataframe tbody tr th {\n",
       "        vertical-align: top;\n",
       "    }\n",
       "\n",
       "    .dataframe thead th {\n",
       "        text-align: right;\n",
       "    }\n",
       "</style>\n",
       "<table border=\"1\" class=\"dataframe\">\n",
       "  <thead>\n",
       "    <tr style=\"text-align: right;\">\n",
       "      <th></th>\n",
       "      <th>checkouts</th>\n",
       "    </tr>\n",
       "    <tr>\n",
       "      <th>creator</th>\n",
       "      <th></th>\n",
       "    </tr>\n",
       "  </thead>\n",
       "  <tbody>\n",
       "    <tr>\n",
       "      <th>Cat Power, 1972-</th>\n",
       "      <td>43</td>\n",
       "    </tr>\n",
       "    <tr>\n",
       "      <th>Beatles</th>\n",
       "      <td>39</td>\n",
       "    </tr>\n",
       "    <tr>\n",
       "      <th>Imagine Dragons (Musical group)</th>\n",
       "      <td>27</td>\n",
       "    </tr>\n",
       "    <tr>\n",
       "      <th>Yorke, Thom</th>\n",
       "      <td>25</td>\n",
       "    </tr>\n",
       "    <tr>\n",
       "      <th>Beach House (Musical group)</th>\n",
       "      <td>22</td>\n",
       "    </tr>\n",
       "  </tbody>\n",
       "</table>\n",
       "</div>"
      ],
      "text/plain": [
       "                                 checkouts\n",
       "creator                                   \n",
       "Cat Power, 1972-                        43\n",
       "Beatles                                 39\n",
       "Imagine Dragons (Musical group)         27\n",
       "Yorke, Thom                             25\n",
       "Beach House (Musical group)             22"
      ]
     },
     "execution_count": 28,
     "metadata": {},
     "output_type": "execute_result"
    }
   ],
   "source": [
    "Sounddisc_df.groupby(\"creator\").sum().sort_values(\"checkouts\", ascending=False).head(5)"
   ]
  },
  {
   "cell_type": "raw",
   "id": "b7c68009",
   "metadata": {},
   "source": []
  },
  {
   "cell_type": "raw",
   "id": "3ccfe04d",
   "metadata": {},
   "source": []
  }
 ],
 "metadata": {
  "kernelspec": {
   "display_name": "Python 3 (ipykernel)",
   "language": "python",
   "name": "python3"
  },
  "language_info": {
   "codemirror_mode": {
    "name": "ipython",
    "version": 3
   },
   "file_extension": ".py",
   "mimetype": "text/x-python",
   "name": "python",
   "nbconvert_exporter": "python",
   "pygments_lexer": "ipython3",
   "version": "3.9.7"
  }
 },
 "nbformat": 4,
 "nbformat_minor": 5
}
