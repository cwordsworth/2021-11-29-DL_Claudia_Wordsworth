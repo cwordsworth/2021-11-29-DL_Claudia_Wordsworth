{
 "cells": [
  {
   "cell_type": "markdown",
   "id": "75db44f0",
   "metadata": {},
   "source": [
    "# Projektaufgabe: Deskriptive Statistik und Visualisierungen:"
   ]
  },
  {
   "cell_type": "markdown",
   "id": "f67f1d37",
   "metadata": {},
   "source": [
    "## 1.) Leihen ältere Benutzer im Schnitt mehr Medien aus?"
   ]
  },
  {
   "cell_type": "code",
   "execution_count": 1,
   "id": "2d316c16",
   "metadata": {},
   "outputs": [],
   "source": [
    "#Importieren der nötigen Module und der Daten:\n",
    "import pandas as pd\n",
    "import seaborn as sns\n",
    "import matplotlib.pyplot as plt\n",
    "import numpy as np\n",
    "# matplotlib inline\n",
    "sns.set()\n",
    "\n",
    "df = pd.read_csv(\"../data/Library_Usage.csv\")\n",
    "\n",
    "df_Checkouts = df[[\"Age Range\", \"Total Checkouts\"]]\n"
   ]
  },
  {
   "cell_type": "code",
   "execution_count": 2,
   "id": "3326f198",
   "metadata": {},
   "outputs": [
    {
     "data": {
      "text/plain": [
       "25 to 34 years       91083\n",
       "35 to 44 years       67390\n",
       "10 to 19 years       58944\n",
       "45 to 54 years       52492\n",
       "0 to 9 years         38242\n",
       "65 to 74 years       30141\n",
       "20 to 24 years       29761\n",
       "55 to 59 years       21230\n",
       "60 to 64 years       19800\n",
       "75 years and over    14150\n",
       "Name: Age Range, dtype: int64"
      ]
     },
     "execution_count": 2,
     "metadata": {},
     "output_type": "execute_result"
    }
   ],
   "source": [
    "#Als erste schaue ich mir die Häufigkeitsverteilung der verschiedenen Altersgruppen an:\n",
    "df_Checkouts[\"Age Range\"].value_counts()"
   ]
  },
  {
   "cell_type": "markdown",
   "id": "4e5d0764",
   "metadata": {},
   "source": [
    "Bei dem Merkmal der Altergruppen handelt es sich um ordinale Werte. Für die Fragestellung hilft uns das allerdings, da man so die älteren Altergruppen gut mit den jüngeren vergleichen kann. Ich verstehe die Frage so, dass nach dem generellen Ausleihverhalten gefragt wird. Darum nehme ich das Merkmal \"Total Checkouts\". Das Merkmal \"Total Checkouts\" ist ein metrischer Wert, von dem man den Durchschnitt errechnen kann."
   ]
  },
  {
   "cell_type": "markdown",
   "id": "98ab8a9a",
   "metadata": {},
   "source": [
    "Die meisten Benutzer sind zwischen 25 und 44 Jahre. Aber leihen sie auch am meisten aus?  "
   ]
  },
  {
   "cell_type": "code",
   "execution_count": 3,
   "id": "97ac9cd7",
   "metadata": {},
   "outputs": [
    {
     "data": {
      "text/html": [
       "<div>\n",
       "<style scoped>\n",
       "    .dataframe tbody tr th:only-of-type {\n",
       "        vertical-align: middle;\n",
       "    }\n",
       "\n",
       "    .dataframe tbody tr th {\n",
       "        vertical-align: top;\n",
       "    }\n",
       "\n",
       "    .dataframe thead th {\n",
       "        text-align: right;\n",
       "    }\n",
       "</style>\n",
       "<table border=\"1\" class=\"dataframe\">\n",
       "  <thead>\n",
       "    <tr style=\"text-align: right;\">\n",
       "      <th></th>\n",
       "      <th>Total Checkouts</th>\n",
       "    </tr>\n",
       "    <tr>\n",
       "      <th>Age Range</th>\n",
       "      <th></th>\n",
       "    </tr>\n",
       "  </thead>\n",
       "  <tbody>\n",
       "    <tr>\n",
       "      <th>0 to 9 years</th>\n",
       "      <td>135.988390</td>\n",
       "    </tr>\n",
       "    <tr>\n",
       "      <th>10 to 19 years</th>\n",
       "      <td>236.651042</td>\n",
       "    </tr>\n",
       "    <tr>\n",
       "      <th>20 to 24 years</th>\n",
       "      <td>108.856692</td>\n",
       "    </tr>\n",
       "    <tr>\n",
       "      <th>25 to 34 years</th>\n",
       "      <td>50.472415</td>\n",
       "    </tr>\n",
       "    <tr>\n",
       "      <th>35 to 44 years</th>\n",
       "      <td>110.665351</td>\n",
       "    </tr>\n",
       "    <tr>\n",
       "      <th>45 to 54 years</th>\n",
       "      <td>193.190848</td>\n",
       "    </tr>\n",
       "    <tr>\n",
       "      <th>55 to 59 years</th>\n",
       "      <td>242.424258</td>\n",
       "    </tr>\n",
       "    <tr>\n",
       "      <th>60 to 64 years</th>\n",
       "      <td>271.689646</td>\n",
       "    </tr>\n",
       "    <tr>\n",
       "      <th>65 to 74 years</th>\n",
       "      <td>294.584519</td>\n",
       "    </tr>\n",
       "    <tr>\n",
       "      <th>75 years and over</th>\n",
       "      <td>325.002191</td>\n",
       "    </tr>\n",
       "  </tbody>\n",
       "</table>\n",
       "</div>"
      ],
      "text/plain": [
       "                   Total Checkouts\n",
       "Age Range                         \n",
       "0 to 9 years            135.988390\n",
       "10 to 19 years          236.651042\n",
       "20 to 24 years          108.856692\n",
       "25 to 34 years           50.472415\n",
       "35 to 44 years          110.665351\n",
       "45 to 54 years          193.190848\n",
       "55 to 59 years          242.424258\n",
       "60 to 64 years          271.689646\n",
       "65 to 74 years          294.584519\n",
       "75 years and over       325.002191"
      ]
     },
     "execution_count": 3,
     "metadata": {},
     "output_type": "execute_result"
    }
   ],
   "source": [
    "#Zuerst errechne ich den Mittelwert der Gesamtausleihen auf die Altersgruppen verteilt: \n",
    "df_Checkouts[[\"Age Range\", \"Total Checkouts\"]].groupby(by=\"Age Range\").mean()\n"
   ]
  },
  {
   "cell_type": "code",
   "execution_count": 4,
   "id": "98db2cd4",
   "metadata": {},
   "outputs": [
    {
     "data": {
      "text/html": [
       "<div>\n",
       "<style scoped>\n",
       "    .dataframe tbody tr th:only-of-type {\n",
       "        vertical-align: middle;\n",
       "    }\n",
       "\n",
       "    .dataframe tbody tr th {\n",
       "        vertical-align: top;\n",
       "    }\n",
       "\n",
       "    .dataframe thead th {\n",
       "        text-align: right;\n",
       "    }\n",
       "</style>\n",
       "<table border=\"1\" class=\"dataframe\">\n",
       "  <thead>\n",
       "    <tr style=\"text-align: right;\">\n",
       "      <th></th>\n",
       "      <th>Total Checkouts</th>\n",
       "    </tr>\n",
       "    <tr>\n",
       "      <th>Age Range</th>\n",
       "      <th></th>\n",
       "    </tr>\n",
       "  </thead>\n",
       "  <tbody>\n",
       "    <tr>\n",
       "      <th>0 to 9 years</th>\n",
       "      <td>30.0</td>\n",
       "    </tr>\n",
       "    <tr>\n",
       "      <th>10 to 19 years</th>\n",
       "      <td>49.0</td>\n",
       "    </tr>\n",
       "    <tr>\n",
       "      <th>20 to 24 years</th>\n",
       "      <td>6.0</td>\n",
       "    </tr>\n",
       "    <tr>\n",
       "      <th>25 to 34 years</th>\n",
       "      <td>6.0</td>\n",
       "    </tr>\n",
       "    <tr>\n",
       "      <th>35 to 44 years</th>\n",
       "      <td>18.0</td>\n",
       "    </tr>\n",
       "    <tr>\n",
       "      <th>45 to 54 years</th>\n",
       "      <td>30.0</td>\n",
       "    </tr>\n",
       "    <tr>\n",
       "      <th>55 to 59 years</th>\n",
       "      <td>30.0</td>\n",
       "    </tr>\n",
       "    <tr>\n",
       "      <th>60 to 64 years</th>\n",
       "      <td>34.0</td>\n",
       "    </tr>\n",
       "    <tr>\n",
       "      <th>65 to 74 years</th>\n",
       "      <td>42.0</td>\n",
       "    </tr>\n",
       "    <tr>\n",
       "      <th>75 years and over</th>\n",
       "      <td>63.5</td>\n",
       "    </tr>\n",
       "  </tbody>\n",
       "</table>\n",
       "</div>"
      ],
      "text/plain": [
       "                   Total Checkouts\n",
       "Age Range                         \n",
       "0 to 9 years                  30.0\n",
       "10 to 19 years                49.0\n",
       "20 to 24 years                 6.0\n",
       "25 to 34 years                 6.0\n",
       "35 to 44 years                18.0\n",
       "45 to 54 years                30.0\n",
       "55 to 59 years                30.0\n",
       "60 to 64 years                34.0\n",
       "65 to 74 years                42.0\n",
       "75 years and over             63.5"
      ]
     },
     "execution_count": 4,
     "metadata": {},
     "output_type": "execute_result"
    }
   ],
   "source": [
    "#Ich weiss von vorherigen Berrechnungen, dass die Streuung der Total Checkouts hoch ist. \n",
    "#Darum berrechne ich auch den Median:\n",
    "df_Checkouts[[\"Age Range\", \"Total Checkouts\"]].groupby(by=\"Age Range\").median()"
   ]
  },
  {
   "cell_type": "code",
   "execution_count": 5,
   "id": "f834489f",
   "metadata": {},
   "outputs": [
    {
     "data": {
      "text/plain": [
       "0.90     424.0\n",
       "0.95     816.0\n",
       "0.99    2118.0\n",
       "Name: Total Checkouts, dtype: float64"
      ]
     },
     "execution_count": 5,
     "metadata": {},
     "output_type": "execute_result"
    }
   ],
   "source": [
    "# Zur besseren Darstellung möchte ich die Ausreißerwerte, die über der 0.90ten Quantile liegen herausnehmen.\n",
    "#Von der Aufgabenstellung interessieren die Mittelwerte:\n",
    "df['Total Checkouts'].quantile((0.9, 0.95, 0.99))"
   ]
  },
  {
   "cell_type": "code",
   "execution_count": 6,
   "id": "6993d8c1",
   "metadata": {},
   "outputs": [
    {
     "data": {
      "text/plain": [
       "<AxesSubplot:xlabel='Total Checkouts', ylabel='Age Range'>"
      ]
     },
     "execution_count": 6,
     "metadata": {},
     "output_type": "execute_result"
    },
    {
     "data": {
      "image/png": "[encoded data removed]",
      "text/plain": [
       "<Figure size 432x288 with 1 Axes>"
      ]
     },
     "metadata": {},
     "output_type": "display_data"
    }
   ],
   "source": [
    "sort =['0 to 9 years', '10 to 19 years', '20 to 24 years', '25 to 34 years', '35 to 44 years', '45 to 54 years', '55 to 59 years', '60 to 64 years', '65 to 74 years', '75 years and over']\n",
    "sns.boxplot(x=\"Total Checkouts\", y=\"Age Range\", data=df_Checkouts[df_Checkouts[\"Total Checkouts\"]<424], order=sort, fliersize=1, whis=1.5)"
   ]
  },
  {
   "cell_type": "markdown",
   "id": "7bb6934f",
   "metadata": {},
   "source": [
    "Aus den Berechnungen läßt sich erkennen, dass nur die Gruppe der 75-jährigen und älteren Nutzer im Schnitt etwas mehr Ausleihen tätigen als die anderen Gruppen. Aber nicht wirklich viel. Besonders der Unterschied zu den Kindern ist minimal. Der Graph ist bimodal mit Gipfeln einmal bei den 10 - 19-jährigen und dann den 75-jährigen und älteren Nutzern. Was ins Auge fällt ist, dass die Nutzeraltersgruppe von 20 bis 34 Jahren deutlich am wenigsten ausleiht. "
   ]
  },
  {
   "cell_type": "markdown",
   "id": "401b0714",
   "metadata": {},
   "source": [
    "## 2.) Wie viele Nutzer möchten schriftlich informiert werden? Wie alt sind die Nutzer, die per Telefon informiert werden möchten?"
   ]
  },
  {
   "cell_type": "markdown",
   "id": "812cb8aa",
   "metadata": {},
   "source": [
    "Dazu schaue ich mir das Merkmal \"Notice Preference Definition\" an. Die \"Notice Preference Defintion\" ist ein nominales Merkmal. Es lassen sich die Häufigkeiten berechnen. "
   ]
  },
  {
   "cell_type": "code",
   "execution_count": 62,
   "id": "273bd356",
   "metadata": {},
   "outputs": [
    {
     "data": {
      "text/plain": [
       "email    323937\n",
       "phone     68172\n",
       "print     31336\n",
       "none          3\n",
       "Name: Notice Preference Definition, dtype: int64"
      ]
     },
     "execution_count": 62,
     "metadata": {},
     "output_type": "execute_result"
    }
   ],
   "source": [
    "#Wie möchten Benutzer gerne kontaktiert werden (Absolute Häufigkeit):\n",
    "df[\"Notice Preference Definition\"].value_counts()"
   ]
  },
  {
   "cell_type": "code",
   "execution_count": 54,
   "id": "4239d6c2",
   "metadata": {},
   "outputs": [
    {
     "data": {
      "text/plain": [
       "email    0.764998\n",
       "phone    0.160993\n",
       "print    0.074002\n",
       "none     0.000007\n",
       "Name: Notice Preference Definition, dtype: float64"
      ]
     },
     "execution_count": 54,
     "metadata": {},
     "output_type": "execute_result"
    }
   ],
   "source": [
    "#Relative Häufigkeit:\n",
    "df[\"Notice Preference Definition\"].value_counts(normalize=True)"
   ]
  },
  {
   "cell_type": "code",
   "execution_count": 57,
   "id": "cf21f44a",
   "metadata": {},
   "outputs": [
    {
     "data": {
      "text/plain": [
       "355273"
      ]
     },
     "execution_count": 57,
     "metadata": {},
     "output_type": "execute_result"
    }
   ],
   "source": [
    "schriftlich=df.loc[(df['Notice Preference Definition'] == \"email\")|(df['Notice Preference Definition'] == \"print\")]\n",
    "len(schriftlich)"
   ]
  },
  {
   "cell_type": "code",
   "execution_count": 60,
   "id": "6957aed4",
   "metadata": {},
   "outputs": [
    {
     "name": "stdout",
     "output_type": "stream",
     "text": [
      "355273 Benutzer möchten schriftlich benachrichtigt werden. Davon 323937 per E-mail und 31336 per Post.\n"
     ]
    }
   ],
   "source": [
    "print(str(len(schriftlich)) + \" Benutzer möchten schriftlich benachrichtigt werden. Davon 323937 per E-mail und 31336 per Post.\")"
   ]
  },
  {
   "cell_type": "code",
   "execution_count": 66,
   "id": "aae72367",
   "metadata": {},
   "outputs": [
    {
     "data": {
      "text/plain": [
       "<seaborn.axisgrid.FacetGrid at 0x7f98ccbbc5e0>"
      ]
     },
     "execution_count": 66,
     "metadata": {},
     "output_type": "execute_result"
    },
    {
     "data": {
      "image/png": "[encoded data removed]",
      "text/plain": [
       "<Figure size 360x360 with 1 Axes>"
      ]
     },
     "metadata": {},
     "output_type": "display_data"
    }
   ],
   "source": [
    "\n",
    "sns.catplot(x=\"Notice Preference Definition\",\n",
    "            data=df, kind=\"count\")"
   ]
  },
  {
   "cell_type": "markdown",
   "id": "a8b2098f",
   "metadata": {},
   "source": [
    "## Wie alt sind die Nutzer, die per Telefon informiert werden möchten?"
   ]
  },
  {
   "cell_type": "markdown",
   "id": "341bd4b4",
   "metadata": {},
   "source": [
    "Hier muss ich das ordinale Merkmal \"Age Range\" mit dem nominalen Merkmal \"Notice Preference Definition\" vergleichen. Dazu beutze ich eine Kreuztabelle. Da wir keine genauen Altersangaben haben, können nur die jeweiligen Altersgruppen miteinader verglichen werden. Ein Durchschnittsalterkann nicht bestimmt werden."
   ]
  },
  {
   "cell_type": "code",
   "execution_count": 100,
   "id": "8d9fd1d8",
   "metadata": {},
   "outputs": [
    {
     "data": {
      "text/html": [
       "<div>\n",
       "<style scoped>\n",
       "    .dataframe tbody tr th:only-of-type {\n",
       "        vertical-align: middle;\n",
       "    }\n",
       "\n",
       "    .dataframe tbody tr th {\n",
       "        vertical-align: top;\n",
       "    }\n",
       "\n",
       "    .dataframe thead th {\n",
       "        text-align: right;\n",
       "    }\n",
       "</style>\n",
       "<table border=\"1\" class=\"dataframe\">\n",
       "  <thead>\n",
       "    <tr style=\"text-align: right;\">\n",
       "      <th>Notice Preference Definition</th>\n",
       "      <th>email</th>\n",
       "      <th>none</th>\n",
       "      <th>phone</th>\n",
       "      <th>print</th>\n",
       "      <th>All</th>\n",
       "    </tr>\n",
       "    <tr>\n",
       "      <th>Age Range</th>\n",
       "      <th></th>\n",
       "      <th></th>\n",
       "      <th></th>\n",
       "      <th></th>\n",
       "      <th></th>\n",
       "    </tr>\n",
       "  </thead>\n",
       "  <tbody>\n",
       "    <tr>\n",
       "      <th>0 to 9 years</th>\n",
       "      <td>27475</td>\n",
       "      <td>2</td>\n",
       "      <td>6630</td>\n",
       "      <td>4135</td>\n",
       "      <td>38242</td>\n",
       "    </tr>\n",
       "    <tr>\n",
       "      <th>10 to 19 years</th>\n",
       "      <td>38055</td>\n",
       "      <td>0</td>\n",
       "      <td>15058</td>\n",
       "      <td>5831</td>\n",
       "      <td>58944</td>\n",
       "    </tr>\n",
       "    <tr>\n",
       "      <th>20 to 24 years</th>\n",
       "      <td>23809</td>\n",
       "      <td>1</td>\n",
       "      <td>3823</td>\n",
       "      <td>2128</td>\n",
       "      <td>29761</td>\n",
       "    </tr>\n",
       "    <tr>\n",
       "      <th>25 to 34 years</th>\n",
       "      <td>79351</td>\n",
       "      <td>0</td>\n",
       "      <td>7035</td>\n",
       "      <td>4697</td>\n",
       "      <td>91083</td>\n",
       "    </tr>\n",
       "    <tr>\n",
       "      <th>35 to 44 years</th>\n",
       "      <td>57698</td>\n",
       "      <td>0</td>\n",
       "      <td>6499</td>\n",
       "      <td>3193</td>\n",
       "      <td>67390</td>\n",
       "    </tr>\n",
       "    <tr>\n",
       "      <th>45 to 54 years</th>\n",
       "      <td>41450</td>\n",
       "      <td>0</td>\n",
       "      <td>7757</td>\n",
       "      <td>3285</td>\n",
       "      <td>52492</td>\n",
       "    </tr>\n",
       "    <tr>\n",
       "      <th>55 to 59 years</th>\n",
       "      <td>15328</td>\n",
       "      <td>0</td>\n",
       "      <td>4267</td>\n",
       "      <td>1635</td>\n",
       "      <td>21230</td>\n",
       "    </tr>\n",
       "    <tr>\n",
       "      <th>60 to 64 years</th>\n",
       "      <td>13805</td>\n",
       "      <td>0</td>\n",
       "      <td>4304</td>\n",
       "      <td>1691</td>\n",
       "      <td>19800</td>\n",
       "    </tr>\n",
       "    <tr>\n",
       "      <th>65 to 74 years</th>\n",
       "      <td>20299</td>\n",
       "      <td>0</td>\n",
       "      <td>7144</td>\n",
       "      <td>2698</td>\n",
       "      <td>30141</td>\n",
       "    </tr>\n",
       "    <tr>\n",
       "      <th>75 years and over</th>\n",
       "      <td>6508</td>\n",
       "      <td>0</td>\n",
       "      <td>5619</td>\n",
       "      <td>2023</td>\n",
       "      <td>14150</td>\n",
       "    </tr>\n",
       "    <tr>\n",
       "      <th>All</th>\n",
       "      <td>323778</td>\n",
       "      <td>3</td>\n",
       "      <td>68136</td>\n",
       "      <td>31316</td>\n",
       "      <td>423233</td>\n",
       "    </tr>\n",
       "  </tbody>\n",
       "</table>\n",
       "</div>"
      ],
      "text/plain": [
       "Notice Preference Definition   email  none  phone  print     All\n",
       "Age Range                                                       \n",
       "0 to 9 years                   27475     2   6630   4135   38242\n",
       "10 to 19 years                 38055     0  15058   5831   58944\n",
       "20 to 24 years                 23809     1   3823   2128   29761\n",
       "25 to 34 years                 79351     0   7035   4697   91083\n",
       "35 to 44 years                 57698     0   6499   3193   67390\n",
       "45 to 54 years                 41450     0   7757   3285   52492\n",
       "55 to 59 years                 15328     0   4267   1635   21230\n",
       "60 to 64 years                 13805     0   4304   1691   19800\n",
       "65 to 74 years                 20299     0   7144   2698   30141\n",
       "75 years and over               6508     0   5619   2023   14150\n",
       "All                           323778     3  68136  31316  423233"
      ]
     },
     "execution_count": 100,
     "metadata": {},
     "output_type": "execute_result"
    }
   ],
   "source": [
    "#Dazu erstelle ich eine Kreuztabelle, um die beiden Merkmale miteinander zu vergleichen:\n",
    "pd.crosstab(\n",
    "    df[\"Age Range\"],\n",
    "    df[\"Notice Preference Definition\"],\n",
    "    margins=True\n",
    ")"
   ]
  },
  {
   "cell_type": "code",
   "execution_count": 101,
   "id": "6e76a606",
   "metadata": {},
   "outputs": [
    {
     "data": {
      "text/html": [
       "<div>\n",
       "<style scoped>\n",
       "    .dataframe tbody tr th:only-of-type {\n",
       "        vertical-align: middle;\n",
       "    }\n",
       "\n",
       "    .dataframe tbody tr th {\n",
       "        vertical-align: top;\n",
       "    }\n",
       "\n",
       "    .dataframe thead th {\n",
       "        text-align: right;\n",
       "    }\n",
       "</style>\n",
       "<table border=\"1\" class=\"dataframe\">\n",
       "  <thead>\n",
       "    <tr style=\"text-align: right;\">\n",
       "      <th>Age Range</th>\n",
       "      <th>0 to 9 years</th>\n",
       "      <th>10 to 19 years</th>\n",
       "      <th>20 to 24 years</th>\n",
       "      <th>25 to 34 years</th>\n",
       "      <th>35 to 44 years</th>\n",
       "      <th>45 to 54 years</th>\n",
       "      <th>55 to 59 years</th>\n",
       "      <th>60 to 64 years</th>\n",
       "      <th>65 to 74 years</th>\n",
       "      <th>75 years and over</th>\n",
       "    </tr>\n",
       "    <tr>\n",
       "      <th>Notice Preference Definition</th>\n",
       "      <th></th>\n",
       "      <th></th>\n",
       "      <th></th>\n",
       "      <th></th>\n",
       "      <th></th>\n",
       "      <th></th>\n",
       "      <th></th>\n",
       "      <th></th>\n",
       "      <th></th>\n",
       "      <th></th>\n",
       "    </tr>\n",
       "  </thead>\n",
       "  <tbody>\n",
       "    <tr>\n",
       "      <th>False</th>\n",
       "      <td>0.089024</td>\n",
       "      <td>0.123589</td>\n",
       "      <td>0.073045</td>\n",
       "      <td>0.236690</td>\n",
       "      <td>0.171477</td>\n",
       "      <td>0.125980</td>\n",
       "      <td>0.047770</td>\n",
       "      <td>0.043639</td>\n",
       "      <td>0.064763</td>\n",
       "      <td>0.024024</td>\n",
       "    </tr>\n",
       "    <tr>\n",
       "      <th>True</th>\n",
       "      <td>0.097305</td>\n",
       "      <td>0.220999</td>\n",
       "      <td>0.056108</td>\n",
       "      <td>0.103249</td>\n",
       "      <td>0.095383</td>\n",
       "      <td>0.113846</td>\n",
       "      <td>0.062625</td>\n",
       "      <td>0.063168</td>\n",
       "      <td>0.104849</td>\n",
       "      <td>0.082467</td>\n",
       "    </tr>\n",
       "    <tr>\n",
       "      <th>All</th>\n",
       "      <td>0.090357</td>\n",
       "      <td>0.139271</td>\n",
       "      <td>0.070318</td>\n",
       "      <td>0.215208</td>\n",
       "      <td>0.159227</td>\n",
       "      <td>0.124026</td>\n",
       "      <td>0.050161</td>\n",
       "      <td>0.046783</td>\n",
       "      <td>0.071216</td>\n",
       "      <td>0.033433</td>\n",
       "    </tr>\n",
       "  </tbody>\n",
       "</table>\n",
       "</div>"
      ],
      "text/plain": [
       "Age Range                     0 to 9 years  10 to 19 years  20 to 24 years  \\\n",
       "Notice Preference Definition                                                 \n",
       "False                             0.089024        0.123589        0.073045   \n",
       "True                              0.097305        0.220999        0.056108   \n",
       "All                               0.090357        0.139271        0.070318   \n",
       "\n",
       "Age Range                     25 to 34 years  35 to 44 years  45 to 54 years  \\\n",
       "Notice Preference Definition                                                   \n",
       "False                               0.236690        0.171477        0.125980   \n",
       "True                                0.103249        0.095383        0.113846   \n",
       "All                                 0.215208        0.159227        0.124026   \n",
       "\n",
       "Age Range                     55 to 59 years  60 to 64 years  65 to 74 years  \\\n",
       "Notice Preference Definition                                                   \n",
       "False                               0.047770        0.043639        0.064763   \n",
       "True                                0.062625        0.063168        0.104849   \n",
       "All                                 0.050161        0.046783        0.071216   \n",
       "\n",
       "Age Range                     75 years and over  \n",
       "Notice Preference Definition                     \n",
       "False                                  0.024024  \n",
       "True                                   0.082467  \n",
       "All                                    0.033433  "
      ]
     },
     "execution_count": 101,
     "metadata": {},
     "output_type": "execute_result"
    }
   ],
   "source": [
    "# Prozentuale Verteilung:\n",
    "pd.crosstab(\n",
    "    df[\"Notice Preference Definition\"]==\"phone\",\n",
    "    df[\"Age Range\"],\n",
    "    margins=True, normalize=0\n",
    ")"
   ]
  },
  {
   "cell_type": "code",
   "execution_count": 102,
   "id": "d3347d4e",
   "metadata": {},
   "outputs": [
    {
     "data": {
      "text/plain": [
       "<seaborn.axisgrid.FacetGrid at 0x7f98cc456d30>"
      ]
     },
     "execution_count": 102,
     "metadata": {},
     "output_type": "execute_result"
    },
    {
     "data": {
      "image/png": "[encoded data removed]",
      "text/plain": [
       "<Figure size 1257.17x360 with 1 Axes>"
      ]
     },
     "metadata": {},
     "output_type": "display_data"
    }
   ],
   "source": [
    "sns.catplot(x=\"Age Range\", hue=\"Notice Preference Definition\", \n",
    "            data=df, kind=\"count\", palette=sns.color_palette(\"husl\", 4), aspect=3, order=sort)"
   ]
  },
  {
   "cell_type": "markdown",
   "id": "eb937768",
   "metadata": {},
   "source": [
    "## Antwort:\n",
    "\n",
    "Vor allem die Altersgruppe der 10 bis 19-jährigen möchte telefonisch benachrichtigt werden. Die Altersgruppen der Nutzer, die telefonisch benachrichtigt werden möchten, setzten sich wie folgt zusammen:\n",
    "\n",
    "- 0 bis 9 = ca. 10%,\n",
    "- 10 bis 19 = 22%,\n",
    "- 20 bis 24 = ca. 6%,\n",
    "- 25 bis 34 = ca. 10%,\n",
    "- 35 bis 44 = ca. 10%,\n",
    "- 45 bis 54 = ca. 11%,\n",
    "- 55 bis 64 = ca. 6%,\n",
    "- 65 bis 74 = ca. 6%,\n",
    "- 75 und älter = ca. 8%."
   ]
  },
  {
   "cell_type": "markdown",
   "id": "b964fddb",
   "metadata": {},
   "source": [
    "# 3. Welche Teilbibliothek hat pro Jahr die meisten Ausleihen"
   ]
  },
  {
   "cell_type": "markdown",
   "id": "4667a04c",
   "metadata": {},
   "source": [
    "Die Angaben zur Teilbibliothek sind nominale Werte, die der Ausleihen pro Jahr sind metrisch. Um die miteinander in Beziehung zu setzen, muss zuerst die Durchschnittsausleihe pro Jahr berechnent werden. "
   ]
  },
  {
   "cell_type": "code",
   "execution_count": 104,
   "id": "053184e9",
   "metadata": {},
   "outputs": [
    {
     "data": {
      "text/plain": [
       "Main Library                          124814\n",
       "Mission                                25443\n",
       "Richmond                               22475\n",
       "Chinatown                              17140\n",
       "Excelsior                              16706\n",
       "Sunset                                 15020\n",
       "Ortega                                 14456\n",
       "West Portal                            13338\n",
       "Mission Bay                            11271\n",
       "Ingleside                              10738\n",
       "Marina                                 10631\n",
       "Merced                                 10502\n",
       "Glen Park                               9811\n",
       "Parkside                                9744\n",
       "Western Addition                        9706\n",
       "Bernal Heights                          9630\n",
       "North Beach                             9162\n",
       "Eureka Valley/Harvey Milk Memorial      8708\n",
       "Portola                                 8659\n",
       "Presidio                                8652\n",
       "Bayview/Linda Brooks-Burton             8417\n",
       "Noe Valley/Sally Brunn                  8399\n",
       "Park                                    8271\n",
       "Potrero                                 7196\n",
       "Anza                                    7183\n",
       "Visitacion Valley                       6833\n",
       "Golden Gate Valley                      4381\n",
       "Ocean View                              2914\n",
       "Unknown                                 1498\n",
       "Children's Bookmobile                    807\n",
       "Library on Wheels                        782\n",
       "Branch Bookmobile (West Portal)          104\n",
       "Branch Bookmobile (Sunset)                27\n",
       "Branch Bookmobile (Excelsior)             23\n",
       "Branch Bookmobile (Marina)                 7\n",
       "Name: Home Library Definition, dtype: int64"
      ]
     },
     "execution_count": 104,
     "metadata": {},
     "output_type": "execute_result"
    }
   ],
   "source": [
    "#Als erstes schaue ich mir an, wie viele Teilbibliotheken es gibt:\n",
    "df[\"Home Library Definition\"].value_counts()"
   ]
  },
  {
   "cell_type": "code",
   "execution_count": 112,
   "id": "8064789b",
   "metadata": {},
   "outputs": [],
   "source": [
    "# Die Jahre sind in der Tabelle als String gespeichert. Zum Berechnen muss ich diese in Zahlen umwandeln.\n",
    "df[\"Circulation Active Year\"]=pd.to_numeric(df[\"Circulation Active Year\"], errors='coerce')\n",
    "# Die Mitgliedschaft pro Jahr muss nun berechnet werden\n",
    "df[\"Membership Duration Years\"] = (df[\"Circulation Active Year\"] - df[\"Year Patron Registered\"])+1\n",
    "# Die durchschnittliche Ausleihe pro Jahr berechnet sich über die Gesamtausleihen geteilt durch das Jahr\n",
    "df[\"Average Checkouts Year\"] =(df[\"Total Checkouts\"]/df[\"Membership Duration Years\"])"
   ]
  },
  {
   "cell_type": "code",
   "execution_count": 130,
   "id": "1789ba43",
   "metadata": {},
   "outputs": [
    {
     "data": {
      "text/html": [
       "<div>\n",
       "<style scoped>\n",
       "    .dataframe tbody tr th:only-of-type {\n",
       "        vertical-align: middle;\n",
       "    }\n",
       "\n",
       "    .dataframe tbody tr th {\n",
       "        vertical-align: top;\n",
       "    }\n",
       "\n",
       "    .dataframe thead th {\n",
       "        text-align: right;\n",
       "    }\n",
       "</style>\n",
       "<table border=\"1\" class=\"dataframe\">\n",
       "  <thead>\n",
       "    <tr style=\"text-align: right;\">\n",
       "      <th></th>\n",
       "      <th>Average Checkouts Year</th>\n",
       "    </tr>\n",
       "    <tr>\n",
       "      <th>Home Library Definition</th>\n",
       "      <th></th>\n",
       "    </tr>\n",
       "  </thead>\n",
       "  <tbody>\n",
       "    <tr>\n",
       "      <th>Anza</th>\n",
       "      <td>12.000000</td>\n",
       "    </tr>\n",
       "    <tr>\n",
       "      <th>Bayview/Linda Brooks-Burton</th>\n",
       "      <td>4.500000</td>\n",
       "    </tr>\n",
       "    <tr>\n",
       "      <th>Bernal Heights</th>\n",
       "      <td>8.166667</td>\n",
       "    </tr>\n",
       "    <tr>\n",
       "      <th>Branch Bookmobile (Excelsior)</th>\n",
       "      <td>18.800000</td>\n",
       "    </tr>\n",
       "    <tr>\n",
       "      <th>Branch Bookmobile (Marina)</th>\n",
       "      <td>15.714286</td>\n",
       "    </tr>\n",
       "    <tr>\n",
       "      <th>Branch Bookmobile (Sunset)</th>\n",
       "      <td>16.902098</td>\n",
       "    </tr>\n",
       "    <tr>\n",
       "      <th>Branch Bookmobile (West Portal)</th>\n",
       "      <td>8.800000</td>\n",
       "    </tr>\n",
       "    <tr>\n",
       "      <th>Children's Bookmobile</th>\n",
       "      <td>8.000000</td>\n",
       "    </tr>\n",
       "    <tr>\n",
       "      <th>Chinatown</th>\n",
       "      <td>16.500000</td>\n",
       "    </tr>\n",
       "    <tr>\n",
       "      <th>Eureka Valley/Harvey Milk Memorial</th>\n",
       "      <td>8.400000</td>\n",
       "    </tr>\n",
       "    <tr>\n",
       "      <th>Excelsior</th>\n",
       "      <td>7.400000</td>\n",
       "    </tr>\n",
       "    <tr>\n",
       "      <th>Glen Park</th>\n",
       "      <td>8.000000</td>\n",
       "    </tr>\n",
       "    <tr>\n",
       "      <th>Golden Gate Valley</th>\n",
       "      <td>7.035714</td>\n",
       "    </tr>\n",
       "    <tr>\n",
       "      <th>Ingleside</th>\n",
       "      <td>9.000000</td>\n",
       "    </tr>\n",
       "    <tr>\n",
       "      <th>Library on Wheels</th>\n",
       "      <td>7.619048</td>\n",
       "    </tr>\n",
       "    <tr>\n",
       "      <th>Main Library</th>\n",
       "      <td>5.000000</td>\n",
       "    </tr>\n",
       "    <tr>\n",
       "      <th>Marina</th>\n",
       "      <td>6.571429</td>\n",
       "    </tr>\n",
       "    <tr>\n",
       "      <th>Merced</th>\n",
       "      <td>8.666667</td>\n",
       "    </tr>\n",
       "    <tr>\n",
       "      <th>Mission</th>\n",
       "      <td>6.500000</td>\n",
       "    </tr>\n",
       "    <tr>\n",
       "      <th>Mission Bay</th>\n",
       "      <td>6.666667</td>\n",
       "    </tr>\n",
       "    <tr>\n",
       "      <th>Noe Valley/Sally Brunn</th>\n",
       "      <td>9.307692</td>\n",
       "    </tr>\n",
       "    <tr>\n",
       "      <th>North Beach</th>\n",
       "      <td>7.500000</td>\n",
       "    </tr>\n",
       "    <tr>\n",
       "      <th>Ocean View</th>\n",
       "      <td>8.414286</td>\n",
       "    </tr>\n",
       "    <tr>\n",
       "      <th>Ortega</th>\n",
       "      <td>15.071429</td>\n",
       "    </tr>\n",
       "    <tr>\n",
       "      <th>Park</th>\n",
       "      <td>7.851648</td>\n",
       "    </tr>\n",
       "    <tr>\n",
       "      <th>Parkside</th>\n",
       "      <td>10.000000</td>\n",
       "    </tr>\n",
       "    <tr>\n",
       "      <th>Portola</th>\n",
       "      <td>12.354167</td>\n",
       "    </tr>\n",
       "    <tr>\n",
       "      <th>Potrero</th>\n",
       "      <td>7.000000</td>\n",
       "    </tr>\n",
       "    <tr>\n",
       "      <th>Presidio</th>\n",
       "      <td>7.083333</td>\n",
       "    </tr>\n",
       "    <tr>\n",
       "      <th>Richmond</th>\n",
       "      <td>10.333333</td>\n",
       "    </tr>\n",
       "    <tr>\n",
       "      <th>Sunset</th>\n",
       "      <td>10.666667</td>\n",
       "    </tr>\n",
       "    <tr>\n",
       "      <th>Unknown</th>\n",
       "      <td>13.875000</td>\n",
       "    </tr>\n",
       "    <tr>\n",
       "      <th>Visitacion Valley</th>\n",
       "      <td>9.400000</td>\n",
       "    </tr>\n",
       "    <tr>\n",
       "      <th>West Portal</th>\n",
       "      <td>9.500000</td>\n",
       "    </tr>\n",
       "    <tr>\n",
       "      <th>Western Addition</th>\n",
       "      <td>8.285714</td>\n",
       "    </tr>\n",
       "  </tbody>\n",
       "</table>\n",
       "</div>"
      ],
      "text/plain": [
       "                                    Average Checkouts Year\n",
       "Home Library Definition                                   \n",
       "Anza                                             12.000000\n",
       "Bayview/Linda Brooks-Burton                       4.500000\n",
       "Bernal Heights                                    8.166667\n",
       "Branch Bookmobile (Excelsior)                    18.800000\n",
       "Branch Bookmobile (Marina)                       15.714286\n",
       "Branch Bookmobile (Sunset)                       16.902098\n",
       "Branch Bookmobile (West Portal)                   8.800000\n",
       "Children's Bookmobile                             8.000000\n",
       "Chinatown                                        16.500000\n",
       "Eureka Valley/Harvey Milk Memorial                8.400000\n",
       "Excelsior                                         7.400000\n",
       "Glen Park                                         8.000000\n",
       "Golden Gate Valley                                7.035714\n",
       "Ingleside                                         9.000000\n",
       "Library on Wheels                                 7.619048\n",
       "Main Library                                      5.000000\n",
       "Marina                                            6.571429\n",
       "Merced                                            8.666667\n",
       "Mission                                           6.500000\n",
       "Mission Bay                                       6.666667\n",
       "Noe Valley/Sally Brunn                            9.307692\n",
       "North Beach                                       7.500000\n",
       "Ocean View                                        8.414286\n",
       "Ortega                                           15.071429\n",
       "Park                                              7.851648\n",
       "Parkside                                         10.000000\n",
       "Portola                                          12.354167\n",
       "Potrero                                           7.000000\n",
       "Presidio                                          7.083333\n",
       "Richmond                                         10.333333\n",
       "Sunset                                           10.666667\n",
       "Unknown                                          13.875000\n",
       "Visitacion Valley                                 9.400000\n",
       "West Portal                                       9.500000\n",
       "Western Addition                                  8.285714"
      ]
     },
     "execution_count": 130,
     "metadata": {},
     "output_type": "execute_result"
    }
   ],
   "source": [
    "df[[\"Home Library Definition\", \"Average Checkouts Year\"]].groupby(by=\"Home Library Definition\").median()"
   ]
  },
  {
   "cell_type": "markdown",
   "id": "8c956166",
   "metadata": {},
   "source": [
    "## Antwort: "
   ]
  },
  {
   "cell_type": "markdown",
   "id": "b0300d65",
   "metadata": {},
   "source": [
    "Interessanterweise hat die Hauptbibliothek mit einem Median von 5 Ausleihen pro Jahr einer der wenigsten Ausleihen. Am meisten werden in den mobilen Buchbibliotheken, in Chinatown und in Ortega pro Jahr ausgeliehen. "
   ]
  },
  {
   "cell_type": "code",
   "execution_count": null,
   "id": "34eb2662",
   "metadata": {},
   "outputs": [],
   "source": []
  }
 ],
 "metadata": {
  "kernelspec": {
   "display_name": "Python 3 (ipykernel)",
   "language": "python",
   "name": "python3"
  },
  "language_info": {
   "codemirror_mode": {
    "name": "ipython",
    "version": 3
   },
   "file_extension": ".py",
   "mimetype": "text/x-python",
   "name": "python",
   "nbconvert_exporter": "python",
   "pygments_lexer": "ipython3",
   "version": "3.9.7"
  }
 },
 "nbformat": 4,
 "nbformat_minor": 5
}
