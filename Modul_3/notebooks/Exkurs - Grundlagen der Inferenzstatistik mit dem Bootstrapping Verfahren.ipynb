{
 "cells": [
  {
   "cell_type": "code",
   "execution_count": 1,
   "id": "4a395bfe",
   "metadata": {},
   "outputs": [
    {
     "data": {
      "text/plain": [
       "11.857142857142858"
      ]
     },
     "execution_count": 1,
     "metadata": {},
     "output_type": "execute_result"
    }
   ],
   "source": [
    "#Erstellen einer Stichprobe:\n",
    "import pandas as pd\n",
    "x = pd.Series([21, 13,  8, 14, 10, 12,  5])\n",
    "x.mean()\n"
   ]
  },
  {
   "cell_type": "code",
   "execution_count": 2,
   "id": "197a6707",
   "metadata": {},
   "outputs": [
    {
     "data": {
      "text/plain": [
       "2     8\n",
       "6     5\n",
       "1    13\n",
       "3    14\n",
       "2     8\n",
       "5    12\n",
       "0    21\n",
       "dtype: int64"
      ]
     },
     "execution_count": 2,
     "metadata": {},
     "output_type": "execute_result"
    }
   ],
   "source": [
    "#Bootstrap-Stichproben erhält man, in dem man die N-Werte immer wieder zurücklegt (replace=True)\n",
    "x.sample(n=len(x), replace=True) \n"
   ]
  },
  {
   "cell_type": "code",
   "execution_count": 3,
   "id": "a4a671bc",
   "metadata": {},
   "outputs": [],
   "source": [
    "#Bootstrapping-Verfahren mit 10000 Simulationen S=10000. Mit einer for Schleife wird die Simulation wiederholt:\n",
    "x_means = []\n",
    "S=10000\n",
    "for i in range(S):\n",
    "    x_mean = x.sample(n=len(x), replace=True).mean()\n",
    "    x_means.append(x_mean)\n"
   ]
  },
  {
   "cell_type": "code",
   "execution_count": 4,
   "id": "e58e7d37",
   "metadata": {},
   "outputs": [
    {
     "name": "stderr",
     "output_type": "stream",
     "text": [
      "/home/claudia/anaconda3/lib/python3.9/site-packages/seaborn/distributions.py:2619: FutureWarning: `distplot` is a deprecated function and will be removed in a future version. Please adapt your code to use either `displot` (a figure-level function with similar flexibility) or `histplot` (an axes-level function for histograms).\n",
      "  warnings.warn(msg, FutureWarning)\n"
     ]
    },
    {
     "data": {
      "text/plain": [
       "<AxesSubplot:>"
      ]
     },
     "execution_count": 4,
     "metadata": {},
     "output_type": "execute_result"
    },
    {
     "data": {
      "image/png": "[encoded data removed]",
      "text/plain": [
       "<Figure size 432x288 with 1 Axes>"
      ]
     },
     "metadata": {},
     "output_type": "display_data"
    }
   ],
   "source": [
    "#Die Mittelwerte jeder Simulation werden in der Liste x_means abgespeichert. Die Liste enthält nun eine empirische Stichprobenverteilung des Mittelwerts. \n",
    "#Nun kannst Du Dir die Verteilung des Stichproben-Mittelwertes beispielsweise in einem Histogramm ansehen:\n",
    "\n",
    "#matplotlib inline\n",
    "import seaborn as sns\n",
    "sns.set()\n",
    "sns.distplot(x_means, kde=False, bins=35)\n"
   ]
  },
  {
   "cell_type": "code",
   "execution_count": 5,
   "id": "a2d34e8b",
   "metadata": {},
   "outputs": [
    {
     "data": {
      "text/plain": [
       "0.3034"
      ]
     },
     "execution_count": 5,
     "metadata": {},
     "output_type": "execute_result"
    }
   ],
   "source": [
    "#Wie viele Mittelwerte liegen zwischen 9 und 11?\n",
    "x_means = pd.Series(x_means)\n",
    "x_means.between(9,11).mean()\n"
   ]
  },
  {
   "cell_type": "code",
   "execution_count": 6,
   "id": "9f526941",
   "metadata": {},
   "outputs": [
    {
     "data": {
      "text/plain": [
       "0.05     9.000000\n",
       "0.95    14.857143\n",
       "dtype: float64"
      ]
     },
     "execution_count": 6,
     "metadata": {},
     "output_type": "execute_result"
    }
   ],
   "source": [
    "#Die Stichprobenmittelwerte aus der Bootstraping-Simulation werden zuerst in eine Series umgewandelt. Mit der Funktion quantile können die Quantile der Stichprobenverteilung bestimmt werden. \n",
    "#Sie entsprechen dem geschätzten Konfidenzintervall zum Signifikanzniveau α.\n",
    "x_means = pd.Series(x_means)\n",
    "alpha = 0.10\n",
    "x_means.quantile((alpha/2,1-alpha/2))\n"
   ]
  },
  {
   "cell_type": "markdown",
   "id": "5cd94f21",
   "metadata": {},
   "source": [
    "## Signifikanz:\n",
    "\n",
    "Von einem signifikanten Unterschied spricht man, wenn die Differenz zwischen den Mittelwerten zweier Stichproben so groß ist, dass es sehr Unwahrscheinlich ist, dass dieser Unterschied alleine aufgrund der rein zufälligen Schwankungen durch die Stichprobenziehung entstanden ist."
   ]
  },
  {
   "cell_type": "markdown",
   "id": "6466112f",
   "metadata": {},
   "source": [
    "Wir können das bisherige Bootstrapping-Verfahren auch hier anwenden, um die Stichprobenverteilung von dxy=x¯−y¯ zu schätzen. In jeder Simulation s=1,…,S erstellen wir eine Bootstrapping-Stichprobe von x und y und berechnen darauf die Differenz dxy über die Mittelwerte.\n",
    "Im Signifikanzniveau α=0.05 erhalten wir mit den Quantilen dα2 und d1−α2 das 95%-Konfidenzintervall für die Mittelwertdifferenz. Mit einer Wahrscheinlichkeit von 1−α=95% überdeckt das Konfidenzintervall damit den unbekannten Populationsparameter Δxy=μx−μy.\n",
    "Liegt das Konfidenz-Intervall für die Differenz zweier Mittelwerte ausschließlich im positiven oder negativem Bereich (also außerhalb des Nullpunktes), können wir daraus schließen, dass die beiden Stichproben mit hoher Evidenz unterschiedlichen Populationen mit verschiedenen Mittelwerten entstammen. Die aufgestellte Hypothese kann deswegen abgelehnt werden.\n",
    "\n",
    "Überdeckt das KI hingegen die Null, so kann nicht ausgeschlossen werden, dass die wahre Mittelwertdifferenz Null ist. In diesem Fall können wir die Hypothese nicht ablehnen."
   ]
  },
  {
   "cell_type": "code",
   "execution_count": 7,
   "id": "e2c7c6e5",
   "metadata": {},
   "outputs": [
    {
     "name": "stdout",
     "output_type": "stream",
     "text": [
      "(4.5, 6.5)\n"
     ]
    },
    {
     "data": {
      "text/plain": [
       "0.025   -4.3\n",
       "0.975    0.4\n",
       "dtype: float64"
      ]
     },
     "execution_count": 7,
     "metadata": {},
     "output_type": "execute_result"
    }
   ],
   "source": [
    "import pandas as pd\n",
    "\n",
    "alpha = 0.05\n",
    "S=10000\n",
    "\n",
    "x = pd.Series([3, 3, 5, 8, 7, 3, 2, 5, 8, 1])\n",
    "y = pd.Series([3, 10, 9, 8, 2, 3, 6, 7, 11, 6])\n",
    "\n",
    "print((x.mean(), y.mean()))\n",
    "\n",
    "dxy = []\n",
    "for i in range(S):\n",
    "    x_mean = x.sample(n=len(x), replace=True).mean()\n",
    "    y_mean = y.sample(n=len(y), replace=True).mean()\n",
    "    dxy.append(x_mean - y_mean )\n",
    "\n",
    "pd.Series(dxy).quantile((alpha/2, 1-alpha/2))\n"
   ]
  },
  {
   "cell_type": "code",
   "execution_count": null,
   "id": "b3b01c33",
   "metadata": {},
   "outputs": [],
   "source": []
  }
 ],
 "metadata": {
  "kernelspec": {
   "display_name": "Python 3 (ipykernel)",
   "language": "python",
   "name": "python3"
  },
  "language_info": {
   "codemirror_mode": {
    "name": "ipython",
    "version": 3
   },
   "file_extension": ".py",
   "mimetype": "text/x-python",
   "name": "python",
   "nbconvert_exporter": "python",
   "pygments_lexer": "ipython3",
   "version": "3.9.7"
  }
 },
 "nbformat": 4,
 "nbformat_minor": 5
}
