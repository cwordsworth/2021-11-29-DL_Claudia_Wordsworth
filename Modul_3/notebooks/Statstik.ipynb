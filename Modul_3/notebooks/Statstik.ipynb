{
 "cells": [
  {
   "cell_type": "markdown",
   "id": "8bfbf505",
   "metadata": {},
   "source": [
    "# Häufigkeiten"
   ]
  },
  {
   "cell_type": "code",
   "execution_count": 2,
   "id": "a9e32046",
   "metadata": {},
   "outputs": [
    {
     "data": {
      "text/plain": [
       "25 to 34 years       91083\n",
       "35 to 44 years       67390\n",
       "10 to 19 years       58944\n",
       "45 to 54 years       52492\n",
       "0 to 9 years         38242\n",
       "65 to 74 years       30141\n",
       "20 to 24 years       29761\n",
       "55 to 59 years       21230\n",
       "60 to 64 years       19800\n",
       "75 years and over    14150\n",
       "Name: Age Range, dtype: int64"
      ]
     },
     "execution_count": 2,
     "metadata": {},
     "output_type": "execute_result"
    }
   ],
   "source": [
    "#Kategoriale Variablen werden mit Häufigkeitstabellen beschrieben. \n",
    "#Mit der Funktion value_counts() kann man sich absolute Häufigkeitstabellen ausgeben lassen:\n",
    "\n",
    "import pandas as pd\n",
    "df = pd.read_csv(\"../data/Library_Usage.csv\")\n",
    "df['Age Range'].value_counts()\n"
   ]
  },
  {
   "cell_type": "code",
   "execution_count": 2,
   "id": "d66066f8",
   "metadata": {
    "scrolled": true
   },
   "outputs": [
    {
     "data": {
      "text/plain": [
       "25 to 34 years       0.215208\n",
       "35 to 44 years       0.159227\n",
       "10 to 19 years       0.139271\n",
       "45 to 54 years       0.124026\n",
       "0 to 9 years         0.090357\n",
       "65 to 74 years       0.071216\n",
       "20 to 24 years       0.070318\n",
       "55 to 59 years       0.050161\n",
       "60 to 64 years       0.046783\n",
       "75 years and over    0.033433\n",
       "Name: Age Range, dtype: float64"
      ]
     },
     "execution_count": 2,
     "metadata": {},
     "output_type": "execute_result"
    }
   ],
   "source": [
    "#Mit dem zusätzlichen Argumentaufruf normalize=True werden relative Häufigkeiten (Anzahl der Beobachtung durch Gesamtzahl) berechnet:\n",
    "df['Age Range'].value_counts(normalize=True)"
   ]
  },
  {
   "cell_type": "code",
   "execution_count": 7,
   "id": "b9bc7279",
   "metadata": {},
   "outputs": [
    {
     "data": {
      "text/plain": [
       "0    25 to 34 years\n",
       "dtype: object"
      ]
     },
     "execution_count": 7,
     "metadata": {},
     "output_type": "execute_result"
    }
   ],
   "source": [
    "#Modus sind dabei die Merkmalsausprägungen, die die meisten Beobachtungen besitzen:\n",
    "age_mode = df['Age Range'].mode()\n",
    "age_mode"
   ]
  },
  {
   "cell_type": "markdown",
   "id": "5af21372",
   "metadata": {},
   "source": [
    "## Aufgabe 3.1."
   ]
  },
  {
   "cell_type": "code",
   "execution_count": 8,
   "id": "938e471a",
   "metadata": {},
   "outputs": [
    {
     "data": {
      "text/plain": [
       "2003    69257\n",
       "2015    53951\n",
       "2014    51902\n",
       "2013    48251\n",
       "2012    37395\n",
       "2011    26531\n",
       "2016    26288\n",
       "2010    24321\n",
       "2009    22307\n",
       "2008    20518\n",
       "2007    13289\n",
       "2006    10776\n",
       "2005     9668\n",
       "2004     8994\n",
       "Name: Year Patron Registered, dtype: int64"
      ]
     },
     "execution_count": 8,
     "metadata": {},
     "output_type": "execute_result"
    }
   ],
   "source": [
    "#1. Erstelle eine Häufigkeitsverteilung für die Variable 'Year Patron Registered'. \n",
    "df['Year Patron Registered'].value_counts()"
   ]
  },
  {
   "cell_type": "code",
   "execution_count": null,
   "id": "4a20c31d",
   "metadata": {},
   "outputs": [],
   "source": []
  },
  {
   "cell_type": "code",
   "execution_count": 9,
   "id": "2c9c08ed",
   "metadata": {},
   "outputs": [
    {
     "data": {
      "text/plain": [
       "2003    0.163555\n",
       "2015    0.127409\n",
       "2014    0.122570\n",
       "2013    0.113948\n",
       "2012    0.088311\n",
       "2011    0.062655\n",
       "2016    0.062081\n",
       "2010    0.057436\n",
       "2009    0.052679\n",
       "2008    0.048455\n",
       "2007    0.031383\n",
       "2006    0.025448\n",
       "2005    0.022832\n",
       "2004    0.021240\n",
       "Name: Year Patron Registered, dtype: float64"
      ]
     },
     "execution_count": 9,
     "metadata": {},
     "output_type": "execute_result"
    }
   ],
   "source": [
    "#Wieviel Prozent der Kunden wurden 2013 im System registriert? Wie viele in den kommenden Jahren? Was fällt Dir auf?\n",
    "df['Year Patron Registered'].value_counts(normalize=True)"
   ]
  },
  {
   "cell_type": "markdown",
   "id": "2fb965c7",
   "metadata": {},
   "source": [
    "11 % der Kunden wurden 2013 registriert. Die Anzahl der Registrierungen stieg in den folgenden Jahren. 2016 dann gehen die Zahlen wieder zurück, was allerdings daran liegen kann, bis wann die Daten reichen."
   ]
  },
  {
   "cell_type": "code",
   "execution_count": 37,
   "id": "a0165f78",
   "metadata": {},
   "outputs": [
    {
     "data": {
      "text/plain": [
       "25 to 34 years       0.215606\n",
       "35 to 44 years       0.159146\n",
       "10 to 19 years       0.139200\n",
       "45 to 54 years       0.123963\n",
       "0 to 9 years         0.090311\n",
       "65 to 74 years       0.071180\n",
       "20 to 24 years       0.070283\n",
       "55 to 59 years       0.050136\n",
       "60 to 64 years       0.046759\n",
       "75 years and over    0.033416\n",
       "Name: Age Range, dtype: float64"
      ]
     },
     "execution_count": 37,
     "metadata": {},
     "output_type": "execute_result"
    }
   ],
   "source": [
    "#Wieviel Prozent der Kunden sind zwischen 25 und 34 Jahre\n",
    "df['Age Range'].value_counts(normalize=True)"
   ]
  },
  {
   "cell_type": "code",
   "execution_count": 34,
   "id": "0b53d0e1",
   "metadata": {},
   "outputs": [
    {
     "data": {
      "text/plain": [
       "'2'"
      ]
     },
     "execution_count": 34,
     "metadata": {},
     "output_type": "execute_result"
    }
   ],
   "source": [
    "#Ersetze die fehlenden Werte in der Spalte Age Range durch den Modus dieser Spalte. \n",
    "#Nutze dazu die Funktion DataFrame.fillna \n",
    "age_mode = df['Age Range'].mode() [0]\n",
    "age_mode [0]"
   ]
  },
  {
   "cell_type": "code",
   "execution_count": 35,
   "id": "d01959e5",
   "metadata": {},
   "outputs": [],
   "source": [
    "df['Age Range'].fillna(age_mode, inplace=True)"
   ]
  },
  {
   "cell_type": "markdown",
   "id": "6b4c3799",
   "metadata": {},
   "source": [
    "Denkst Du, es handelt sich dabei um eine gute Methode, fehlende Werte zu ersetzen? \n",
    "Welche anderen Strategien fallen Dir ein?\n",
    "\n",
    "- Nein, dadurch könnte es zu einer Datenverzerrung kommen. Besser wäre es die Zeilen ohne Werte bei der Berechnung ganz rauszunehmen."
   ]
  },
  {
   "cell_type": "code",
   "execution_count": 36,
   "id": "ef5dce7b",
   "metadata": {},
   "outputs": [
    {
     "data": {
      "text/plain": [
       "0"
      ]
     },
     "execution_count": 36,
     "metadata": {},
     "output_type": "execute_result"
    }
   ],
   "source": [
    "df['Age Range'].isna().sum()"
   ]
  },
  {
   "cell_type": "markdown",
   "id": "7980eab5",
   "metadata": {},
   "source": [
    "# Lagemaß"
   ]
  },
  {
   "cell_type": "markdown",
   "id": "6d83ab96",
   "metadata": {},
   "source": [
    "Median, Mittelwert und Quantil"
   ]
  },
  {
   "cell_type": "code",
   "execution_count": 38,
   "id": "1d6a74a6",
   "metadata": {},
   "outputs": [
    {
     "data": {
      "text/plain": [
       "161.98209697530748"
      ]
     },
     "execution_count": 38,
     "metadata": {},
     "output_type": "execute_result"
    }
   ],
   "source": [
    "#Mittelwert:\n",
    "\n",
    "import pandas as pd\n",
    "df = pd.read_csv(\"../data/Library_Usage.csv\")\n",
    "df['Total Checkouts'].mean()\n"
   ]
  },
  {
   "cell_type": "code",
   "execution_count": 39,
   "id": "04f3d4e4",
   "metadata": {},
   "outputs": [
    {
     "data": {
      "text/plain": [
       "19.0"
      ]
     },
     "execution_count": 39,
     "metadata": {},
     "output_type": "execute_result"
    }
   ],
   "source": [
    "#Median: Wert der Beobachtung, die die nach der Größe geordnete Messreihe in genau zwei gleich große Teile teilt. \n",
    "#Für eine gerade Anzahl an Beobachtung wird der Mittelwert der zwei Beobachtungen an den Stellen n/2 und n/2+1 genommen\n",
    "\n",
    "df['Total Checkouts'].median()\n"
   ]
  },
  {
   "cell_type": "code",
   "execution_count": 3,
   "id": "bd15d2a7",
   "metadata": {},
   "outputs": [
    {
     "data": {
      "text/plain": [
       "0.25      2.0\n",
       "0.60     39.0\n",
       "0.75    113.0\n",
       "Name: Total Checkouts, dtype: float64"
      ]
     },
     "execution_count": 3,
     "metadata": {},
     "output_type": "execute_result"
    }
   ],
   "source": [
    "#Quantil: Der Median teilt eine geordnete Verteilung in zwei gleiche Teile. \n",
    "#Quantilen teilen geordnete Verteilungen je nach Definition in einem Verhältnis 3:1 (x0.75) d.h. dass 75% der Beobachtungen \n",
    "#kleiner als x0.75 und 25% größer sind. Das x0.25 Quantil teilt die Reihe im Verhältnis 1:3.\n",
    "#Hier sind 25% der Beobachtungen kleiner und 75% größer als der Wert x0.25.\n",
    "df['Total Checkouts'].quantile(q=[0.25, 0.5, 0.75])\n"
   ]
  },
  {
   "cell_type": "code",
   "execution_count": 41,
   "id": "4961055c",
   "metadata": {},
   "outputs": [
    {
     "data": {
      "text/plain": [
       "0.005       0.00\n",
       "0.995    2827.53\n",
       "Name: Total Checkouts, dtype: float64"
      ]
     },
     "execution_count": 41,
     "metadata": {},
     "output_type": "execute_result"
    }
   ],
   "source": [
    "#Um Ausreißer in einer Variablen zu entfernen bzw. zu ersetzen, \n",
    "#bietet es sich manchmal an, die größten (und oder kleinsten) α% Beobachtungen zu identifizieren:\n",
    "# identifies 0.5% of the data at both ends of the distribution\n",
    "alpha = 0.005\n",
    "df['Total Checkouts'].quantile([alpha, 1-alpha])\n"
   ]
  },
  {
   "cell_type": "code",
   "execution_count": 42,
   "id": "7f010177",
   "metadata": {},
   "outputs": [
    {
     "data": {
      "text/plain": [
       "count    423448.000000\n",
       "mean        161.982097\n",
       "std         453.703678\n",
       "min           0.000000\n",
       "25%           2.000000\n",
       "50%          19.000000\n",
       "75%         113.000000\n",
       "max       35907.000000\n",
       "Name: Total Checkouts, dtype: float64"
      ]
     },
     "execution_count": 42,
     "metadata": {},
     "output_type": "execute_result"
    }
   ],
   "source": [
    "df['Total Checkouts'].describe()"
   ]
  },
  {
   "cell_type": "code",
   "execution_count": 45,
   "id": "1e2a3172",
   "metadata": {},
   "outputs": [
    {
     "data": {
      "text/plain": [
       "0.015       0.0\n",
       "0.985    1757.0\n",
       "Name: Total Checkouts, dtype: float64"
      ]
     },
     "execution_count": 45,
     "metadata": {},
     "output_type": "execute_result"
    }
   ],
   "source": [
    "alpha = 0.015\n",
    "df['Total Checkouts'].quantile([alpha, 1-alpha])\n"
   ]
  },
  {
   "cell_type": "markdown",
   "id": "cfd4959f",
   "metadata": {},
   "source": [
    "# Streuungsmasse"
   ]
  },
  {
   "cell_type": "markdown",
   "id": "a8547364",
   "metadata": {},
   "source": [
    "Varianz:\n",
    "Distanz einer Beobachtung vom Mittelwert der zugrundeliegenden Variable wird Abweichung genannt. Der Mittelwert über die quadrierten Abweichungen wird als Varianz definiert. Eine geringe Varianz bedeutet, dass sich die Werte, die die Variable annehmen kann, nur geringfügig vom Mittelwert unterscheiden:"
   ]
  },
  {
   "cell_type": "code",
   "execution_count": 48,
   "id": "451d3193",
   "metadata": {},
   "outputs": [
    {
     "data": {
      "text/plain": [
       "205847.027758416"
      ]
     },
     "execution_count": 48,
     "metadata": {},
     "output_type": "execute_result"
    }
   ],
   "source": [
    "df['Total Checkouts'].var()\n"
   ]
  },
  {
   "cell_type": "code",
   "execution_count": 49,
   "id": "356f0f32",
   "metadata": {},
   "outputs": [
    {
     "data": {
      "text/plain": [
       "453.7036783611259"
      ]
     },
     "execution_count": 49,
     "metadata": {},
     "output_type": "execute_result"
    }
   ],
   "source": [
    "#Standardabweichung:\n",
    "df['Total Checkouts'].std()\n"
   ]
  },
  {
   "cell_type": "markdown",
   "id": "49a79af5",
   "metadata": {},
   "source": [
    "Variationskoeffizient: Normalisierte Größe, um die Streuung verschiedener Variablen zu vergleichen, \n",
    "berechnet durch Standardabweichung / Mittelwert.\n"
   ]
  },
  {
   "cell_type": "markdown",
   "id": "5a4f4221",
   "metadata": {},
   "source": [
    "# Aufgabe 3.4 "
   ]
  },
  {
   "cell_type": "markdown",
   "id": "c29586c5",
   "metadata": {},
   "source": [
    "Welche Variable streut mehr: 'Total Checkouts' oder 'Total Renewals'? Vergleiche die Standardabweichungen und den Variationskoeffizienten miteinander."
   ]
  },
  {
   "cell_type": "code",
   "execution_count": 51,
   "id": "edd7d6c9",
   "metadata": {},
   "outputs": [
    {
     "data": {
      "text/plain": [
       "2.8009495298130904"
      ]
     },
     "execution_count": 51,
     "metadata": {},
     "output_type": "execute_result"
    }
   ],
   "source": [
    "#Berechnung Variationskoeffizient von Total Checkouts und Total Renewals:\n",
    "# Total Checkouts:\n",
    "\n",
    "Streuung_Checkouts = df['Total Checkouts'].std() /df['Total Checkouts'].mean()\n",
    "Streuung_Checkouts"
   ]
  },
  {
   "cell_type": "code",
   "execution_count": 52,
   "id": "1ae3b580",
   "metadata": {},
   "outputs": [
    {
     "data": {
      "text/plain": [
       "3.7717062851167245"
      ]
     },
     "execution_count": 52,
     "metadata": {},
     "output_type": "execute_result"
    }
   ],
   "source": [
    "# Total Renewals:\n",
    "\n",
    "Streuung_Renewals = df['Total Renewals'].std() /df['Total Renewals'].mean()\n",
    "Streuung_Renewals"
   ]
  },
  {
   "cell_type": "markdown",
   "id": "a1307083",
   "metadata": {},
   "source": [
    "# Spannweite"
   ]
  },
  {
   "cell_type": "code",
   "execution_count": 53,
   "id": "30ed934d",
   "metadata": {},
   "outputs": [
    {
     "data": {
      "text/plain": [
       "35907"
      ]
     },
     "execution_count": 53,
     "metadata": {},
     "output_type": "execute_result"
    }
   ],
   "source": [
    "# Spannweite ist die Differenz zwischen dem maximalen und minmalem Wert:\n",
    "df['Total Checkouts'].max() - df['Total Checkouts'].min()\n"
   ]
  },
  {
   "cell_type": "markdown",
   "id": "434bfc95",
   "metadata": {},
   "source": [
    "# Interquartialsabschnitt"
   ]
  },
  {
   "cell_type": "code",
   "execution_count": 4,
   "id": "cbaa4b37",
   "metadata": {},
   "outputs": [
    {
     "data": {
      "text/plain": [
       "27.0"
      ]
     },
     "execution_count": 4,
     "metadata": {},
     "output_type": "execute_result"
    }
   ],
   "source": [
    "# Der Interquartilsabstand ist robustes Streuungsmaß. Er ergibt sich aus der Differenz des 75%- zum 25%-Quantil:\n",
    "df['Total Renewals'].quantile(q=0.75) - df['Total Renewals'].quantile(q=0.25)\n",
    "\n"
   ]
  },
  {
   "cell_type": "markdown",
   "id": "09f80ec7",
   "metadata": {},
   "source": [
    "# Symmetrie und Schiefe"
   ]
  },
  {
   "cell_type": "markdown",
   "id": "841863c7",
   "metadata": {},
   "source": [
    "Die Symmetrie sagt etwas über die (Un-)Gleichverteilung der Werte einer Variablen aus. Bei symmetrischen Verteilungen sind der Mittelwert und der Median gleich und das Histogramm kann an diesen Achsen gespiegelt werden. Eine linkssteile (rechtschiefe) Verteilung ergibt sich durch einige überdurchschnittlich große Werte. In diesem Fall ist der Mittelwert größer als der Median. Eine rechtssteile (linksschiefe) Verteilung ist durch einige unterdurchschnittlich kleine Werte geprägt. Hier ist der Median größer als der Mittelwert.\n",
    "\n",
    "Zudem kann eine Verteilung auch Gleichverteilt, Bi- oder Multimodal sein. Im ersten Fall gibt es keinen Modus, also keinen Wert der Verteilung, der am Häufigsten vorkommt. In den letzteren Fällen gibt es ein oder mehrere Modi. Im Histogramm sind multimodale Verteilungen daran zu erkennen, dass sie typischerweise über zwei oder mehr “Gipfel” verfügen."
   ]
  },
  {
   "cell_type": "markdown",
   "id": "20b7c1ad",
   "metadata": {},
   "source": [
    "# Bivariate Verteilungen"
   ]
  },
  {
   "cell_type": "markdown",
   "id": "037637f5",
   "metadata": {},
   "source": [
    "Variablen, die keinen Zusammenhang aufweisen, nennt man statistisch unabhängige Variablen. Für zwei metrische Variablen kann man außerdem zwischen einem positiven oder einem negativem Zusammenhang unterscheiden."
   ]
  },
  {
   "cell_type": "markdown",
   "id": "a4f16bd5",
   "metadata": {},
   "source": [
    "# Kreuztabellen"
   ]
  },
  {
   "cell_type": "markdown",
   "id": "74d179c2",
   "metadata": {},
   "source": [
    "Um zwei ordinale oder nominale Variablen miteinander zu vergleichen, eignen sich Kreuztabellen. Jeder Wert in der Kreuztabelle entspricht der Anzahl der Beobachtungen im Datensatz mit genau dieser Kombination an Merkmalsausprägungen."
   ]
  },
  {
   "cell_type": "code",
   "execution_count": 55,
   "id": "29a567d4",
   "metadata": {},
   "outputs": [
    {
     "data": {
      "text/html": [
       "<div>\n",
       "<style scoped>\n",
       "    .dataframe tbody tr th:only-of-type {\n",
       "        vertical-align: middle;\n",
       "    }\n",
       "\n",
       "    .dataframe tbody tr th {\n",
       "        vertical-align: top;\n",
       "    }\n",
       "\n",
       "    .dataframe thead th {\n",
       "        text-align: right;\n",
       "    }\n",
       "</style>\n",
       "<table border=\"1\" class=\"dataframe\">\n",
       "  <thead>\n",
       "    <tr style=\"text-align: right;\">\n",
       "      <th>Notice Preference Definition</th>\n",
       "      <th>email</th>\n",
       "      <th>phone</th>\n",
       "      <th>print</th>\n",
       "      <th>All</th>\n",
       "    </tr>\n",
       "    <tr>\n",
       "      <th>Provided Email Address</th>\n",
       "      <th></th>\n",
       "      <th></th>\n",
       "      <th></th>\n",
       "      <th></th>\n",
       "    </tr>\n",
       "  </thead>\n",
       "  <tbody>\n",
       "    <tr>\n",
       "      <th>False</th>\n",
       "      <td>95</td>\n",
       "      <td>58362</td>\n",
       "      <td>28569</td>\n",
       "      <td>87026</td>\n",
       "    </tr>\n",
       "    <tr>\n",
       "      <th>True</th>\n",
       "      <td>323842</td>\n",
       "      <td>9810</td>\n",
       "      <td>2767</td>\n",
       "      <td>336419</td>\n",
       "    </tr>\n",
       "    <tr>\n",
       "      <th>All</th>\n",
       "      <td>323937</td>\n",
       "      <td>68172</td>\n",
       "      <td>31336</td>\n",
       "      <td>423445</td>\n",
       "    </tr>\n",
       "  </tbody>\n",
       "</table>\n",
       "</div>"
      ],
      "text/plain": [
       "Notice Preference Definition   email  phone  print     All\n",
       "Provided Email Address                                    \n",
       "False                             95  58362  28569   87026\n",
       "True                          323842   9810   2767  336419\n",
       "All                           323937  68172  31336  423445"
      ]
     },
     "execution_count": 55,
     "metadata": {},
     "output_type": "execute_result"
    }
   ],
   "source": [
    "import pandas as pd\n",
    "\n",
    "df = pd.read_csv(\n",
    "    \"../data/Library_Usage.csv\", \n",
    "    na_values=\"none\"\n",
    ")\n",
    "pd.crosstab(\n",
    "    df['Provided Email Address'],\n",
    "    df['Notice Preference Definition'],\n",
    "    margins=True\n",
    ")\n"
   ]
  },
  {
   "cell_type": "code",
   "execution_count": 56,
   "id": "5f8e22fc",
   "metadata": {},
   "outputs": [
    {
     "data": {
      "text/html": [
       "<div>\n",
       "<style scoped>\n",
       "    .dataframe tbody tr th:only-of-type {\n",
       "        vertical-align: middle;\n",
       "    }\n",
       "\n",
       "    .dataframe tbody tr th {\n",
       "        vertical-align: top;\n",
       "    }\n",
       "\n",
       "    .dataframe thead th {\n",
       "        text-align: right;\n",
       "    }\n",
       "</style>\n",
       "<table border=\"1\" class=\"dataframe\">\n",
       "  <thead>\n",
       "    <tr style=\"text-align: right;\">\n",
       "      <th>Notice Preference Definition</th>\n",
       "      <th>email</th>\n",
       "      <th>phone</th>\n",
       "      <th>print</th>\n",
       "      <th>All</th>\n",
       "    </tr>\n",
       "    <tr>\n",
       "      <th>Provided Email Address</th>\n",
       "      <th></th>\n",
       "      <th></th>\n",
       "      <th></th>\n",
       "      <th></th>\n",
       "    </tr>\n",
       "  </thead>\n",
       "  <tbody>\n",
       "    <tr>\n",
       "      <th>False</th>\n",
       "      <td>0.000293</td>\n",
       "      <td>0.856099</td>\n",
       "      <td>0.911699</td>\n",
       "      <td>0.205519</td>\n",
       "    </tr>\n",
       "    <tr>\n",
       "      <th>True</th>\n",
       "      <td>0.999707</td>\n",
       "      <td>0.143901</td>\n",
       "      <td>0.088301</td>\n",
       "      <td>0.794481</td>\n",
       "    </tr>\n",
       "  </tbody>\n",
       "</table>\n",
       "</div>"
      ],
      "text/plain": [
       "Notice Preference Definition     email     phone     print       All\n",
       "Provided Email Address                                              \n",
       "False                         0.000293  0.856099  0.911699  0.205519\n",
       "True                          0.999707  0.143901  0.088301  0.794481"
      ]
     },
     "execution_count": 56,
     "metadata": {},
     "output_type": "execute_result"
    }
   ],
   "source": [
    "#Normalisierung zur besseren Analyse:\n",
    "\n",
    "pd.crosstab(\n",
    "    df['Provided Email Address'],\n",
    "    df['Notice Preference Definition'],\n",
    "    margins=True, normalize=1\n",
    ")\n"
   ]
  },
  {
   "cell_type": "markdown",
   "id": "abc8c60d",
   "metadata": {},
   "source": [
    "# Korrelation und Kovarianz"
   ]
  },
  {
   "cell_type": "markdown",
   "id": "24462be5",
   "metadata": {},
   "source": [
    "Korrelation und Kovarianz messen die Beziehung und Abhängigkeit zwischen zwei Variablen. “Kovarianz” = die Richtung der linearen Beziehung zwischen den Variablen. Bei einem positiven Wert der Kovarianz steigen die Werte beider Variablen. Bei einer negativen Kovarianz steigen die Werte der einen Variablen, während sie bei der anderen Variablen sinken.\n",
    "“Korrelation” hingegen misst die Stärke des linearen Zusammenhangs zwischen zwei Variablen. Korrelationswerte sind standardisiert, Kovarianzwerte nicht. Der Korrelationskoeffizient besitzt Werte zwischen -1 (negativer Zusammenhang) bis +1 (positiver Zusammenhang)."
   ]
  },
  {
   "cell_type": "code",
   "execution_count": 1,
   "id": "a0cc0b11",
   "metadata": {},
   "outputs": [
    {
     "data": {
      "text/plain": [
       "0.5893620279316033"
      ]
     },
     "execution_count": 1,
     "metadata": {},
     "output_type": "execute_result"
    }
   ],
   "source": [
    "import pandas as pd\n",
    "\n",
    "df = pd.read_csv(\"../data/Library_Usage.csv\")\n",
    "df['Total Checkouts'].corr(df['Total Renewals'])\n"
   ]
  },
  {
   "cell_type": "markdown",
   "id": "e9ec8290",
   "metadata": {},
   "source": [
    "# Quiz"
   ]
  },
  {
   "cell_type": "code",
   "execution_count": 16,
   "id": "065ba7e5",
   "metadata": {},
   "outputs": [
    {
     "data": {
      "text/plain": [
       "0.7410177291982637"
      ]
     },
     "execution_count": 16,
     "metadata": {},
     "output_type": "execute_result"
    }
   ],
   "source": [
    "#Wie viel Prozent der unter 10 Jährigen hat eine Email Adresse angeben?\n",
    "(df['Provided Email Address'][df['Age Range'] == '0 to 9 years'].sum())/Uder_10"
   ]
  },
  {
   "cell_type": "code",
   "execution_count": 14,
   "id": "9c8bb27c",
   "metadata": {},
   "outputs": [],
   "source": [
    "Uder_10 = (df['Age Range'] == '0 to 9 years').sum()"
   ]
  },
  {
   "cell_type": "raw",
   "id": "838e370f",
   "metadata": {},
   "source": [
    "Uder_10"
   ]
  },
  {
   "cell_type": "code",
   "execution_count": 15,
   "id": "64282cd2",
   "metadata": {},
   "outputs": [
    {
     "data": {
      "text/plain": [
       "38242"
      ]
     },
     "execution_count": 15,
     "metadata": {},
     "output_type": "execute_result"
    }
   ],
   "source": [
    "Uder_10"
   ]
  },
  {
   "cell_type": "code",
   "execution_count": null,
   "id": "57217303",
   "metadata": {},
   "outputs": [],
   "source": []
  }
 ],
 "metadata": {
  "kernelspec": {
   "display_name": "Python 3 (ipykernel)",
   "language": "python",
   "name": "python3"
  },
  "language_info": {
   "codemirror_mode": {
    "name": "ipython",
    "version": 3
   },
   "file_extension": ".py",
   "mimetype": "text/x-python",
   "name": "python",
   "nbconvert_exporter": "python",
   "pygments_lexer": "ipython3",
   "version": "3.9.7"
  }
 },
 "nbformat": 4,
 "nbformat_minor": 5
}
