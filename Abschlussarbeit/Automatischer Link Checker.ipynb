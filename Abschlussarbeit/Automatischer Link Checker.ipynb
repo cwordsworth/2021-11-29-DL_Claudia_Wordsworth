{
 "cells": [
  {
   "cell_type": "markdown",
   "id": "f0cfb455",
   "metadata": {},
   "source": [
    "# Automatischer Link Checker für Reading Lists"
   ]
  },
  {
   "cell_type": "markdown",
   "id": "79137abc",
   "metadata": {},
   "source": [
    "## 1. Einlesen der CSV-Datei und Vorbereitung"
   ]
  },
  {
   "cell_type": "code",
   "execution_count": 2,
   "id": "f12bc868",
   "metadata": {},
   "outputs": [],
   "source": [
    "# Importieren der CSV Library\n",
    "\n",
    "import csv"
   ]
  },
  {
   "cell_type": "code",
   "execution_count": 113,
   "id": "f2b8bdd5",
   "metadata": {},
   "outputs": [],
   "source": [
    "# Einlesen der Datei, und erstellen des csv-Reader-Objekts\n",
    "\n",
    "data = []\n",
    "\n",
    "with open (\"search_Bibliothek-Copy1.csv\", \"r\") as csvfile:\n",
    "    reader = csv.reader(csvfile)\n",
    "    for row in reader:\n",
    "        data.append(row)"
   ]
  },
  {
   "cell_type": "code",
   "execution_count": 33,
   "id": "5d4823a8",
   "metadata": {},
   "outputs": [
    {
     "name": "stdout",
     "output_type": "stream",
     "text": [
      "['BibliographyType', 'ISBN', 'Identifier', 'Author', 'Title', 'Journal', 'Volume', 'Number', 'Month', 'Pages', 'Year', 'Address', 'Note', 'URL', 'Booktitle', 'Chapter', 'Edition', 'Series', 'Editor', 'Publisher', 'ReportType', 'Howpublished', 'Institution', 'Organizations', 'School', 'Annote', 'Custom1', 'Custom2', 'Custom3', 'Custom4', 'Custom5']\n"
     ]
    }
   ],
   "source": [
    "# Erstellen und Anzeigen des Headers, um zu sehen, welche Informationen wir benötigen und extrahieren können\n",
    "\n",
    "header = data[0]\n",
    "print(header)\n",
    "\n"
   ]
  },
  {
   "cell_type": "code",
   "execution_count": 45,
   "id": "a7f3d14c",
   "metadata": {},
   "outputs": [
    {
     "name": "stdout",
     "output_type": "stream",
     "text": [
      "BibliographyType : 7\n",
      "ISBN : \n",
      "Identifier : danowski2006bzb\n",
      "Author : DANOWSKI, Patrick & HELLER, Lambert\n",
      "Title : Bibliothek 2. 0: Die Zukunft der Bibliothek?\n",
      "Journal : Bibliotheksdienst\n",
      "Volume : 40\n",
      "Number : 11\n",
      "Month : \n",
      "Pages : 1259--1271\n",
      "Year : 2006\n",
      "Address : \n",
      "Note : \n",
      "URL : http://www.zlb.de/aktivitaeten/bd_neu/heftinhalte2006/DigitaleBib011106.pdf\n",
      "Booktitle : \n",
      "Chapter : \n",
      "Edition : \n",
      "Series : \n",
      "Editor : \n",
      "Publisher : Deutsches Bibliotheksinstitut\n",
      "ReportType : \n",
      "Howpublished : \n",
      "Institution : \n",
      "Organizations : \n",
      "School : \n",
      "Annote : \n",
      "Custom1 : \n",
      "Custom2 : BibSonomy::bibtex::{Bibliothek 2. 0: Die Zukunft der Bibliothek?}\n",
      "Custom3 : bibliothek, library, web, connotea, 2.0\n",
      "Custom4 : \n",
      "Custom5 : \n"
     ]
    }
   ],
   "source": [
    "# Ersten Datensatz als Beispiel anschauen\n",
    "datasetzehn = data[10]\n",
    "\n",
    "for i in range(len(datasetzehn)):\n",
    "    print (header[i], \":\", datasetzehn[i])"
   ]
  },
  {
   "cell_type": "markdown",
   "id": "d5a3b49f",
   "metadata": {},
   "source": [
    "Für unsere Zwecke benötigen wir nur die Informationen Title, Item Link, DOI"
   ]
  },
  {
   "cell_type": "markdown",
   "id": "7697464c",
   "metadata": {},
   "source": [
    "## 2. Checking die URLs\n"
   ]
  },
  {
   "cell_type": "code",
   "execution_count": 90,
   "id": "69543a1f",
   "metadata": {},
   "outputs": [],
   "source": [
    "# Importieren von requests library und herumspielen\n",
    "import requests\n"
   ]
  },
  {
   "cell_type": "code",
   "execution_count": 101,
   "id": "c8efcfd8",
   "metadata": {},
   "outputs": [
    {
     "data": {
      "text/plain": [
       "200"
      ]
     },
     "execution_count": 101,
     "metadata": {},
     "output_type": "execute_result"
    }
   ],
   "source": [
    "res = requests.get(\"https://automatetheboringstuff.com/files/rj.txt\")\n",
    "res.status_code"
   ]
  },
  {
   "cell_type": "code",
   "execution_count": 92,
   "id": "25bb74ad",
   "metadata": {},
   "outputs": [
    {
     "data": {
      "text/plain": [
       "True"
      ]
     },
     "execution_count": 92,
     "metadata": {},
     "output_type": "execute_result"
    }
   ],
   "source": [
    "res.status_code==requests.codes.ok"
   ]
  },
  {
   "cell_type": "code",
   "execution_count": 103,
   "id": "83b3a581",
   "metadata": {},
   "outputs": [
    {
     "name": "stdout",
     "output_type": "stream",
     "text": [
      "There was a Problem: 404 Client Error: NOT FOUND for url: https://httpbin.org/status/404\n"
     ]
    }
   ],
   "source": [
    "try:\n",
    "    r = requests.get('https://httpbin.org/status/404')\n",
    "    r.raise_for_status()\n",
    "    # Want to ensure that any HTTP error gets handled as an exception\n",
    "except requests.exceptions.RequestException as e:\n",
    "        print(\"There was a Problem: %s\" % (e))"
   ]
  },
  {
   "cell_type": "code",
   "execution_count": 112,
   "id": "d3f00382",
   "metadata": {},
   "outputs": [],
   "source": [
    " try:\n",
    "    response = requests.head('https://httpbin.org/status/404', timeout=10)\n",
    "    status = response.status_code\n",
    "except requests.exceptions.RequestException as e:\n",
    "    status == 408\n",
    "    if status == 404:\n",
    "          print(\"There was a Problem: %s\" % (e))\n"
   ]
  },
  {
   "cell_type": "code",
   "execution_count": null,
   "id": "3ef4545f",
   "metadata": {},
   "outputs": [],
   "source": []
  }
 ],
 "metadata": {
  "kernelspec": {
   "display_name": "Python 3 (ipykernel)",
   "language": "python",
   "name": "python3"
  },
  "language_info": {
   "codemirror_mode": {
    "name": "ipython",
    "version": 3
   },
   "file_extension": ".py",
   "mimetype": "text/x-python",
   "name": "python",
   "nbconvert_exporter": "python",
   "pygments_lexer": "ipython3",
   "version": "3.9.7"
  }
 },
 "nbformat": 4,
 "nbformat_minor": 5
}
