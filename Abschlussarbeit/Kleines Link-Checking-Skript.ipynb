{
 "cells": [
  {
   "cell_type": "markdown",
   "id": "4b873fcc",
   "metadata": {},
   "source": [
    "# Kleines Skript zum Überprüfen von Links in CSV-Dateien"
   ]
  },
  {
   "cell_type": "markdown",
   "id": "85573b46",
   "metadata": {},
   "source": [
    "Dieses Programm liest CSV-Dateien mit Pandas ein und überprüft den Responsestatus der in der Datei enthaltenen Links mit dem Modul requests. Anschliessend wird ein Report per E-Mail an eine gewünschte E-Mail-Adresse geschickt. "
   ]
  },
  {
   "cell_type": "markdown",
   "id": "b4c4d03d",
   "metadata": {},
   "source": [
    "## 1. Importieren aller notwendigen Bibliotheken"
   ]
  },
  {
   "cell_type": "code",
   "execution_count": 32,
   "id": "f8a973ce",
   "metadata": {},
   "outputs": [],
   "source": [
    "#import csv\n",
    "import pandas as pd #Einlesen und erstellen der CSV-Datei\n",
    "import requests #Statusabfrage der Links\n",
    "from email.message import EmailMessage #Zum Erstellen der E-Mails\n",
    "import smtplib # Zum Versenden der E-Mails\n",
    "from datetime import datetime #Zum Generieren des Zeitstempels für Report"
   ]
  },
  {
   "cell_type": "markdown",
   "id": "3c2e47fc",
   "metadata": {},
   "source": [
    "## 2. Erstellen aller notwendigen Funktionen"
   ]
  },
  {
   "cell_type": "markdown",
   "id": "709d77dc",
   "metadata": {},
   "source": [
    "Um den Report der Überprüfung zu senden, werden zwei Funktionen geschrieben. Eine mit Anhangsfunktion und eine einfache E-Mail"
   ]
  },
  {
   "cell_type": "code",
   "execution_count": 33,
   "id": "ffb309fe",
   "metadata": {},
   "outputs": [],
   "source": [
    "#E-Mail-Funktion mit Report als Anhang:\n",
    "#Als erstes erstelle ich eine Funktion, die eine E-Mail mit CSV-Anhang an die Ziel-E-Mail-Addresse sendet:\n",
    "\n",
    "def send_email_alert(sender, recipient, report):\n",
    "    \n",
    "    from email.message import EmailMessage\n",
    "    import smtplib\n",
    "    #Das richtige MIME-Format wird anhand der Dateiendung erstellt\n",
    "    import mimetypes\n",
    "    \n",
    "#Kopf der E-Mail mit den Variablen für den Sender und Empfänger. Diese werden beim Funktionsaufruf angegeben.\n",
    "\n",
    "    msg = EmailMessage()\n",
    "    msg[\"Subject\"] = \"Broken Links in Reading List\"\n",
    "    msg['From'] = sender\n",
    "    msg['To'] = recipient\n",
    "\n",
    "#Nachricht und Anhang. Der Report wird als Info beim Funktionsaufruf angegeben.\n",
    "\n",
    "    date = datetime.now().strftime('%Y-%m-%d') \n",
    "    \n",
    "    #Text in der E-Mail\n",
    "    msg.set_content(\"Dear Team, \\nsome of the links are not working. Please have a look!\")\n",
    "    \n",
    "    #Damit wird die Dateiendung überprüft, so dass die Datei in der E-Mail im richtigen Format übermittelt wird.\n",
    "    \n",
    "    ctype, encoding = mimetypes.guess_type(report)\n",
    "    maintype, subtype = ctype.split('/', 1)\n",
    "    \n",
    "    #Datei wird an die E-Mail angehängt\n",
    "    with open(report, \"rb\") as attachment:\n",
    "        msg.add_attachment(\n",
    "            attachment.read(), maintype=maintype, subtype=subtype, filename= date + \"_broken_links_report\")\n",
    "    \n",
    "#Verbindung zum E-Mail-Server wird aufgebaut und E-Mail abgeschickt\n",
    "\n",
    "    with smtplib.SMTP('smtp.web.de', 587) as smtplib:\n",
    "        smtplib.ehlo()\n",
    "        smtplib.starttls()\n",
    "        smtplib.login(sender, 'password')\n",
    "        smtplib.send_message(msg)"
   ]
  },
  {
   "cell_type": "code",
   "execution_count": 34,
   "id": "81daee4b",
   "metadata": {},
   "outputs": [],
   "source": [
    "#Funktion für eine Gute-Nachricht-E-Mail, im Falle, dass alle Links in Ordnung sind: \n",
    "\n",
    "def all_ok(sender, recipient):\n",
    "\n",
    "    from email.message import EmailMessage\n",
    "    import smtplib\n",
    "\n",
    "#Kopf der E-Mail mit den Variablen für den Sender und Empfänger. Diese werden beim Funktionsaufruf angegeben.\n",
    "\n",
    "    msg = EmailMessage()\n",
    "    msg['Subject'] = 'All links are ok - EOM'\n",
    "    msg['From'] = sender\n",
    "    msg['To'] = recipient\n",
    "\n",
    "#Nachricht bleibt leer.\n",
    "\n",
    "    msg.set_content(\" \")\n",
    "\n",
    "\n",
    "# Verbindung zum E-Mail-Server wird aufgebaut und E-Mail abgeschickt.\n",
    "\n",
    "    with smtplib.SMTP('smtp.web.de', 587) as smtplib:\n",
    "        smtplib.ehlo()\n",
    "        smtplib.starttls()\n",
    "        smtplib.login(sender, 'password')\n",
    "        smtplib.send_message(msg)"
   ]
  },
  {
   "cell_type": "markdown",
   "id": "1b9d0205",
   "metadata": {},
   "source": [
    "Werden Fehlerstatuscodes zurückgeschickt, werden diese mit der dazugehörigen URL in eine Liste zwischengespeichert. Um diese übersichtlicher und praktischer zu machen, wird die Liste in einen DataFrame umgewandelt und die URL von den Fehlercodes am Delimiter \";\" getrennt. Dadurch entstehen zwei Spalten, die im nächsten Schritt umbenannt und dann in eine CSV-Datei geschrieben werden. Damit deutlich ist, wann der Report erstellt wurde, wird das Erstellungsdatum im Dateinamen generiert. "
   ]
  },
  {
   "cell_type": "code",
   "execution_count": 35,
   "id": "a48c8223",
   "metadata": {},
   "outputs": [],
   "source": [
    "def Create_report(report):\n",
    "    \n",
    "    date = datetime.now().strftime('%Y-%m-%d') #Das Datum soll im Reportnamen generiert werden\n",
    "    \n",
    "    df = pd.DataFrame(report)           \n",
    "    reportdf = df[0].str.split(';', expand=True)            \n",
    "    reportdf.columns=['Item Links', 'Error Status']\n",
    "    reportdf.to_csv(date + \"_broken_links_report.csv\", index = False)\n",
    "    \n",
    "    send_email_alert('email@web.de', 'email@web.de', date + \"_broken_links_report.csv\")"
   ]
  },
  {
   "cell_type": "markdown",
   "id": "ed84f45f",
   "metadata": {},
   "source": [
    "# 3. Beginn des Link-Überprüfungsprogramms    "
   ]
  },
  {
   "cell_type": "markdown",
   "id": "edd88360",
   "metadata": {},
   "source": [
    "Über Pandas wird die angegebene Datei in das Programm eingelesen. Im nächsten Schritt wird die Spalte \n",
    "mit den zu überprüfenden Links in eine eigene Variable gespeichert. Dabei werden auch direkt alle Zeilen entfernt, in denen sich keine URL befindet.\n"
   ]
  },
  {
   "cell_type": "code",
   "execution_count": 36,
   "id": "763f7f4a",
   "metadata": {},
   "outputs": [],
   "source": [
    "#Die Datei wird mit Pandas eingelesen:\n",
    "\n",
    "reading_list = pd.read_csv('Criminal_justice_readinglist.csv')\n",
    "\n",
    "#Die Zeile mit den Links wird isoliert und alle Zeilen ohne Links entfernt:\n",
    "links = reading_list[\"url\"].dropna()"
   ]
  },
  {
   "cell_type": "markdown",
   "id": "32cc6293",
   "metadata": {},
   "source": [
    "Nun werden die Links über eine for-Schleife mit einem \"try/except\"-Block auf deren Responsestatus überprüft. Da ich nur den Status überprüfen möchte und nicht die Seite öffnen möchte, benutze ich request.head() anstelle von request.get(). Bei größeren Dateien könnte das Zeit sparen. \n",
    "Um die Fehlermeldung zu erhalten, benutze ich raise_for_status(). Es werden nach HTTP-Ausnahmen (Fehlercode: 400 - 500) und weitere Ausnahmen gesucht. Ich habe aber bei den HTTP-Ausnahmen noch die Möglichkeit gelassen, nur nach den Statuscodes zu fragen, falls es gewollt ist und die eigentliche Fehlermeldung nicht benötigt wird.\n",
    "Kommen Fehlermeldungen zurück, werden diese in eine Variable als Liste gespeichert. Am Ende der Überprüfung wird mit einem if-Statement überprüft, ob die Liste leer ist, und es damit keine Fehlermeldungen gab. Ist dem so, wird die E-Mail-Funktion für die Gute-Nachricht-E-Mail verschickt. Ansonsten wird die Funktion zur Erstellung des Reports aufgerufen. "
   ]
  },
  {
   "cell_type": "code",
   "execution_count": 37,
   "id": "f85f7c8e",
   "metadata": {},
   "outputs": [],
   "source": [
    "#Mit dem Moduel \"request\" wird Statusabfrage gestartet und Ergebnisse in einer neuen Liste gespeichert:\n",
    "\n",
    "broken_links = []\n",
    "\n",
    "for url in links:\n",
    "    \n",
    "    try:\n",
    "        response = requests.head(url)\n",
    "        response.raise_for_status()\n",
    "        \n",
    "    # Alle Ausnahmen werden in einer Liste gespeichert:\n",
    "    except requests.exceptions.HTTPError as http_error:\n",
    "        \n",
    "           #error_status = response.status_code\n",
    "            \n",
    "           broken_links.append(f\"{url}; {http_error}\")\n",
    "            \n",
    "    except requests.exceptions.RequestException as other_error:\n",
    "        \n",
    "           broken_links.append(f\"{url}; {other_error}\")\n",
    "            \n",
    "#Falls es keine Fehlermeldungen gibt, wird die Gute-Nachricht-E-Mail verschickt: \n",
    "            \n",
    "if len(broken_links) == 0:\n",
    "    all_ok('email@web.de', 'email@web.de')\n",
    "                                \n",
    "#Gibt es Fehlermeldungen, wird die Liste in eine CSV-Datei umgewandelt und per E-Mail verschickt:\n",
    "\n",
    "Create_report(broken_links)\n",
    "\n"
   ]
  }
 ],
 "metadata": {
  "kernelspec": {
   "display_name": "Python 3 (ipykernel)",
   "language": "python",
   "name": "python3"
  },
  "language_info": {
   "codemirror_mode": {
    "name": "ipython",
    "version": 3
   },
   "file_extension": ".py",
   "mimetype": "text/x-python",
   "name": "python",
   "nbconvert_exporter": "python",
   "pygments_lexer": "ipython3",
   "version": "3.9.7"
  }
 },
 "nbformat": 4,
 "nbformat_minor": 5
}
