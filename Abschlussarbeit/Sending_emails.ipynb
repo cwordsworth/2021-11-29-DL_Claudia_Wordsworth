{
 "cells": [
  {
   "cell_type": "code",
   "execution_count": 60,
   "id": "fc1c138c",
   "metadata": {},
   "outputs": [],
   "source": [
    "#Schreiben eines E-Mail Programms\n",
    "\n",
    "#Importieren der erforderlichen Libraries\n",
    "\n",
    "import smtplib\n",
    "from email.mime.text import MIMEText\n",
    "\n",
    "with open(\"cats.txt\", 'r') as readText:\n",
    "        msg = MIMEText(readText.read())"
   ]
  },
  {
   "cell_type": "code",
   "execution_count": 61,
   "id": "0eac2e36",
   "metadata": {},
   "outputs": [],
   "source": [
    "#headers\n",
    "recipient = \"Theodor.sonnenschein@web.de\"\n",
    "msg['To'] = recipient\n",
    "sender = \"Theodor.sonnenschein@web.de\"\n",
    "msg['From'] = sender\n",
    "msg['Subject'] = \"Gedanken zu Katzen\"\n",
    "\n"
   ]
  },
  {
   "cell_type": "code",
   "execution_count": 62,
   "id": "e00c5496",
   "metadata": {},
   "outputs": [],
   "source": [
    "smtpObj = smtplib.SMTP('smtp.web.de', 587)"
   ]
  },
  {
   "cell_type": "code",
   "execution_count": 63,
   "id": "d0dbf84a",
   "metadata": {},
   "outputs": [
    {
     "data": {
      "text/plain": [
       "(250,\n",
       " b'web.de Hello [127.0.1.1] [79.47.237.56]\\n8BITMIME\\nSIZE 141557760\\nSTARTTLS')"
      ]
     },
     "execution_count": 63,
     "metadata": {},
     "output_type": "execute_result"
    }
   ],
   "source": [
    "# Saying hello to server\n",
    "smtpObj.ehlo()"
   ]
  },
  {
   "cell_type": "code",
   "execution_count": 64,
   "id": "e5054aa2",
   "metadata": {},
   "outputs": [
    {
     "data": {
      "text/plain": [
       "(220, b'OK')"
      ]
     },
     "execution_count": 64,
     "metadata": {},
     "output_type": "execute_result"
    }
   ],
   "source": [
    "# Starting TLS encryption\n",
    "smtpObj.starttls()"
   ]
  },
  {
   "cell_type": "code",
   "execution_count": 65,
   "id": "bb1af9fe",
   "metadata": {},
   "outputs": [
    {
     "data": {
      "text/plain": [
       "(235, b'Authentication succeeded')"
      ]
     },
     "execution_count": 65,
     "metadata": {},
     "output_type": "execute_result"
    }
   ],
   "source": [
    "#Logging in to the SMTP server\n",
    "smtpObj.login('Theodor.sonnenschein@web.de', 'password')"
   ]
  },
  {
   "cell_type": "code",
   "execution_count": 66,
   "id": "c71099f9",
   "metadata": {},
   "outputs": [
    {
     "data": {
      "text/plain": [
       "(221, b'web.de Service closing transmission channel')"
      ]
     },
     "execution_count": 66,
     "metadata": {},
     "output_type": "execute_result"
    }
   ],
   "source": [
    "#E-Mail senden:\n",
    "smtpObj.sendmail(sender, recipient, msg.as_string())\n",
    "\n",
    "smtpObj.quit()"
   ]
  },
  {
   "cell_type": "code",
   "execution_count": null,
   "id": "634d1274",
   "metadata": {},
   "outputs": [],
   "source": []
  }
 ],
 "metadata": {
  "kernelspec": {
   "display_name": "Python 3 (ipykernel)",
   "language": "python",
   "name": "python3"
  },
  "language_info": {
   "codemirror_mode": {
    "name": "ipython",
    "version": 3
   },
   "file_extension": ".py",
   "mimetype": "text/x-python",
   "name": "python",
   "nbconvert_exporter": "python",
   "pygments_lexer": "ipython3",
   "version": "3.9.7"
  }
 },
 "nbformat": 4,
 "nbformat_minor": 5
}
