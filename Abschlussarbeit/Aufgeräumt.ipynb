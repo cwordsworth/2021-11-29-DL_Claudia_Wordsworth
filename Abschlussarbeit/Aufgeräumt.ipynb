{
 "cells": [
  {
   "cell_type": "markdown",
   "id": "4b873fcc",
   "metadata": {},
   "source": [
    "# Kleines Script zum Überprüfen von Links in Readinglists"
   ]
  },
  {
   "cell_type": "markdown",
   "id": "85573b46",
   "metadata": {},
   "source": [
    "Dieses Programm liest Readinglists als csv-Dateien ein und überprüft den Responsestatus der in der Datei enthaltenen Links und benachrichtigt die Benutzer anschliessend per E-Mail. "
   ]
  },
  {
   "cell_type": "markdown",
   "id": "b4c4d03d",
   "metadata": {},
   "source": [
    "## 1. Importieren aller notwendigen Bibliotheken"
   ]
  },
  {
   "cell_type": "code",
   "execution_count": 48,
   "id": "f8a973ce",
   "metadata": {},
   "outputs": [],
   "source": [
    "import csv\n",
    "import pandas as pd #Einlesen und erstellen der CSV-Datei\n",
    "import requests #Statusabfrage für Links\n",
    "from email.message import EmailMessage #Versenden der E-Mails\n",
    "import smtplib\n",
    "from datetime import datetime #Generieren des Datums für Report"
   ]
  },
  {
   "cell_type": "markdown",
   "id": "3c2e47fc",
   "metadata": {},
   "source": [
    "## 2. Erstellen aller notwendigen Funktionen"
   ]
  },
  {
   "cell_type": "code",
   "execution_count": 49,
   "id": "ffb309fe",
   "metadata": {},
   "outputs": [],
   "source": [
    "#E-Mail-Funktion mit Report als Anhang:\n",
    "#Als erstes erstelle ich eine Funktion, die eine E-Mail mit CSV-Anhang an die Ziel-E-Mail-Addresse sendet:\n",
    "\n",
    "def send_email_alert(sender, recipient, report):\n",
    "    from email.message import EmailMessage\n",
    "    import smtplib\n",
    "    \n",
    "#header\n",
    "\n",
    "    msg = EmailMessage()\n",
    "    msg[\"Subject\"] = \"Broken Links in Reading List\"\n",
    "    msg['From'] = sender\n",
    "    msg['To'] = recipient\n",
    "\n",
    "#Nachricht und Anhang\n",
    "    date = datetime.now().strftime('%Y-%m-%d') \n",
    "    \n",
    "    msg.set_content(\"Dear Team, \\nsome of the links are not working. Please have a look!\")\n",
    "\n",
    "    with open(report, \"rb\") as fp:\n",
    "        msg.add_attachment(\n",
    "            fp.read(), maintype= date + \"_broken_links_report\", subtype=\"csv\")\n",
    "    \n",
    "#Verbindung\n",
    "\n",
    "    with smtplib.SMTP('smtp.web.de', 587) as smtplib:\n",
    "        smtplib.ehlo()\n",
    "        smtplib.starttls()\n",
    "        smtplib.login(sender, 'password')\n",
    "        smtplib.send_message(msg)"
   ]
  },
  {
   "cell_type": "code",
   "execution_count": 50,
   "id": "81daee4b",
   "metadata": {},
   "outputs": [],
   "source": [
    "#Funktion für eine Gute-Nachricht-E-Mail, falls alle Links in Ordnung sind: \n",
    "\n",
    "def all_ok(sender, recipient):\n",
    "\n",
    "    from email.message import EmailMessage\n",
    "    import smtplib\n",
    "\n",
    "#Header\n",
    "    msg = EmailMessage()\n",
    "    msg['Subject'] = 'All links are ok - EOM'\n",
    "    msg['From'] = sender\n",
    "    msg['To'] = recipient\n",
    "\n",
    "#Nachricht\n",
    "    msg.set_content(\" \")\n",
    "\n",
    "\n",
    "# Verbindung\n",
    "    with smtplib.SMTP('smtp.web.de', 587) as s:\n",
    "        s.ehlo()\n",
    "        s.starttls()\n",
    "        s.login(sender, 'password')\n",
    "        s.send_message(msg)"
   ]
  },
  {
   "cell_type": "code",
   "execution_count": 51,
   "id": "a48c8223",
   "metadata": {},
   "outputs": [],
   "source": [
    "#Funktion, um die Ergebnisse in eine Tabelle und dann in eine CSV-Datei umzuwandeln\n",
    "#und das Programm anzuweisen, diese zu verschicken:\n",
    "\n",
    "def Create_report(report):\n",
    "    \n",
    "    date = datetime.now().strftime('%Y-%m-%d') #Das Datum soll im Reportnamen generiert werden\n",
    "    \n",
    "    df = pd.DataFrame(report)           \n",
    "    reportdf = df[0].str.split(';', expand=True)            \n",
    "    reportdf.columns=['Item Links', 'Error Status']\n",
    "    reportdf.to_csv(date + \"_broken_links_report.csv\", index = False)\n",
    "    \n",
    "    send_email_alert('email@web.de', 'email@web.de', date + \"_broken_links_report.csv\")"
   ]
  },
  {
   "cell_type": "markdown",
   "id": "ed84f45f",
   "metadata": {},
   "source": [
    "## 3. Beginn des eigentlichen Link-Überprüfungsprogramms"
   ]
  },
  {
   "cell_type": "code",
   "execution_count": 52,
   "id": "763f7f4a",
   "metadata": {},
   "outputs": [],
   "source": [
    "#Die Datei wird mit Pandas eingelesen:\n",
    "\n",
    "reading_list = pd.read_csv('Criminal_justice_readinglist.csv')\n",
    "\n",
    "#Die Zeile mit den Links wird isoliert und alle Zeilen ohne Links entfernt:\n",
    "links = reading_list[\"url\"].dropna()"
   ]
  },
  {
   "cell_type": "code",
   "execution_count": 53,
   "id": "f85f7c8e",
   "metadata": {},
   "outputs": [],
   "source": [
    "#Mit \"request\" wird Statusabfrage gestartet und Ergebnisse in einer neuen Liste gespeichert:\n",
    "\n",
    "broken_links = []\n",
    "\n",
    "for url in links:\n",
    "    try:\n",
    "        r = requests.head(url)\n",
    "        r.raise_for_status()\n",
    "        \n",
    "    # Alle Ausnahmen werden in einer Liste gespeichert:\n",
    "    except requests.exceptions.HTTPError as http_error:\n",
    "        \n",
    "           broken_links.append(f\"{url}; {http_error}\")\n",
    "            \n",
    "    except requests.exceptions.RequestException as other_error:\n",
    "        \n",
    "           broken_links.append(f\"{url}; {other_error}\")\n",
    "            \n",
    "#Falls es keine Fehlermeldungen gibt, wird die Gute-Nachricht-E-Mail verschickt: \n",
    "            \n",
    "if len(broken_links) == 0:\n",
    "    all_ok('email@web.de', 'email@web.de')\n",
    "                                \n",
    "#Gibt es Fehlermeldungen, wird die Liste in eine CSV-Datei umgewandelt und per E-Mail verschickt:\n",
    "\n",
    "Create_report(broken_links)\n",
    "\n"
   ]
  },
  {
   "cell_type": "code",
   "execution_count": null,
   "id": "3c96588e",
   "metadata": {},
   "outputs": [],
   "source": []
  }
 ],
 "metadata": {
  "kernelspec": {
   "display_name": "Python 3 (ipykernel)",
   "language": "python",
   "name": "python3"
  },
  "language_info": {
   "codemirror_mode": {
    "name": "ipython",
    "version": 3
   },
   "file_extension": ".py",
   "mimetype": "text/x-python",
   "name": "python",
   "nbconvert_exporter": "python",
   "pygments_lexer": "ipython3",
   "version": "3.9.7"
  }
 },
 "nbformat": 4,
 "nbformat_minor": 5
}
