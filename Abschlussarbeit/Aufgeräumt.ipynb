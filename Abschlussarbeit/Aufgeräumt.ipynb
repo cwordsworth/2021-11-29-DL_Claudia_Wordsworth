{
 "cells": [
  {
   "cell_type": "code",
   "execution_count": 36,
   "id": "aa9ae277",
   "metadata": {},
   "outputs": [],
   "source": [
    "#Link checking mit csv-Datei:\n",
    "\n",
    "#Importieren aller notwendigen Libraries:\n",
    "import csv\n",
    "import pandas as pd\n",
    "import requests\n",
    "from email.message import EmailMessage\n",
    "import smtplib\n",
    "from datetime import datetime"
   ]
  },
  {
   "cell_type": "code",
   "execution_count": 41,
   "id": "585c9ce2",
   "metadata": {},
   "outputs": [],
   "source": [
    "#Zusammenfügen von Report erstellen und E-Mail senden:\n",
    "#Als erstes erstelle ich eine Funktion um eine E-Mail mit csv-Anhang an die Ziel-E-Mail-Addresse zu senden:\n",
    "\n",
    "def send_email_alert(sender, recipient, report):\n",
    "    from email.message import EmailMessage\n",
    "    import smtplib\n",
    "    \n",
    "#header\n",
    "\n",
    "    msg = EmailMessage()\n",
    "    msg[\"Subject\"] = \"Broken Links in Reading List\"\n",
    "    #sender ='Theodor.sonnenschein@web.de' \n",
    "    msg['From'] = sender\n",
    "    #recipient = 'Theodor.sonnenschein@web.de'\n",
    "    msg['To'] = recipient\n",
    "\n",
    "#Nachricht und Anhang\n",
    "    date = datetime.now().strftime('%Y-%m-%d')\n",
    "    \n",
    "    msg.set_content(\"Dear Team, \\nsome of the links are not working. Please have a look!\")\n",
    "\n",
    "    with open(\"broken_links.csv\", \"rb\") as fp:\n",
    "        msg.add_attachment(\n",
    "            fp.read(), maintype= date + \"_broken_links\", subtype=\"csv\")\n",
    "    \n",
    "#Verbindung\n",
    "\n",
    "    with smtplib.SMTP('smtp.web.de', 587) as smtplib:\n",
    "        smtplib.ehlo()\n",
    "        smtplib.starttls()\n",
    "        smtplib.login(sender, 'nBbyzd2mj7DPwW7')\n",
    "        smtplib.send_message(msg)"
   ]
  },
  {
   "cell_type": "code",
   "execution_count": 27,
   "id": "e46c9e80",
   "metadata": {},
   "outputs": [],
   "source": [
    "#Als nächstes schreibe ich eine Funktion für eine E-Mail im Falle, dass alle Links in Ordnung sind. \n",
    "\n",
    "def all_ok(sender, recipient):\n",
    "\n",
    "    from email.message import EmailMessage\n",
    "    import smtplib\n",
    "\n",
    "#Header\n",
    "    msg = EmailMessage()\n",
    "    msg[\"Subject\"] = \"All links are ok - EOM\"\n",
    "    sender ='Theodor.sonnenschein@web.de' \n",
    "    msg['From'] = sender\n",
    "    recipient = 'Theodor.sonnenschein@web.de'\n",
    "    msg['To'] = recipient\n",
    "\n",
    "#Nachricht\n",
    "    msg.set_content(\" \")\n",
    "\n",
    "\n",
    "# Verbindung\n",
    "    with smtplib.SMTP('smtp.web.de', 587) as s:\n",
    "        s.ehlo()\n",
    "        s.starttls()\n",
    "        s.login(sender, 'nBbyzd2mj7DPwW7')\n",
    "        s.send_message(msg)"
   ]
  },
  {
   "cell_type": "code",
   "execution_count": 38,
   "id": "335105d7",
   "metadata": {},
   "outputs": [],
   "source": [
    "#Anfang des eigentlichen Programms. Einlesen der csv-Datei mit Pandas, die vorher am bestimmten Ort abgespeichert wurde:\n",
    "\n",
    "reading_list = pd.read_csv(\"~/2021-11-29-DL_Claudia_Wordsworth/Modul_6_Abschlussarbeit/all-links_checked.csv\")"
   ]
  },
  {
   "cell_type": "code",
   "execution_count": 39,
   "id": "f244d4ac",
   "metadata": {},
   "outputs": [
    {
     "data": {
      "text/plain": [
       "0    https://www.heise.de/invalid\n",
       "1      https://www.gutenberg.org/\n",
       "2          https://www.yahoo.com/\n",
       "Name: Link, dtype: object"
      ]
     },
     "execution_count": 39,
     "metadata": {},
     "output_type": "execute_result"
    }
   ],
   "source": [
    "#isolieren der einzulesenden Spalte mit den URLs:\n",
    "links = reading_list[\"Link\"]\n",
    "links"
   ]
  },
  {
   "cell_type": "code",
   "execution_count": 42,
   "id": "b301d276",
   "metadata": {},
   "outputs": [],
   "source": [
    "#Das Programm soll die URLs in der angegeben Spalte mit dem Modul \"request\" überprüfen und Ergebnisse in einer neuen Liste speichern:\n",
    "\n",
    "broken_links = []\n",
    "\n",
    "for url in links:\n",
    "    try:\n",
    "        r = requests.head(url)\n",
    "        r.raise_for_status()\n",
    "        \n",
    "    # All Ausnahmen werden in einer Liste abgespeichert:\n",
    "    except requests.exceptions.HTTPError as http_error:\n",
    "        \n",
    "           broken_links.append(f\"HTTP error occurred: {http_error}\")\n",
    "            \n",
    "    except requests.exceptions.RequestException as other_error:\n",
    "            broken_links.append(f\"Other error occurred: {other_error}\")\n",
    "\n",
    "#Nach Beenden des Überprüfens sollen die Ergebnisse per E-mail verschickt werden:\n",
    "#Falls alle Links in Ordnung sind, wird eine einfache Info-E-mail verschickt:\n",
    "if len(broken_links) == 0:\n",
    "    all_ok('Theodor.sonnenschein@web.de', 'Theodor.sonnenschein@web.de')\n",
    "\n",
    "#Gibt es Fehlermeldungen, wird die erstelle Liste in eine csv-Datei umgewandelt und \n",
    "#per E-Mail verschickt:\n",
    "\n",
    "#df = pd.DataFrame([[links], [broken_links]], columns=[\"Link\", \"Error Code\"])\n",
    "\n",
    "\n",
    "pd.Series(list(broken_links)).to_csv(\"broken_links.csv\")\n",
    "\n",
    "\n",
    "send_email_alert('Theodor.sonnenschein@web.de', 'Theodor.sonnenschein@web.de', broken_links)"
   ]
  },
  {
   "cell_type": "code",
   "execution_count": null,
   "id": "98b7a509",
   "metadata": {},
   "outputs": [],
   "source": []
  },
  {
   "cell_type": "code",
   "execution_count": null,
   "id": "e197375a",
   "metadata": {},
   "outputs": [],
   "source": []
  }
 ],
 "metadata": {
  "kernelspec": {
   "display_name": "Python 3 (ipykernel)",
   "language": "python",
   "name": "python3"
  },
  "language_info": {
   "codemirror_mode": {
    "name": "ipython",
    "version": 3
   },
   "file_extension": ".py",
   "mimetype": "text/x-python",
   "name": "python",
   "nbconvert_exporter": "python",
   "pygments_lexer": "ipython3",
   "version": "3.9.7"
  }
 },
 "nbformat": 4,
 "nbformat_minor": 5
}
