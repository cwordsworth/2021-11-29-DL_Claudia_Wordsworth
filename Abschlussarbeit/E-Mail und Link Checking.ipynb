{
 "cells": [
  {
   "cell_type": "code",
   "execution_count": 10,
   "id": "f85cb3e9",
   "metadata": {},
   "outputs": [],
   "source": [
    "#Funktion, um Benachrichtigung zu schicken\n",
    "\n",
    "def send_mail(sender, recipient, subject, message):\n",
    "    from smtplib import SMTP\n",
    "    from email.mime.text import MIMEText\n",
    "\n",
    "#header\n",
    "    msg = MIMEText(message)\n",
    "    sender ='Theodor.sonnenschein@web.de' \n",
    "    msg['From'] = sender\n",
    "    recipient = 'Theodor.sonnenschein@web.de'\n",
    "    msg['To'] = recipient\n",
    "    msg['Subject'] = subject\n",
    "    \n",
    "#Verbindung zum Server\n",
    "    server = SMTP('smtp.web.de', 587)\n",
    "    server.ehlo()\n",
    "    server.starttls()\n",
    "    server.login(sender, 'password')\n",
    "    server.sendmail(sender, recipient, msg.as_string())\n",
    "    server.quit()\n",
    "\n"
   ]
  },
  {
   "cell_type": "code",
   "execution_count": 11,
   "id": "ad93f77c",
   "metadata": {},
   "outputs": [],
   "source": [
    "#Funktion, mit dem Messageteil\n",
    "\n",
    "def send_alert(url, e, errtype):\n",
    "    subject = \"{} for {}\".format(errtype, url)\n",
    "    message = str(e)\n",
    "    send_mail('Theodor.sonnenschein@web.de', 'Theodor.sonnenschein@web.de', subject, message,\n",
    "              )\n",
    "    \n"
   ]
  },
  {
   "cell_type": "code",
   "execution_count": 12,
   "id": "365b6b65",
   "metadata": {},
   "outputs": [],
   "source": [
    "#Link checking ohne csv-Datei\n",
    "import requests\n",
    "\n",
    "urls = [\n",
    "\t\"https://api.github.com/invalid\",\n",
    "\t\"https://www.gutenberg.org/\",\n",
    "    \"https://www.heise-regioconcept.de/homepages/invalid\"\n",
    "]\n",
    "#try except Block zum Link checken\n",
    "for url in urls:\n",
    "    try:\n",
    "        r = requests.head(url)\n",
    "        r.raise_for_status()\n",
    "    # Want to ensure that any HTTP error gets handled as an exception\n",
    "    except requests.exceptions.HTTPError as e:\n",
    "        send_alert(url, e, 'HTTPError')\n",
    "    # Catch the base class exception to broadly handle all exceptions\n",
    "    except requests.exceptions.RequestException as e:\n",
    "        send_alert(url, e, 'Exception')"
   ]
  },
  {
   "cell_type": "code",
   "execution_count": 15,
   "id": "333ef0b2",
   "metadata": {},
   "outputs": [],
   "source": [
    "#E-Mail mit csv-datei\n",
    "from email.message import EmailMessage\n",
    "import smtplib\n",
    "\n",
    "msg = EmailMessage()\n",
    "msg[\"Subject\"] = \"Link alert\"\n",
    "sender ='Theodor.sonnenschein@web.de' \n",
    "msg['From'] = sender\n",
    "recipient = 'Theodor.sonnenschein@web.de'\n",
    "msg['To'] = recipient\n",
    "#msg[\"From\"] = \"me <sender@example.org>\"\n",
    "#msg[\"To\"] = \"recipient <victim@example.net>\"\n",
    "# definitely don't mess with the .preamble\n",
    "\n",
    "msg.set_content(\"Dear Team, some of the links are not working. Please have a look!\")\n",
    "\n",
    "with open(\"links_checked.csv\", \"rb\") as fp:\n",
    "    msg.add_attachment(\n",
    "        fp.read(), maintype=\"application\", subtype=\"csv\")\n",
    "\n",
    "# Notice how smtplib now includes a send_message() method\n",
    "with smtplib.SMTP('smtp.web.de', 587) as s:\n",
    "    s.ehlo()\n",
    "    s.starttls()\n",
    "    s.login(sender, 'nBbyzd2mj7DPwW7')\n",
    "    s.send_message(msg)"
   ]
  },
  {
   "cell_type": "code",
   "execution_count": 13,
   "id": "e614f2ad",
   "metadata": {},
   "outputs": [],
   "source": [
    "#Zusammenfügen von Report erstellen und E-Mail senden:\n",
    "#Funktion zum E-Mail-Senden:\n",
    "\n",
    "def send_email(sender, recipient, subject):\n",
    "    \n",
    "    from email.message import EmailMessage\n",
    "    import smtplib\n",
    "\n",
    "#header\n",
    "\n",
    "    msg = EmailMessage()\n",
    "    msg[\"Subject\"] = subject\n",
    "    sender ='Theodor.sonnenschein@web.de' \n",
    "    msg['From'] = sender\n",
    "    recipient = 'Theodor.sonnenschein@web.de'\n",
    "    msg['To'] = recipient\n",
    "\n",
    "#Nachricht und Anhang\n",
    "\n",
    "    msg.set_content(\"Dear Team, /nsome of the links are not working. Please have a look!\")\n",
    "\n",
    "    with open(\"broken_links.csv\", \"rb\") as fp:\n",
    "        msg.add_attachment(\n",
    "            fp.read(), maintype=\"broken_links\", subtype=\"csv\")\n",
    "    \n",
    "#Verbindung\n",
    "\n",
    "    with smtplib.SMTP('smtp.web.de', 587) as smtplib:\n",
    "        smtplib.ehlo()\n",
    "        smtplib.starttls()\n",
    "        smtplib.login(sender, 'nBbyzd2mj7DPwW7')\n",
    "        smtplib.send_message(msg)"
   ]
  },
  {
   "cell_type": "code",
   "execution_count": 14,
   "id": "8c9022a3",
   "metadata": {},
   "outputs": [],
   "source": [
    "#Link checking ohne csv-Datei\n",
    "import requests\n",
    "import pandas as pd\n",
    "\n",
    "urls = [\n",
    "\t\"https://api.github.com/invalid\",\n",
    "\t\"https://www.gutenberg.org/\",\n",
    "    \"https://www.heise-regioconcept.de/homepages/invalid\"\n",
    "]\n",
    "#try except Block zum Link checken\n",
    "broken_links = []\n",
    "\n",
    "for url in urls:\n",
    "    try:\n",
    "        r = requests.head(url)\n",
    "        r.raise_for_status()\n",
    "        \n",
    "    # All exceptions are written in a list:\n",
    "    except requests.exceptions.HTTPError as http_error:\n",
    "        \n",
    "           broken_links.append(f\"HTTP error occurred: {http_error}\")\n",
    "            \n",
    "    except requests.exceptions.RequestException as other_error:\n",
    "            broken_links.append(f\"Other error occurred:' {other_error}\")\n",
    "            \n",
    "pd.Series(list(broken_links)).to_csv(\"broken_links.csv\")\n",
    "    \n",
    "    \n",
    "send_alert(broken_links)"
   ]
  },
  {
   "cell_type": "code",
   "execution_count": 10,
   "id": "f44a6859",
   "metadata": {},
   "outputs": [],
   "source": [
    "#Funktion, mit dem Messageteil\n",
    "\n",
    "def send_alert(broken_links):\n",
    "    subject = \"Broken Links in Reading List\"\n",
    "    send_email('Theodor.sonnenschein@web.de', 'Theodor.sonnenschein@web.de', subject, \n",
    "              )"
   ]
  },
  {
   "cell_type": "code",
   "execution_count": 15,
   "id": "727f6086",
   "metadata": {},
   "outputs": [],
   "source": [
    "#Link checking mit csv-Datei:\n",
    "\n",
    "#Importieren aller notwendigen Libraries:\n",
    "import csv\n",
    "import pandas as pd\n",
    "import requests\n",
    "from email.message import EmailMessage\n",
    "import smtplib"
   ]
  },
  {
   "cell_type": "code",
   "execution_count": 37,
   "id": "d84b8e66",
   "metadata": {},
   "outputs": [],
   "source": [
    "#Einlesen der csv-Datei mit Pandas:\n",
    "\n",
    "reading_list = pd.read_csv(\"all-links_checked.csv\")"
   ]
  },
  {
   "cell_type": "code",
   "execution_count": 39,
   "id": "65da1915",
   "metadata": {},
   "outputs": [
    {
     "data": {
      "text/plain": [
       "0    https://api.github.com/invalid\n",
       "1        https://www.gutenberg.org/\n",
       "2        https://www.bibgndk.co.uk/\n",
       "Name: Link, dtype: object"
      ]
     },
     "execution_count": 39,
     "metadata": {},
     "output_type": "execute_result"
    }
   ],
   "source": [
    "#isolieren der einzulesenden Spalte:\n",
    "links = reading_list[\"Link\"]\n",
    "links"
   ]
  },
  {
   "cell_type": "code",
   "execution_count": 33,
   "id": "42aff0a0",
   "metadata": {},
   "outputs": [],
   "source": [
    "#request link checking:\n",
    "\n",
    "broken_links = []\n",
    "\n",
    "for url in links:\n",
    "    try:\n",
    "        r = requests.head(url)\n",
    "        r.raise_for_status()\n",
    "        \n",
    "    # All exceptions are written in a list:\n",
    "    except requests.exceptions.HTTPError as http_error:\n",
    "        \n",
    "           broken_links.append(f\"HTTP error occurred: {http_error}\")\n",
    "            \n",
    "    except requests.exceptions.RequestException as other_error:\n",
    "            broken_links.append(f\"Other error occurred:' {other_error}\")\n",
    "            \n",
    "pd.Series(list(broken_links)).to_csv(\"broken_links.csv\")"
   ]
  },
  {
   "cell_type": "code",
   "execution_count": 34,
   "id": "5c05f164",
   "metadata": {},
   "outputs": [
    {
     "data": {
      "text/plain": [
       "[\"Other error occurred:' Invalid URL 'nan': No schema supplied. Perhaps you meant http://nan?\",\n",
       " 'HTTP error occurred: 404 Client Error: Not Found for url: https://api.github.com/invalid']"
      ]
     },
     "execution_count": 34,
     "metadata": {},
     "output_type": "execute_result"
    }
   ],
   "source": [
    "broken_links"
   ]
  },
  {
   "cell_type": "code",
   "execution_count": 44,
   "id": "80cfc768",
   "metadata": {},
   "outputs": [],
   "source": [
    "#Versuch Report mit CSV writer zu schreiben:\n",
    "header = [\"Link\", \"Error Code\"]\n",
    "with open(\"broken_links.csv\", \"w\", newline = '') as csvfile:\n",
    "    writer = csv.writer(csvfile)\n",
    "    writer.writerow(header)\n",
    "        "
   ]
  },
  {
   "cell_type": "code",
   "execution_count": 47,
   "id": "b9f91f57",
   "metadata": {},
   "outputs": [],
   "source": [
    "broken_links = []\n",
    "\n",
    "for url in links:\n",
    "    try:\n",
    "        r = requests.head(url)\n",
    "        r.raise_for_status()\n",
    "        \n",
    "    # All exceptions are written in a list:\n",
    "    except requests.exceptions.HTTPError as http_error:\n",
    "        \n",
    "           broken_links.append(f\"In {url} HTTP error occurred: {http_error}\")\n",
    "            \n",
    "    except requests.exceptions.RequestException as other_error:\n",
    "            broken_links.append(f\"In {url} Other error occurred:' {other_error}\")\n",
    "            \n",
    "\n",
    "Report(broken_links)\n",
    "#Problem, das jedes einzelne Zeichen als eine Spalte angesehen wird."
   ]
  },
  {
   "cell_type": "code",
   "execution_count": 46,
   "id": "991a3bed",
   "metadata": {},
   "outputs": [],
   "source": [
    "def Report(broken_links):\n",
    "    with open(\"broken_links.csv\", \"a\", newline = '') as csvfile:\n",
    "        writer = csv.writer(csvfile)\n",
    "        writer.writerows(broken_links)\n",
    "        "
   ]
  },
  {
   "cell_type": "code",
   "execution_count": null,
   "id": "be6d0d4c",
   "metadata": {},
   "outputs": [],
   "source": []
  }
 ],
 "metadata": {
  "kernelspec": {
   "display_name": "Python 3 (ipykernel)",
   "language": "python",
   "name": "python3"
  },
  "language_info": {
   "codemirror_mode": {
    "name": "ipython",
    "version": 3
   },
   "file_extension": ".py",
   "mimetype": "text/x-python",
   "name": "python",
   "nbconvert_exporter": "python",
   "pygments_lexer": "ipython3",
   "version": "3.9.7"
  }
 },
 "nbformat": 4,
 "nbformat_minor": 5
}
