{
 "cells": [
  {
   "cell_type": "code",
   "execution_count": null,
   "id": "b25e64b4",
   "metadata": {},
   "outputs": [],
   "source": [
    "def greet_user():\n",
    "    print(\"Hello!\")\n",
    "    \n",
    "greet_user()"
   ]
  },
  {
   "cell_type": "code",
   "execution_count": 3,
   "id": "3c1a54b0",
   "metadata": {},
   "outputs": [
    {
     "name": "stdout",
     "output_type": "stream",
     "text": [
      "Hello, Jessie!\n"
     ]
    }
   ],
   "source": [
    "def greet_user(username):\n",
    "    print(f\"Hello, {username.title()}!\")\n",
    "    \n",
    "greet_user(\"jessie\")"
   ]
  },
  {
   "cell_type": "code",
   "execution_count": 4,
   "id": "054b61d6",
   "metadata": {},
   "outputs": [
    {
     "name": "stdout",
     "output_type": "stream",
     "text": [
      "Ich lerne Funktionen zu schreiben.\n"
     ]
    }
   ],
   "source": [
    "def display_message():\n",
    "    print(\"Ich lerne Funktionen zu schreiben.\")\n",
    "    \n",
    "display_message()"
   ]
  },
  {
   "cell_type": "code",
   "execution_count": 6,
   "id": "a58c3fa6",
   "metadata": {},
   "outputs": [
    {
     "name": "stdout",
     "output_type": "stream",
     "text": [
      "Mein Lieblingsbuch ist Ronja Räubertochter.\n"
     ]
    }
   ],
   "source": [
    "def favourite_book(title):\n",
    "    print(f\"Mein Lieblingsbuch ist {title.title()}.\")\n",
    "    \n",
    "favourite_book(\"Ronja Räubertochter\")"
   ]
  },
  {
   "cell_type": "code",
   "execution_count": 9,
   "id": "ef1d838b",
   "metadata": {},
   "outputs": [
    {
     "name": "stdout",
     "output_type": "stream",
     "text": [
      "\n",
      "Ich habe eine/einen Katze.\n",
      "Meine/mein Katze heißt Bilbo.\n"
     ]
    }
   ],
   "source": [
    "def describe_pet(animal_type, pet_name):\n",
    "    print(f\"\\nIch habe eine/einen {animal_type.title()}.\")\n",
    "    print(f\"Meine/mein {animal_type.title()} heißt {pet_name.title()}.\")\n",
    "    \n",
    "describe_pet(\"katze\", \"bilbo\")"
   ]
  },
  {
   "cell_type": "code",
   "execution_count": 25,
   "id": "a903bf90",
   "metadata": {},
   "outputs": [
    {
     "name": "stdout",
     "output_type": "stream",
     "text": [
      "\n",
      "Das T-shirt hat die Größe M.\n",
      "Auf dem T-Shirt steht:Sowas\n"
     ]
    }
   ],
   "source": [
    "def make_shirt(size, shirt_message):\n",
    "    print(f\"\\nDas T-shirt hat die Größe {size}.\")\n",
    "    print(f\"Auf dem T-Shirt steht:{shirt_message}\")\n",
    "          \n",
    "make_shirt(\"M\", \"Sowas\")"
   ]
  },
  {
   "cell_type": "code",
   "execution_count": 28,
   "id": "8eb4f9af",
   "metadata": {},
   "outputs": [
    {
     "name": "stdout",
     "output_type": "stream",
     "text": [
      "Venice is in Italy.\n"
     ]
    }
   ],
   "source": [
    "def describe_city(city, country=\"Italy\"):\n",
    "    print(f\"{city.title()} is in {country.title()}.\")\n",
    "    \n",
    "describe_city(\"Venice\")"
   ]
  },
  {
   "cell_type": "code",
   "execution_count": 30,
   "id": "e4599966",
   "metadata": {},
   "outputs": [
    {
     "name": "stdout",
     "output_type": "stream",
     "text": [
      "Hello Alice\n"
     ]
    }
   ],
   "source": [
    "def sayhello(name):\n",
    "    print(\"Hello \" + name)\n",
    "    \n",
    "sayhello(\"Alice\")"
   ]
  },
  {
   "cell_type": "code",
   "execution_count": 33,
   "id": "2fb32e56",
   "metadata": {},
   "outputs": [
    {
     "name": "stdout",
     "output_type": "stream",
     "text": [
      "Jimi Hendrix\n"
     ]
    }
   ],
   "source": [
    "def get_formatted_name(first_name, last_name):\n",
    "    full_name = f\"{first_name} {last_name}\"\n",
    "    return full_name.title()\n",
    "\n",
    "musician = get_formatted_name(\"jimi\", \"hendrix\")\n",
    "print(musician)"
   ]
  },
  {
   "cell_type": "code",
   "execution_count": 3,
   "id": "0f929009",
   "metadata": {},
   "outputs": [
    {
     "name": "stdout",
     "output_type": "stream",
     "text": [
      "{'Artist': 'Beatles', 'Album': 'White Album', 'Tracks': 20}\n"
     ]
    }
   ],
   "source": [
    "def make_album(artist_name, album_title, tracks=None):\n",
    "    #return album info:\n",
    "    album = {\"Artist\": artist_name.title(), \"Album\": album_title.title()}\n",
    "    if tracks:\n",
    "        album[\"Tracks\"] = tracks\n",
    "    return album\n",
    "\n",
    "album_info = make_album(\"Beatles\", \"White Album\", tracks=20)\n",
    "print(album_info)\n"
   ]
  },
  {
   "cell_type": "code",
   "execution_count": 42,
   "id": "67089173",
   "metadata": {},
   "outputs": [
    {
     "name": "stdout",
     "output_type": "stream",
     "text": [
      "Cologne, Germany\n"
     ]
    }
   ],
   "source": [
    "def city_country(city, country):\n",
    "    print(f\"{city.title()}, {country.title()}\"\n",
    "             \n",
    "city_country(\"cologne\", \"germany\")"
   ]
  },
  {
   "cell_type": "code",
   "execution_count": 4,
   "id": "96dfe8d1",
   "metadata": {},
   "outputs": [
    {
     "name": "stdout",
     "output_type": "stream",
     "text": [
      "\n",
      "Please tell me your name:\n",
      "(enter 'q' at any time to quit)\n",
      "First name: q\n"
     ]
    }
   ],
   "source": [
    "def get_formatted_name(first_name, last_name):\n",
    "    full_name = f\"{first_name} {last_name}\"\n",
    "    return full_name.title\n",
    "\n",
    "while True:\n",
    "    print(\"\\nPlease tell me your name:\")\n",
    "    print(\"(enter 'q' at any time to quit)\")\n",
    "    \n",
    "    f_name = input(\"First name: \")\n",
    "    if f_name == 'q':\n",
    "        break\n",
    "        \n",
    "    l_name = input(\"Last name: \")\n",
    "    if l_name == 'q':\n",
    "        break\n",
    "        \n",
    "    formatted_name = get_formatted_name(f_name, l_name)\n",
    "    print(f\"\\nHello, {formatted_name}!\")"
   ]
  },
  {
   "cell_type": "code",
   "execution_count": 8,
   "id": "86034b38",
   "metadata": {},
   "outputs": [
    {
     "name": "stdout",
     "output_type": "stream",
     "text": [
      "\n",
      "Please enter favourite Artist and Album:\n",
      "(enter 'q' anytime to quit)\n",
      "Artist:q\n"
     ]
    }
   ],
   "source": [
    "def make_album(artist_name, album_title):\n",
    "    #return album info:\n",
    "    album = f\"{artist_name} {album_title}\"\n",
    "    return album.title()\n",
    "\n",
    "    \n",
    "while True:\n",
    "    print(\"\\nPlease enter favourite Artist and Album:\")\n",
    "    print(\"(enter 'q' anytime to quit)\")\n",
    "    \n",
    "    \n",
    "    a_name = input(\"Artist:\")\n",
    "    if a_name == 'q':\n",
    "        break\n",
    "        \n",
    "    a_title = input(\"Album:\")\n",
    "    if a_title == 'q':\n",
    "        break\n",
    "        \n",
    "    album_info = make_album(a_name.title(), a_title.title())\n",
    "    print(album_info)"
   ]
  },
  {
   "cell_type": "code",
   "execution_count": 7,
   "id": "eabfb90c",
   "metadata": {},
   "outputs": [
    {
     "name": "stdout",
     "output_type": "stream",
     "text": [
      "you can't divide by zero!\n"
     ]
    }
   ],
   "source": [
    "try:\n",
    "    print(5/0)\n",
    "except ZeroDivisionError:\n",
    "    print(\"you can't divide by zero!\")"
   ]
  },
  {
   "cell_type": "code",
   "execution_count": 9,
   "id": "2a723de8",
   "metadata": {},
   "outputs": [
    {
     "name": "stdout",
     "output_type": "stream",
     "text": [
      "Give me two numbers, and I'll divide them.\n",
      "Enter 'quit' anytime.\n",
      "\n",
      "First number: 63\n",
      "\n",
      "Second number: 7\n",
      "9.0\n",
      "\n",
      "First number: 89\n",
      "\n",
      "Second number: 0\n",
      "You can't divide by 0!\n",
      "\n",
      "First number: quit\n"
     ]
    }
   ],
   "source": [
    "print(\"Give me two numbers, and I'll divide them.\")\n",
    "print(\"Enter 'quit' anytime.\")\n",
    "\n",
    "while True:\n",
    "    first_number = input(\"\\nFirst number: \")\n",
    "    if first_number == 'quit':\n",
    "        break\n",
    "    \n",
    "    second_number = input(\"\\nSecond number: \")\n",
    "    if second_number == 'quit':\n",
    "        break\n",
    "        \n",
    "    try:\n",
    "        answer = int(first_number) / int(second_number)\n",
    "    except ZeroDivisionError:\n",
    "        print(\"You can't divide by 0!\")\n",
    "    else:\n",
    "        print(answer)\n",
    "    "
   ]
  },
  {
   "cell_type": "code",
   "execution_count": 12,
   "id": "facee263",
   "metadata": {},
   "outputs": [
    {
     "name": "stdout",
     "output_type": "stream",
     "text": [
      "Sorry, file alice.txt was not found.\n"
     ]
    }
   ],
   "source": [
    "filename = \"alice.txt\"\n",
    "\n",
    "try:\n",
    "    with open(filename, encoding='utf-8') as f:\n",
    "        contents = f.read()\n",
    "except FileNotFoundError:\n",
    "    print(f\"Sorry, file {filename} was not found.\")\n",
    "    \n",
    "    "
   ]
  },
  {
   "cell_type": "code",
   "execution_count": 16,
   "id": "db1ad0e8",
   "metadata": {},
   "outputs": [
    {
     "name": "stdout",
     "output_type": "stream",
     "text": [
      "The text has about 29465 words.\n",
      "The text has about 189079 words.\n",
      "Sorry, file siddharta.txt was not found.\n",
      "The text has about 215830 words.\n",
      "Sorry, file programming.txt was not found.\n"
     ]
    }
   ],
   "source": [
    "def count_words(file):\n",
    "    \n",
    "    try:\n",
    "        with open(file, encoding='utf-8') as f:\n",
    "            contents = f.read()\n",
    "    except FileNotFoundError:\n",
    "        print(f\"Sorry, file {file} was not found.\")\n",
    "    else:\n",
    "        words = contents.split()\n",
    "        num_words = len(words)\n",
    "        print(f\"The text has about {num_words} words.\")\n",
    "\n",
    "filenames = [\"alice.txt\", \"little_women.txt\", \"siddharta.txt\", \"moby_dick.txt\", \"programming.txt\"]\n",
    "for file in filenames:\n",
    "    count_words(file)"
   ]
  },
  {
   "cell_type": "code",
   "execution_count": 22,
   "id": "1be7364f",
   "metadata": {},
   "outputs": [
    {
     "name": "stdout",
     "output_type": "stream",
     "text": [
      "Geben Sie bitte zwei Zahlen ein, damit ich sie addieren kann.\n",
      "Mit 'e' können Sie das Programm beenden.\n",
      "\n",
      "Erste Zahl: 5\n",
      "\n",
      "Zweite Zahl: 7\n",
      "12\n",
      "\n",
      "Erste Zahl: eins\n",
      "\n",
      "Zweite Zahl: 7\n",
      "Bitte geben Sie eine Zahl ein!\n",
      "\n",
      "Erste Zahl: e\n"
     ]
    }
   ],
   "source": [
    "print(\"Geben Sie bitte zwei Zahlen ein, damit ich sie addieren kann.\")\n",
    "print(\"Mit 'e' können Sie das Programm beenden.\")\n",
    "\n",
    "while True:\n",
    "       \n",
    "        first_number = input(\"\\nErste Zahl: \")\n",
    "        if first_number == 'e':\n",
    "            break\n",
    "        \n",
    "        second_number = input(\"\\nZweite Zahl: \")\n",
    "        if second_number == 'e':\n",
    "            break\n",
    "            \n",
    "        try:\n",
    "            answer = int(first_number) + int(second_number)\n",
    "        except ValueError:\n",
    "            print(\"Bitte geben Sie eine Zahl ein!\")\n",
    "        else:\n",
    "            print(answer)\n",
    "    "
   ]
  },
  {
   "cell_type": "code",
   "execution_count": 23,
   "id": "7f896594",
   "metadata": {},
   "outputs": [],
   "source": [
    "filename = \"cats.txt\"\n",
    "\n",
    "with open(filename, 'a') as f:\n",
    "    f.write(\"Bilbo is a cat.\\n\")\n",
    "    f.write(\"Masha is a cat.\\n\")\n",
    "    f.write(\"Teddy is not a cat.\")\n",
    "    "
   ]
  },
  {
   "cell_type": "code",
   "execution_count": 25,
   "id": "08781a36",
   "metadata": {},
   "outputs": [
    {
     "name": "stdout",
     "output_type": "stream",
     "text": [
      "Bilbo is a cat.\n",
      "\n",
      "Masha is a cat.\n",
      "\n",
      "Teddy is not a cat.\n"
     ]
    }
   ],
   "source": [
    "filename = \"cats.txt\"\n",
    "\n",
    "with open(filename, \"r\") as f:\n",
    "    for line in f:\n",
    "        print(line)"
   ]
  },
  {
   "cell_type": "code",
   "execution_count": 29,
   "id": "848cf02e",
   "metadata": {},
   "outputs": [
    {
     "name": "stdout",
     "output_type": "stream",
     "text": [
      "Bilbo is not a dog.Masha is not a dog.Teddy is not a dog.Bilbo is not a dog. Masha is not a dog. Teddy is not a dog. \n"
     ]
    }
   ],
   "source": [
    "filename = \"dogs.txt\"\n",
    "\n",
    "with open(filename, \"r\") as f:\n",
    "    for line in f:\n",
    "        print(line)"
   ]
  },
  {
   "cell_type": "code",
   "execution_count": 32,
   "id": "92ce4c17",
   "metadata": {},
   "outputs": [
    {
     "name": "stdout",
     "output_type": "stream",
     "text": [
      "Bilbo is a cat.\n",
      "\n",
      "Masha is a cat.\n",
      "\n",
      "Teddy is not a cat.\n",
      "Bilbo is not a dog.Masha is not a dog.Teddy is not a dog.Bilbo is not a dog. Masha is not a dog. Teddy is not a dog. \n"
     ]
    }
   ],
   "source": [
    "#funktion, um files zu öffnen und einzulesen:\n",
    "def reading_files(files):\n",
    "    #try-except Block, um FileNotFoundError zu umgehen:\n",
    "    try:\n",
    "        with open(file, encoding='utf-8') as f:\n",
    "            for line in f:\n",
    "                print(line)\n",
    "                \n",
    "    except FileNotFoundError:\n",
    "        pass\n",
    "        \n",
    "files = [\"cats.txt\", \"dogs.txt\", \"mice.txt\"]\n",
    "\n",
    "for file in files:\n",
    "    reading_files(file)\n",
    "            \n",
    "\n",
    "\n",
    "\n",
    "    "
   ]
  },
  {
   "cell_type": "code",
   "execution_count": 88,
   "id": "223498f6",
   "metadata": {},
   "outputs": [
    {
     "name": "stdout",
     "output_type": "stream",
     "text": [
      "Die Datei 'Moby Dick.txt' ist nicht auffindbar.\n",
      "Die Datei 'Little woman.txt' ist nicht auffindbar.\n"
     ]
    }
   ],
   "source": [
    "#funktion für csvfile:\n",
    "\n",
    "def writeOut(output_data):\n",
    "    with open(\"Wort_im_text.csv\", \"w\", newline = '') as csvfile:\n",
    "        writer = csv.writer(csvfile)\n",
    "        writer.writerows(output_data)\n",
    "\n",
    "#Funktion \n",
    "def counting_tier(text):\n",
    "    #try-except-Block für Error:\n",
    "    \n",
    "    try:\n",
    "        with open(text, \"r\") as file:\n",
    "            content = file.read()\n",
    "            \n",
    "    except FileNotFoundError:\n",
    "        print(f\"Die Datei '{text}' ist nicht auffindbar.\")\n",
    "    else:\n",
    "        number = content.count(\"and\")\n",
    "        output_data = f\"Im Text '{text}' kommt das Wort 'the' {number}-Mal vor\"\n",
    "        \n",
    "        writeOut(output_data)\n",
    "        \n",
    "text = [\"alice.txt\", \"Ameisenkaiser.txt\", \"Hans Fallada.txt\", \"Moby Dick.txt\", \"Little woman.txt\"]\n",
    "for file in text:\n",
    "    counting_tier(file)\n",
    "    "
   ]
  },
  {
   "cell_type": "code",
   "execution_count": 67,
   "id": "12e49a45",
   "metadata": {},
   "outputs": [],
   "source": [
    "import csv\n",
    "\n",
    "# Versuch Daten als csv zu schreiben:\n",
    "numbers = [1, 2, 3, 4, 5, 6, 7, 8, 9]\n",
    "\n",
    "filename= \"numbers.csv\"\n",
    "\n",
    "with open (filename, \"w\") as f:\n",
    "    writer = csv.writer(f)\n",
    "    writer.writerow(numbers)"
   ]
  },
  {
   "cell_type": "code",
   "execution_count": 51,
   "id": "b6e025e1",
   "metadata": {},
   "outputs": [
    {
     "name": "stdout",
     "output_type": "stream",
     "text": [
      "['1', '2', '3', '4', '5', '6', '7', '8', '9']\n"
     ]
    }
   ],
   "source": [
    "# Versuch die geschriebene Datei zu lesen:\n",
    "\n",
    "filename = \"numbers.csv\"\n",
    "data = []\n",
    "\n",
    "with open (filename) as csvfile:\n",
    "    reader = csv.reader(csvfile, delimiter = ',')\n",
    "    for row in reader:\n",
    "        print(row)\n",
    "    "
   ]
  },
  {
   "cell_type": "code",
   "execution_count": 62,
   "id": "6d483c65",
   "metadata": {},
   "outputs": [
    {
     "name": "stdout",
     "output_type": "stream",
     "text": [
      "Bitte geben Sie Ihren Namen ein: Dragi Jellypopo\n",
      "Vielen Dank, Dragi Jellypopo. Bis zum nächsten Mal!\n"
     ]
    }
   ],
   "source": [
    "#Wir speichern Benutzerinformationen in einer CSV-Datei:\n",
    "\n",
    "username = input(\"Bitte geben Sie Ihren Namen ein: \")\n",
    "\n",
    "filename = \"username.csv\"\n",
    "\n",
    "with open(filename, 'w') as csvfile:\n",
    "    writer = csv.writer(csvfile)\n",
    "    writer.writerow(username)\n",
    "    print(f\"Vielen Dank, {username}. Bis zum nächsten Mal!\")"
   ]
  },
  {
   "cell_type": "code",
   "execution_count": 82,
   "id": "e1115817",
   "metadata": {},
   "outputs": [],
   "source": [
    "#Einlesen der Username Datei\n",
    "\n",
    "header = [\"Course\", \"Link\", \"Error Code\", \"Status\"]\n",
    "data = [[\"ABC001\", \"www.blubb.de\", \"404\", \"HTTPError\"],\n",
    "       ['Algeria', 2381741, 'DZ', 'DZA'],\n",
    "       ['American Samoa', 199, 'AS', 'ASM'],]\n",
    "       \n",
    "with open(\"all-links_checked.csv\", \"w\", newline = '') as csvfile:\n",
    "    writer = csv.writer(csvfile)\n",
    "    writer.writerow(header)\n",
    "    writer.writerows(data)"
   ]
  },
  {
   "cell_type": "code",
   "execution_count": 83,
   "id": "262ad877",
   "metadata": {},
   "outputs": [
    {
     "name": "stdout",
     "output_type": "stream",
     "text": [
      "['Course', 'Link', 'Error Code', 'Status']\n",
      "['ABC001', 'www.blubb.de', '404', 'HTTPError']\n",
      "['Algeria', '2381741', 'DZ', 'DZA']\n",
      "['American Samoa', '199', 'AS', 'ASM']\n"
     ]
    }
   ],
   "source": [
    "with open (\"all-links_checked.csv\", \"r\") as csvfile:\n",
    "    reader = csv.reader(csvfile, delimiter = ',')\n",
    "    for row in reader:\n",
    "        print(row)"
   ]
  },
  {
   "cell_type": "code",
   "execution_count": 181,
   "id": "f99aabfc",
   "metadata": {},
   "outputs": [
    {
     "name": "stdout",
     "output_type": "stream",
     "text": [
      "HTTP error occurred: 404 Client Error: Not Found for url: https://api.github.com/invalid\n",
      "Other error occurred: HTTPSConnectionPool(host='www.gutenberg.org', port=443): Max retries exceeded with url: / (Caused by NewConnectionError('<urllib3.connection.HTTPSConnection object at 0x7f3edf956730>: Failed to establish a new connection: [Errno 111] Connection refused'))\n",
      "Other error occurred: HTTPConnectionPool(host='10.1891', port=80): Max retries exceeded with url: /0886-6708.27.2.263 (Caused by ConnectTimeoutError(<urllib3.connection.HTTPConnection object at 0x7f3edfd274f0>, 'Connection to 10.1891 timed out. (connect timeout=10)'))\n"
     ]
    }
   ],
   "source": [
    "#Versuche mit request\n",
    "#Urls die request testen soll\n",
    "urls = [\n",
    "    \"https://api.github.com/invalid\",\n",
    "    \"https://www.gutenberg.org/\",\n",
    "    \"http://10.1891/0886-6708.27.2.263\",\n",
    "]\n",
    "import requests\n",
    "from requests.exceptions import HTTPError\n",
    "\n",
    "for url in urls:\n",
    "    try:\n",
    "        response = requests.head(url, timeout=10)\n",
    "        response.raise_for_status() #getting the http status\n",
    "        #status = response.status_code\n",
    "        \n",
    "    except HTTPError as http_err:\n",
    "            print(f'HTTP error occurred: {http_err}')\n",
    "            \n",
    "    except Exception as err:\n",
    "            print(f'Other error occurred: {err}')\n",
    "\n"
   ]
  },
  {
   "cell_type": "code",
   "execution_count": 27,
   "id": "716dfa96",
   "metadata": {},
   "outputs": [],
   "source": [
    "#Versuch dass program die URLs von csv Datei einliest. Darum schreibe ich neue csv-Datei:\n",
    "header = [\"Course\", \"Title\", \"Link\"]\n",
    "data = [[\"MED123\",\"Medien Online\",\"https://api.github.com/invalid\"],\n",
    "[\"LIT123\",\"Freie Medien\", \"https://www.gutenberg.org/\"],\n",
    "[\"OCB123\", \"Link\", \"https://www.bibgndk.co.uk/\"],]\n",
    "           \n",
    "       \n",
    "with open(\"all-links_checked.csv\", \"w\", newline = '') as csvfile:\n",
    "    writer = csv.writer(csvfile)\n",
    "    writer.writerow(header)\n",
    "    writer.writerows(data)\n"
   ]
  },
  {
   "cell_type": "code",
   "execution_count": 20,
   "id": "385067b9",
   "metadata": {},
   "outputs": [],
   "source": [
    "#nun lese ich die Datei ein und lasse request laufen:\n",
    "import requests\n",
    "from requests.exceptions import HTTPError\n",
    "\n",
    "urls =[]\n",
    "\n",
    "with open (\"all-links_checked.csv\", newline = '') as inputfile:\n",
    "    reader = csv.reader(inputfile, delimiter = ',')\n",
    "    \n",
    "for url in urls:\n",
    "    try:\n",
    "        response = requests.head(url, timeout=10)\n",
    "        response.raise_for_status() #getting the http status\n",
    "        #status = response.status_code\n",
    "        \n",
    "    except HTTPError as http_err:\n",
    "            print(f'HTTP error occurred: {http_err}')\n",
    "            \n",
    "    except Exception as err:\n",
    "            print(f'Other error occurred: {err}')"
   ]
  },
  {
   "cell_type": "code",
   "execution_count": 178,
   "id": "cc4cd64a",
   "metadata": {},
   "outputs": [],
   "source": [
    "#als nächsten Schritt, möchte ich, dass mir das programm das ergebnis in eine csv-Datei schreibt\n",
    "\n",
    "import requests\n",
    "from requests.exceptions import HTTPError\n",
    "\n",
    "#links =[]\n",
    "#with open (\"all-links_checked.csv\", newline = '') as inputfile:\n",
    "    #for line in inputfile.readlines():\n",
    "        #array = line.split(',')\n",
    "        #first_item = array[0]\n",
    "        \n",
    "    #readerobj = csv.reader(inputfile, delimiter = ',')\n",
    "    #included_col = [2]\n",
    "    \n",
    "    #for row in readerobj:\n",
    "        \n",
    "        #content = list(row[i] for i in included_col)\n",
    "        #if readerobj.line_num == 1: #skip header\n",
    "            #links.append(row)\n",
    "        \n",
    "#error_status_codes=[]  \n",
    "\n",
    "urls = [\n",
    "    \"https://api.github.com/invalid\",\n",
    "    \"https://www.gutenberg.org/\",\n",
    "    \"http://dx.doi.org/10.1017/9781108848916\",\n",
    "]\n",
    "\n",
    "error_status_codes = []\n",
    "for url in urls:\n",
    "    try:\n",
    "        response = requests.head(url, timeout=10)\n",
    "        response.raise_for_status\n",
    "            #getting the http status\n",
    "        #status = str(response.status_code())\n",
    "        \n",
    "    except HTTPError as http_err:\n",
    "        if status == 404:\n",
    "            #error_status_codes.append(f\"http_err\"+\",\" + status)\n",
    "            error_status_codes.append(f'HTTP error occurred: {http_err}')\n",
    "            #print(f'HTTP error occurred: {http_err}')\n",
    "            \n",
    "    except Exception as err:\n",
    "        #if status != 200:\n",
    "            \n",
    "            error_status_codes.append(f\",\" + status)\n",
    "        \n",
    "            #print(f'Other error occurred: {err}')\n",
    "    writeOut(error_status_codes)"
   ]
  },
  {
   "cell_type": "code",
   "execution_count": 174,
   "id": "d0eb8bca",
   "metadata": {},
   "outputs": [],
   "source": [
    "import csv\n",
    "\n",
    "def writeOut(error_status_codes):\n",
    "    with open('links_checked.csv', 'a') as csv_output:\n",
    "        writer_object = csv.writer(csv_output)\n",
    "        writer_object.writerow(error_status_codes)"
   ]
  },
  {
   "cell_type": "code",
   "execution_count": 173,
   "id": "21d830fb",
   "metadata": {},
   "outputs": [],
   "source": [
    "import csv\n",
    "with open('all_links_broken.csv', 'w') as csv_output:\n",
    "        writer_object = csv.writer(csv_output)\n",
    "        writer_object.writerow([\"Error Code\", \"Link\"])"
   ]
  },
  {
   "cell_type": "code",
   "execution_count": 17,
   "id": "9aeda0cb",
   "metadata": {},
   "outputs": [
    {
     "name": "stdout",
     "output_type": "stream",
     "text": [
      "[]\n"
     ]
    }
   ],
   "source": [
    "import csv\n",
    "links =[]\n",
    "with open (\"Readinglist_1.csv\", newline = '') as inputfile:\n",
    "    for line in inputfile.readlines():\n",
    "        array = line.split(',')\n",
    "        first_item = array[0]\n",
    "    #n = len(array)\n",
    "    #inputfile.seek(0)\n",
    "    \n",
    "    readerobj = csv.reader(inputfile, delimiter = ',')\n",
    "    \n",
    "        \n",
    "    for row in readerobj:\n",
    "        #included_col = [3]\n",
    "        #content = list(row[i] for i in included_col)\n",
    "        #if readerobj.line_num == 1:\n",
    "            #continue #skip header\n",
    "        links.append(row)\n",
    "    print(links)\n",
    "        "
   ]
  },
  {
   "cell_type": "code",
   "execution_count": 21,
   "id": "04019ac4",
   "metadata": {},
   "outputs": [],
   "source": [
    "import requests\n",
    "from requests.exceptions import HTTPError\n",
    "import csv\n",
    "import pandas as pd"
   ]
  },
  {
   "cell_type": "code",
   "execution_count": 22,
   "id": "fc4bd0a5",
   "metadata": {},
   "outputs": [
    {
     "data": {
      "text/html": [
       "<div>\n",
       "<style scoped>\n",
       "    .dataframe tbody tr th:only-of-type {\n",
       "        vertical-align: middle;\n",
       "    }\n",
       "\n",
       "    .dataframe tbody tr th {\n",
       "        vertical-align: top;\n",
       "    }\n",
       "\n",
       "    .dataframe thead th {\n",
       "        text-align: right;\n",
       "    }\n",
       "</style>\n",
       "<table border=\"1\" class=\"dataframe\">\n",
       "  <thead>\n",
       "    <tr style=\"text-align: right;\">\n",
       "      <th></th>\n",
       "      <th>Course</th>\n",
       "      <th>Title</th>\n",
       "      <th>Link</th>\n",
       "    </tr>\n",
       "  </thead>\n",
       "  <tbody>\n",
       "    <tr>\n",
       "      <th>0</th>\n",
       "      <td>MED123</td>\n",
       "      <td>Medien Online</td>\n",
       "      <td>https://api.github.com/invalid</td>\n",
       "    </tr>\n",
       "    <tr>\n",
       "      <th>1</th>\n",
       "      <td>LIT123</td>\n",
       "      <td>Freie Medien</td>\n",
       "      <td>https://www.gutenberg.org/</td>\n",
       "    </tr>\n",
       "    <tr>\n",
       "      <th>2</th>\n",
       "      <td>OCB123</td>\n",
       "      <td>Link</td>\n",
       "      <td>https://www.bibgndk.co.uk/</td>\n",
       "    </tr>\n",
       "  </tbody>\n",
       "</table>\n",
       "</div>"
      ],
      "text/plain": [
       "   Course          Title                            Link\n",
       "0  MED123  Medien Online  https://api.github.com/invalid\n",
       "1  LIT123   Freie Medien      https://www.gutenberg.org/\n",
       "2  OCB123           Link      https://www.bibgndk.co.uk/"
      ]
     },
     "execution_count": 22,
     "metadata": {},
     "output_type": "execute_result"
    }
   ],
   "source": [
    "\n",
    "df = pd.read_csv(\"all-links_checked.csv\")\n",
    "\n",
    "df"
   ]
  },
  {
   "cell_type": "code",
   "execution_count": 23,
   "id": "52004452",
   "metadata": {},
   "outputs": [],
   "source": [
    "Links = df.Link"
   ]
  },
  {
   "cell_type": "code",
   "execution_count": 24,
   "id": "f483637b",
   "metadata": {},
   "outputs": [
    {
     "data": {
      "text/plain": [
       "0    https://api.github.com/invalid\n",
       "1        https://www.gutenberg.org/\n",
       "2        https://www.bibgndk.co.uk/\n",
       "Name: Link, dtype: object"
      ]
     },
     "execution_count": 24,
     "metadata": {},
     "output_type": "execute_result"
    }
   ],
   "source": [
    "Links"
   ]
  },
  {
   "cell_type": "code",
   "execution_count": 26,
   "id": "fe80c1e2",
   "metadata": {},
   "outputs": [],
   "source": [
    "checked_status = []\n",
    "for url in Links:   \n",
    "    try:\n",
    "        response= requests.head(url)   \n",
    "        status= str(response.raise_for_status())  \n",
    "  \n",
    "        \n",
    "        #results.append(status)\n",
    "\n",
    "    #except Exception:\n",
    "        #if status == [404, 500]:\n",
    "        \n",
    "        \n",
    "    except HTTPError as http_err:\n",
    "            checked_status.append(f\"{url} + ',' + 'HTTP error occurred:' {http_err}\")\n",
    "            \n",
    "    except Exception as err:\n",
    "            checked_status.append(f\"{url} + ',' +'Other error occurred:' {err}\")\n",
    "            \n",
    "pd.Series(list(checked_status)).to_csv(\"broken_links.csv\", index=False)"
   ]
  },
  {
   "cell_type": "code",
   "execution_count": 92,
   "id": "e07be579",
   "metadata": {},
   "outputs": [],
   "source": [
    "import requests\n",
    "from requests.exceptions import HTTPError\n",
    "import csv\n",
    "import pandas as pd"
   ]
  },
  {
   "cell_type": "code",
   "execution_count": 158,
   "id": "d081a615",
   "metadata": {},
   "outputs": [
    {
     "data": {
      "text/html": [
       "<div>\n",
       "<style scoped>\n",
       "    .dataframe tbody tr th:only-of-type {\n",
       "        vertical-align: middle;\n",
       "    }\n",
       "\n",
       "    .dataframe tbody tr th {\n",
       "        vertical-align: top;\n",
       "    }\n",
       "\n",
       "    .dataframe thead th {\n",
       "        text-align: right;\n",
       "    }\n",
       "</style>\n",
       "<table border=\"1\" class=\"dataframe\">\n",
       "  <thead>\n",
       "    <tr style=\"text-align: right;\">\n",
       "      <th></th>\n",
       "      <th>Date Added</th>\n",
       "      <th>Title</th>\n",
       "      <th>Type</th>\n",
       "      <th>Item Link</th>\n",
       "      <th>Local Control Number</th>\n",
       "      <th>ISBN10</th>\n",
       "      <th>ISBN13</th>\n",
       "      <th>ISSN</th>\n",
       "      <th>EISSN</th>\n",
       "      <th>DOI</th>\n",
       "      <th>Importance</th>\n",
       "      <th>Note for Student</th>\n",
       "      <th>Note for Library</th>\n",
       "    </tr>\n",
       "  </thead>\n",
       "  <tbody>\n",
       "    <tr>\n",
       "      <th>0</th>\n",
       "      <td>20/06/2022 08:15:21</td>\n",
       "      <td>The Cambridge handbook of forensic psychology</td>\n",
       "      <td>Book</td>\n",
       "      <td>http://readinglists.mdx.ac.uk/items/7e5e9146-1...</td>\n",
       "      <td>9.910033e+17</td>\n",
       "      <td>1108816746</td>\n",
       "      <td>9781108816748</td>\n",
       "      <td>NaN</td>\n",
       "      <td>NaN</td>\n",
       "      <td>http://dx.doi.org/10.1017/9781108848916</td>\n",
       "      <td>Essential – PeT</td>\n",
       "      <td>NaN</td>\n",
       "      <td>NaN</td>\n",
       "    </tr>\n",
       "    <tr>\n",
       "      <th>1</th>\n",
       "      <td>20/06/2022 08:16:35</td>\n",
       "      <td>Criminological and Forensic Psychology</td>\n",
       "      <td>Book</td>\n",
       "      <td>http://readinglists.mdx.ac.uk/items/d2f67c23-8...</td>\n",
       "      <td>9.910033e+17</td>\n",
       "      <td>NaN</td>\n",
       "      <td>9781526424273</td>\n",
       "      <td>NaN</td>\n",
       "      <td>NaN</td>\n",
       "      <td>NaN</td>\n",
       "      <td>Recommended</td>\n",
       "      <td>NaN</td>\n",
       "      <td>NaN</td>\n",
       "    </tr>\n",
       "    <tr>\n",
       "      <th>2</th>\n",
       "      <td>20/06/2022 08:20:45</td>\n",
       "      <td>Special Issue: Feminisms and Decolonising Psyc...</td>\n",
       "      <td>Journal</td>\n",
       "      <td>http://readinglists.mdx.ac.uk/items/6056b91b-2...</td>\n",
       "      <td>NaN</td>\n",
       "      <td>NaN</td>\n",
       "      <td>NaN</td>\n",
       "      <td>NaN</td>\n",
       "      <td>NaN</td>\n",
       "      <td>NaN</td>\n",
       "      <td>Recommended</td>\n",
       "      <td>NaN</td>\n",
       "      <td>NaN</td>\n",
       "    </tr>\n",
       "    <tr>\n",
       "      <th>3</th>\n",
       "      <td>20/06/2022 08:21:22</td>\n",
       "      <td>Handbook of victims and victimology</td>\n",
       "      <td>Book</td>\n",
       "      <td>http://readinglists.mdx.ac.uk/items/53cf59fc-e...</td>\n",
       "      <td>9.910033e+17</td>\n",
       "      <td>1138889458 1138889466</td>\n",
       "      <td>9781138889460</td>\n",
       "      <td>NaN</td>\n",
       "      <td>NaN</td>\n",
       "      <td>NaN</td>\n",
       "      <td>Recommended</td>\n",
       "      <td>NaN</td>\n",
       "      <td>NaN</td>\n",
       "    </tr>\n",
       "    <tr>\n",
       "      <th>4</th>\n",
       "      <td>20/06/2022 08:23:50</td>\n",
       "      <td>Victimology – Podcast – Podtail</td>\n",
       "      <td>Webpage</td>\n",
       "      <td>http://readinglists.mdx.ac.uk/items/e90f87e5-e...</td>\n",
       "      <td>NaN</td>\n",
       "      <td>NaN</td>\n",
       "      <td>NaN</td>\n",
       "      <td>NaN</td>\n",
       "      <td>NaN</td>\n",
       "      <td>NaN</td>\n",
       "      <td>NaN</td>\n",
       "      <td>NaN</td>\n",
       "      <td>NaN</td>\n",
       "    </tr>\n",
       "    <tr>\n",
       "      <th>...</th>\n",
       "      <td>...</td>\n",
       "      <td>...</td>\n",
       "      <td>...</td>\n",
       "      <td>...</td>\n",
       "      <td>...</td>\n",
       "      <td>...</td>\n",
       "      <td>...</td>\n",
       "      <td>...</td>\n",
       "      <td>...</td>\n",
       "      <td>...</td>\n",
       "      <td>...</td>\n",
       "      <td>...</td>\n",
       "      <td>...</td>\n",
       "    </tr>\n",
       "    <tr>\n",
       "      <th>201</th>\n",
       "      <td>23/06/2022 13:47:11</td>\n",
       "      <td>Police Interviews of Sexual Assault Reporters:...</td>\n",
       "      <td>Article</td>\n",
       "      <td>http://readinglists.mdx.ac.uk/items/cd33bcc5-5...</td>\n",
       "      <td>NaN</td>\n",
       "      <td>NaN</td>\n",
       "      <td>NaN</td>\n",
       "      <td>0886-6708</td>\n",
       "      <td>1945-7073</td>\n",
       "      <td>10.1891/0886-6708.27.2.263</td>\n",
       "      <td>NaN</td>\n",
       "      <td>NaN</td>\n",
       "      <td>NaN</td>\n",
       "    </tr>\n",
       "    <tr>\n",
       "      <th>202</th>\n",
       "      <td>23/06/2022 13:47:28</td>\n",
       "      <td>Comparing Rape Victim and Perpetrator Blaming ...</td>\n",
       "      <td>Article</td>\n",
       "      <td>http://readinglists.mdx.ac.uk/items/09455750-b...</td>\n",
       "      <td>NaN</td>\n",
       "      <td>NaN</td>\n",
       "      <td>NaN</td>\n",
       "      <td>0093-8548</td>\n",
       "      <td>1552-3594</td>\n",
       "      <td>10.1177/0093854811434696</td>\n",
       "      <td>NaN</td>\n",
       "      <td>NaN</td>\n",
       "      <td>NaN</td>\n",
       "    </tr>\n",
       "    <tr>\n",
       "      <th>203</th>\n",
       "      <td>23/06/2022 13:47:46</td>\n",
       "      <td>Police Officer Schema of Sexual Assault Reports</td>\n",
       "      <td>Article</td>\n",
       "      <td>http://readinglists.mdx.ac.uk/items/a6f3f962-1...</td>\n",
       "      <td>NaN</td>\n",
       "      <td>NaN</td>\n",
       "      <td>NaN</td>\n",
       "      <td>0886-2605</td>\n",
       "      <td>1552-6518</td>\n",
       "      <td>10.1177/0886260514556765</td>\n",
       "      <td>NaN</td>\n",
       "      <td>NaN</td>\n",
       "      <td>NaN</td>\n",
       "    </tr>\n",
       "    <tr>\n",
       "      <th>204</th>\n",
       "      <td>23/06/2022 13:48:03</td>\n",
       "      <td>Making Judgments: How Blame Mediates the Influ...</td>\n",
       "      <td>Article</td>\n",
       "      <td>http://readinglists.mdx.ac.uk/items/aeefe60b-0...</td>\n",
       "      <td>NaN</td>\n",
       "      <td>NaN</td>\n",
       "      <td>NaN</td>\n",
       "      <td>0886-2605</td>\n",
       "      <td>1552-6518</td>\n",
       "      <td>10.1177/0886260516662437</td>\n",
       "      <td>NaN</td>\n",
       "      <td>NaN</td>\n",
       "      <td>NaN</td>\n",
       "    </tr>\n",
       "    <tr>\n",
       "      <th>205</th>\n",
       "      <td>23/06/2022 13:48:15</td>\n",
       "      <td>Police Perceptions of Sexual Assault Victims</td>\n",
       "      <td>Article</td>\n",
       "      <td>http://readinglists.mdx.ac.uk/items/c005c6b5-3...</td>\n",
       "      <td>NaN</td>\n",
       "      <td>NaN</td>\n",
       "      <td>NaN</td>\n",
       "      <td>1098-6111</td>\n",
       "      <td>1552-745X</td>\n",
       "      <td>10.1177/1098611111432843</td>\n",
       "      <td>NaN</td>\n",
       "      <td>NaN</td>\n",
       "      <td>NaN</td>\n",
       "    </tr>\n",
       "  </tbody>\n",
       "</table>\n",
       "<p>206 rows × 13 columns</p>\n",
       "</div>"
      ],
      "text/plain": [
       "              Date Added                                              Title  \\\n",
       "0    20/06/2022 08:15:21      The Cambridge handbook of forensic psychology   \n",
       "1    20/06/2022 08:16:35             Criminological and Forensic Psychology   \n",
       "2    20/06/2022 08:20:45  Special Issue: Feminisms and Decolonising Psyc...   \n",
       "3    20/06/2022 08:21:22                Handbook of victims and victimology   \n",
       "4    20/06/2022 08:23:50                    Victimology – Podcast – Podtail   \n",
       "..                   ...                                                ...   \n",
       "201  23/06/2022 13:47:11  Police Interviews of Sexual Assault Reporters:...   \n",
       "202  23/06/2022 13:47:28  Comparing Rape Victim and Perpetrator Blaming ...   \n",
       "203  23/06/2022 13:47:46    Police Officer Schema of Sexual Assault Reports   \n",
       "204  23/06/2022 13:48:03  Making Judgments: How Blame Mediates the Influ...   \n",
       "205  23/06/2022 13:48:15       Police Perceptions of Sexual Assault Victims   \n",
       "\n",
       "        Type                                          Item Link  \\\n",
       "0       Book  http://readinglists.mdx.ac.uk/items/7e5e9146-1...   \n",
       "1       Book  http://readinglists.mdx.ac.uk/items/d2f67c23-8...   \n",
       "2    Journal  http://readinglists.mdx.ac.uk/items/6056b91b-2...   \n",
       "3       Book  http://readinglists.mdx.ac.uk/items/53cf59fc-e...   \n",
       "4    Webpage  http://readinglists.mdx.ac.uk/items/e90f87e5-e...   \n",
       "..       ...                                                ...   \n",
       "201  Article  http://readinglists.mdx.ac.uk/items/cd33bcc5-5...   \n",
       "202  Article  http://readinglists.mdx.ac.uk/items/09455750-b...   \n",
       "203  Article  http://readinglists.mdx.ac.uk/items/a6f3f962-1...   \n",
       "204  Article  http://readinglists.mdx.ac.uk/items/aeefe60b-0...   \n",
       "205  Article  http://readinglists.mdx.ac.uk/items/c005c6b5-3...   \n",
       "\n",
       "     Local Control Number                 ISBN10         ISBN13       ISSN  \\\n",
       "0            9.910033e+17             1108816746  9781108816748        NaN   \n",
       "1            9.910033e+17                    NaN  9781526424273        NaN   \n",
       "2                     NaN                    NaN            NaN        NaN   \n",
       "3            9.910033e+17  1138889458 1138889466  9781138889460        NaN   \n",
       "4                     NaN                    NaN            NaN        NaN   \n",
       "..                    ...                    ...            ...        ...   \n",
       "201                   NaN                    NaN            NaN  0886-6708   \n",
       "202                   NaN                    NaN            NaN  0093-8548   \n",
       "203                   NaN                    NaN            NaN  0886-2605   \n",
       "204                   NaN                    NaN            NaN  0886-2605   \n",
       "205                   NaN                    NaN            NaN  1098-6111   \n",
       "\n",
       "         EISSN                                      DOI       Importance  \\\n",
       "0          NaN  http://dx.doi.org/10.1017/9781108848916  Essential – PeT   \n",
       "1          NaN                                      NaN      Recommended   \n",
       "2          NaN                                      NaN      Recommended   \n",
       "3          NaN                                      NaN      Recommended   \n",
       "4          NaN                                      NaN              NaN   \n",
       "..         ...                                      ...              ...   \n",
       "201  1945-7073               10.1891/0886-6708.27.2.263              NaN   \n",
       "202  1552-3594                 10.1177/0093854811434696              NaN   \n",
       "203  1552-6518                 10.1177/0886260514556765              NaN   \n",
       "204  1552-6518                 10.1177/0886260516662437              NaN   \n",
       "205  1552-745X                 10.1177/1098611111432843              NaN   \n",
       "\n",
       "    Note for Student Note for Library  \n",
       "0                NaN              NaN  \n",
       "1                NaN              NaN  \n",
       "2                NaN              NaN  \n",
       "3                NaN              NaN  \n",
       "4                NaN              NaN  \n",
       "..               ...              ...  \n",
       "201              NaN              NaN  \n",
       "202              NaN              NaN  \n",
       "203              NaN              NaN  \n",
       "204              NaN              NaN  \n",
       "205              NaN              NaN  \n",
       "\n",
       "[206 rows x 13 columns]"
      ]
     },
     "execution_count": 158,
     "metadata": {},
     "output_type": "execute_result"
    }
   ],
   "source": [
    "Reading_list = pd.read_csv(\"Readinglist_1.csv\")\n",
    "\n",
    "Reading_list"
   ]
  },
  {
   "cell_type": "code",
   "execution_count": 162,
   "id": "bed47b71",
   "metadata": {},
   "outputs": [],
   "source": [
    "#item_link = Reading_list.iloc[:, 3 ]\n",
    "item_link = Reading_list[[\"Item Link\"]]"
   ]
  },
  {
   "cell_type": "code",
   "execution_count": 163,
   "id": "a15ea014",
   "metadata": {},
   "outputs": [
    {
     "data": {
      "text/html": [
       "<div>\n",
       "<style scoped>\n",
       "    .dataframe tbody tr th:only-of-type {\n",
       "        vertical-align: middle;\n",
       "    }\n",
       "\n",
       "    .dataframe tbody tr th {\n",
       "        vertical-align: top;\n",
       "    }\n",
       "\n",
       "    .dataframe thead th {\n",
       "        text-align: right;\n",
       "    }\n",
       "</style>\n",
       "<table border=\"1\" class=\"dataframe\">\n",
       "  <thead>\n",
       "    <tr style=\"text-align: right;\">\n",
       "      <th></th>\n",
       "      <th>Item Link</th>\n",
       "    </tr>\n",
       "  </thead>\n",
       "  <tbody>\n",
       "    <tr>\n",
       "      <th>0</th>\n",
       "      <td>http://readinglists.mdx.ac.uk/items/7e5e9146-1...</td>\n",
       "    </tr>\n",
       "    <tr>\n",
       "      <th>1</th>\n",
       "      <td>http://readinglists.mdx.ac.uk/items/d2f67c23-8...</td>\n",
       "    </tr>\n",
       "    <tr>\n",
       "      <th>2</th>\n",
       "      <td>http://readinglists.mdx.ac.uk/items/6056b91b-2...</td>\n",
       "    </tr>\n",
       "    <tr>\n",
       "      <th>3</th>\n",
       "      <td>http://readinglists.mdx.ac.uk/items/53cf59fc-e...</td>\n",
       "    </tr>\n",
       "    <tr>\n",
       "      <th>4</th>\n",
       "      <td>http://readinglists.mdx.ac.uk/items/e90f87e5-e...</td>\n",
       "    </tr>\n",
       "    <tr>\n",
       "      <th>...</th>\n",
       "      <td>...</td>\n",
       "    </tr>\n",
       "    <tr>\n",
       "      <th>201</th>\n",
       "      <td>http://readinglists.mdx.ac.uk/items/cd33bcc5-5...</td>\n",
       "    </tr>\n",
       "    <tr>\n",
       "      <th>202</th>\n",
       "      <td>http://readinglists.mdx.ac.uk/items/09455750-b...</td>\n",
       "    </tr>\n",
       "    <tr>\n",
       "      <th>203</th>\n",
       "      <td>http://readinglists.mdx.ac.uk/items/a6f3f962-1...</td>\n",
       "    </tr>\n",
       "    <tr>\n",
       "      <th>204</th>\n",
       "      <td>http://readinglists.mdx.ac.uk/items/aeefe60b-0...</td>\n",
       "    </tr>\n",
       "    <tr>\n",
       "      <th>205</th>\n",
       "      <td>http://readinglists.mdx.ac.uk/items/c005c6b5-3...</td>\n",
       "    </tr>\n",
       "  </tbody>\n",
       "</table>\n",
       "<p>206 rows × 1 columns</p>\n",
       "</div>"
      ],
      "text/plain": [
       "                                             Item Link\n",
       "0    http://readinglists.mdx.ac.uk/items/7e5e9146-1...\n",
       "1    http://readinglists.mdx.ac.uk/items/d2f67c23-8...\n",
       "2    http://readinglists.mdx.ac.uk/items/6056b91b-2...\n",
       "3    http://readinglists.mdx.ac.uk/items/53cf59fc-e...\n",
       "4    http://readinglists.mdx.ac.uk/items/e90f87e5-e...\n",
       "..                                                 ...\n",
       "201  http://readinglists.mdx.ac.uk/items/cd33bcc5-5...\n",
       "202  http://readinglists.mdx.ac.uk/items/09455750-b...\n",
       "203  http://readinglists.mdx.ac.uk/items/a6f3f962-1...\n",
       "204  http://readinglists.mdx.ac.uk/items/aeefe60b-0...\n",
       "205  http://readinglists.mdx.ac.uk/items/c005c6b5-3...\n",
       "\n",
       "[206 rows x 1 columns]"
      ]
     },
     "execution_count": 163,
     "metadata": {},
     "output_type": "execute_result"
    }
   ],
   "source": [
    "item_link"
   ]
  },
  {
   "cell_type": "code",
   "execution_count": 165,
   "id": "f4de0520",
   "metadata": {},
   "outputs": [],
   "source": [
    "checked_status = []\n",
    "for url in item_link:\n",
    "    #um header in loop zu überspringen\n",
    "    if readerobj.line_num == 1:\n",
    "            continue\n",
    "    try:\n",
    "        response= requests.head(url)   \n",
    "        status = response.raise_for_status() \n",
    "  \n",
    "        \n",
    "        #results.append(status)\n",
    "\n",
    "    #except Exception:\n",
    "        #if status == [404, 500]:\n",
    "        \n",
    "        \n",
    "    except HTTPError as http_err:\n",
    "            \n",
    "            checked_status.append(f\"{url} + ',' + 'HTTP error occurred:' {http_err}\")\n",
    "            \n",
    "    except Exception as err:\n",
    "            \n",
    "            checked_status.append(f\"{url} + ',' +'Other error occurred:' {err}\")\n",
    "            \n",
    "pd.Series(list(checked_status)).to_csv(\"reading_list_checked.csv\", index=False)"
   ]
  },
  {
   "cell_type": "code",
   "execution_count": 166,
   "id": "294ad78b",
   "metadata": {},
   "outputs": [],
   "source": [
    "data = pd.read_csv(\"reading_list_checked.csv\")"
   ]
  },
  {
   "cell_type": "code",
   "execution_count": 167,
   "id": "36dcabc3",
   "metadata": {},
   "outputs": [
    {
     "data": {
      "text/html": [
       "<div>\n",
       "<style scoped>\n",
       "    .dataframe tbody tr th:only-of-type {\n",
       "        vertical-align: middle;\n",
       "    }\n",
       "\n",
       "    .dataframe tbody tr th {\n",
       "        vertical-align: top;\n",
       "    }\n",
       "\n",
       "    .dataframe thead th {\n",
       "        text-align: right;\n",
       "    }\n",
       "</style>\n",
       "<table border=\"1\" class=\"dataframe\">\n",
       "  <thead>\n",
       "    <tr style=\"text-align: right;\">\n",
       "      <th></th>\n",
       "      <th>0</th>\n",
       "    </tr>\n",
       "  </thead>\n",
       "  <tbody>\n",
       "    <tr>\n",
       "      <th>0</th>\n",
       "      <td>N</td>\n",
       "    </tr>\n",
       "    <tr>\n",
       "      <th>1</th>\n",
       "      <td>o</td>\n",
       "    </tr>\n",
       "    <tr>\n",
       "      <th>2</th>\n",
       "      <td>n</td>\n",
       "    </tr>\n",
       "    <tr>\n",
       "      <th>3</th>\n",
       "      <td>e</td>\n",
       "    </tr>\n",
       "  </tbody>\n",
       "</table>\n",
       "</div>"
      ],
      "text/plain": [
       "   0\n",
       "0  N\n",
       "1  o\n",
       "2  n\n",
       "3  e"
      ]
     },
     "execution_count": 167,
     "metadata": {},
     "output_type": "execute_result"
    }
   ],
   "source": [
    "data"
   ]
  },
  {
   "cell_type": "code",
   "execution_count": null,
   "id": "e084b06a",
   "metadata": {},
   "outputs": [],
   "source": []
  }
 ],
 "metadata": {
  "kernelspec": {
   "display_name": "Python 3 (ipykernel)",
   "language": "python",
   "name": "python3"
  },
  "language_info": {
   "codemirror_mode": {
    "name": "ipython",
    "version": 3
   },
   "file_extension": ".py",
   "mimetype": "text/x-python",
   "name": "python",
   "nbconvert_exporter": "python",
   "pygments_lexer": "ipython3",
   "version": "3.9.7"
  }
 },
 "nbformat": 4,
 "nbformat_minor": 5
}
